{
 "cells": [
  {
   "cell_type": "code",
   "execution_count": 1,
   "id": "0c408ac4",
   "metadata": {},
   "outputs": [],
   "source": [
    "import os\n",
    "import json\n",
    "import numpy as np\n",
    "import pandas as pd\n",
    "import torch\n",
    "from torch.utils.data import DataLoader\n",
    "import utils\n",
    "from models.trajfm import TrajFM\n",
    "from data import TrajFMDataset, fetch_task_padder, X_COL, Y_COL, coord_transform_GPS_UTM\n",
    "import warnings\n",
    "from pipeline import train_user_model, test_user_model\n",
    "import torch.multiprocessing as mp\n",
    "warnings.filterwarnings('ignore')"
   ]
  },
  {
   "cell_type": "code",
   "execution_count": 2,
   "id": "84217ed8",
   "metadata": {},
   "outputs": [
    {
     "name": "stdout",
     "output_type": "stream",
     "text": [
      "device: cuda\n"
     ]
    }
   ],
   "source": [
    "SETTINGS_CACHE_DIR = os.environ.get('SETTINGS_CACHE_DIR', os.path.join('settings', 'cache'))\n",
    "MODEL_CACHE_DIR = os.environ.get('MODEL_CACHE_DIR', 'saved_model')\n",
    "LOG_SAVE_DIR = os.environ.get('LOG_SAVE_DIR', 'logs')\n",
    "PRED_SAVE_DIR = os.environ.get('PRED_SAVE_DIR', 'predictions')\n",
    "\n",
    "SEED = 42\n",
    "np.random.seed(SEED)\n",
    "torch.manual_seed(SEED)\n",
    "torch.cuda.manual_seed_all(SEED)\n",
    "torch.backends.cudnn.deterministic = True\n",
    "torch.backends.cudnn.benchmark = False\n",
    "\n",
    "os.environ['CUDA_VISIBLE_DEVICES'] = '0'\n",
    "os.environ['PYDEVD_DISABLE_FILE_VALIDATION'] = '1'\n",
    "\n",
    "\n",
    "if mp.get_start_method(allow_none=True) is None:\n",
    "    mp.set_start_method('spawn')\n",
    "device = f'cuda' if torch.cuda.is_available() else 'cpu'\n",
    "\n",
    "torch.backends.cuda.enable_mem_efficient_sdp(False)\n",
    "torch.backends.cuda.enable_flash_sdp(False)\n",
    "torch.backends.cuda.enable_math_sdp(True)\n",
    "# This key is an indicator of multiple things.\n",
    "datetime_key = utils.get_datetime_key()\n",
    "\n",
    "\n",
    "with open(os.path.join('settings', f'local_test.json'), 'r') as fp:\n",
    "    setting = json.load(fp)\n",
    "    setting = setting[0]\n",
    "utils.create_if_noexists(SETTINGS_CACHE_DIR)\n",
    "with open(os.path.join(SETTINGS_CACHE_DIR, f'{datetime_key}.json'), 'w') as fp:\n",
    "    json.dump(setting, fp)\n",
    "    \n",
    "print(\"device:\", device)"
   ]
  },
  {
   "cell_type": "code",
   "execution_count": 3,
   "id": "71773187",
   "metadata": {},
   "outputs": [
    {
     "name": "stdout",
     "output_type": "stream",
     "text": [
      "dataset: ./dataset/geolife_U56_TrajAll_L1000.h5\n"
     ]
    }
   ],
   "source": [
    "SAVE_NAME = setting[\"save_name\"]\n",
    "\n",
    "train_traj_df = pd.read_hdf(setting['dataset']['train_traj_df'], key='trips')\n",
    "print(\"dataset:\", setting['dataset']['train_traj_df'])\n",
    "user_count = len(train_traj_df['user_id'].unique())\n",
    "traj_count = len(train_traj_df['traj_id'].unique())\n",
    "traj_len = len(train_traj_df['seq_i'])\n",
    "tao = train_traj_df['delta_t'].mean()\n",
    "setting[\"finetune\"][\"padder\"][\"params\"][\"num_users\"] = user_count\n",
    "\n",
    "scale = 4000\n",
    "if \"geolife\" in setting['dataset']['train_traj_df']:\n",
    "    UTM_region = 50  \n",
    "dataset = TrajFMDataset(traj_df=train_traj_df, UTM_region=UTM_region, scale = scale)\n",
    "\n",
    "poi_df = pd.read_hdf(setting['dataset']['poi_df'], key='pois')\n",
    "poi_embed = torch.from_numpy(np.load(setting['dataset']['poi_embed'])).float().to(device)\n",
    "\n",
    "poi_coors = poi_df[[X_COL, Y_COL]].to_numpy()\n",
    "poi_coors = (coord_transform_GPS_UTM(poi_coors, UTM_region) - dataset.spatial_middle_coord) / scale\n",
    "poi_coors = torch.tensor(poi_coors).float().to(device)\n",
    "\n",
    "# Build the learnable model.\n",
    "trajfm = TrajFM(poi_embed=poi_embed, \n",
    "                poi_coors=poi_coors, \n",
    "                UTM_region=UTM_region,\n",
    "                spatial_middle_coord = dataset.spatial_middle_coord, \n",
    "                scale = scale, \n",
    "                **setting['trajfm'],\n",
    "                user = user_count).to(device)"
   ]
  },
  {
   "cell_type": "code",
   "execution_count": 4,
   "id": "a62886f4",
   "metadata": {},
   "outputs": [
    {
     "name": "stdout",
     "output_type": "stream",
     "text": [
      "users : 56\n",
      "total_traj : 7602\n",
      "total_points : 5450141\n",
      "avg_traj_len : 1.62 hours\n",
      "Data Filtering : ['25th to 75th quartile based on traj_len', 'traj_len > 30 points', 'delta_t > 1800s', 'traj/user > 35 traj', 'resampled traj to 1000 points max', 'user_number and seq_i recalculated', 'stratified']\n"
     ]
    }
   ],
   "source": [
    "data_summary = {\n",
    "    \"users\": user_count,\n",
    "    \"total_traj\": traj_count,           \n",
    "    \"total_points\": traj_len,\n",
    "    \"avg_traj_len\": f\"{round(tao/3600, 2)} hours\",\n",
    "    \"Data Filtering\": [ \n",
    "        \"25th to 75th quartile based on traj_len\", \n",
    "        \"traj_len > 30 points\", \n",
    "        \"delta_t > 1800s\",\n",
    "        \"traj/user > 35 traj\",\n",
    "        \"resampled traj to 1000 points max\",\n",
    "        \"user_number and seq_i recalculated\",\n",
    "        \"stratified\",]\n",
    "}\n",
    "\n",
    "for key, value in data_summary.items():\n",
    "    print(key, \":\", value)"
   ]
  },
  {
   "cell_type": "code",
   "execution_count": 5,
   "id": "e20c8b5a",
   "metadata": {},
   "outputs": [],
   "source": [
    "train_dataset, val_test_dataset = utils.stratify_dataset(dataset = dataset, test_size = 0.4, random_seed = SEED)\n",
    "val_dataset, test_dataset = utils.stratify_dataset(dataset = val_test_dataset, test_size = 0.5, random_seed = SEED)"
   ]
  },
  {
   "cell_type": "code",
   "execution_count": 6,
   "id": "9f96e24f",
   "metadata": {},
   "outputs": [],
   "source": [
    "# print(len(train_dataset), len(val_dataset), len(test_dataset))"
   ]
  },
  {
   "cell_type": "code",
   "execution_count": 7,
   "id": "4423b351",
   "metadata": {},
   "outputs": [],
   "source": [
    "downstreamtask = setting['finetune']['padder']['name']\n",
    "padder = fetch_task_padder(padder_name=setting['finetune']['padder']['name'], padder_params=setting['finetune']['padder']['params'])\n",
    "\n",
    "train_dataloader = DataLoader(train_dataset, collate_fn=padder, **setting['finetune']['dataloader'])\n",
    "val_dataloader = DataLoader(val_dataset, collate_fn=padder, **setting['finetune']['dataloader'])\n",
    "test_dataloader = DataLoader(test_dataset, collate_fn=padder, **setting['finetune']['dataloader'])"
   ]
  },
  {
   "cell_type": "code",
   "execution_count": 8,
   "id": "fca23fbc",
   "metadata": {},
   "outputs": [
    {
     "name": "stdout",
     "output_type": "stream",
     "text": [
      "Model not found, starting new\n"
     ]
    },
    {
     "name": "stderr",
     "output_type": "stream",
     "text": [
      "\u001b[34m\u001b[1mwandb\u001b[0m: Using wandb-core as the SDK backend.  Please refer to https://wandb.me/wandb-core for more information.\n",
      "\u001b[34m\u001b[1mwandb\u001b[0m: Currently logged in as: \u001b[33meuj01\u001b[0m (\u001b[33mSP_001\u001b[0m) to \u001b[32mhttps://api.wandb.ai\u001b[0m. Use \u001b[1m`wandb login --relogin`\u001b[0m to force relogin\n"
     ]
    },
    {
     "data": {
      "text/html": [
       "Tracking run with wandb version 0.19.9"
      ],
      "text/plain": [
       "<IPython.core.display.HTML object>"
      ]
     },
     "metadata": {},
     "output_type": "display_data"
    },
    {
     "data": {
      "text/html": [
       "Run data is saved locally in <code>/teamspace/studios/this_studio/wandb/run-20250427_153613-U56_TrajAll_L1000_v3.7s</code>"
      ],
      "text/plain": [
       "<IPython.core.display.HTML object>"
      ]
     },
     "metadata": {},
     "output_type": "display_data"
    },
    {
     "data": {
      "text/html": [
       "Resuming run <strong><a href='https://wandb.ai/SP_001/TrajFM%20TUL/runs/U56_TrajAll_L1000_v3.7s' target=\"_blank\">U56_TrajAll_L1000_v3.7s</a></strong> to <a href='https://wandb.ai/SP_001/TrajFM%20TUL' target=\"_blank\">Weights & Biases</a> (<a href='https://wandb.me/developer-guide' target=\"_blank\">docs</a>)<br>"
      ],
      "text/plain": [
       "<IPython.core.display.HTML object>"
      ]
     },
     "metadata": {},
     "output_type": "display_data"
    },
    {
     "data": {
      "text/html": [
       " View project at <a href='https://wandb.ai/SP_001/TrajFM%20TUL' target=\"_blank\">https://wandb.ai/SP_001/TrajFM%20TUL</a>"
      ],
      "text/plain": [
       "<IPython.core.display.HTML object>"
      ]
     },
     "metadata": {},
     "output_type": "display_data"
    },
    {
     "data": {
      "text/html": [
       " View run at <a href='https://wandb.ai/SP_001/TrajFM%20TUL/runs/U56_TrajAll_L1000_v3.7s' target=\"_blank\">https://wandb.ai/SP_001/TrajFM%20TUL/runs/U56_TrajAll_L1000_v3.7s</a>"
      ],
      "text/plain": [
       "<IPython.core.display.HTML object>"
      ]
     },
     "metadata": {},
     "output_type": "display_data"
    },
    {
     "name": "stdout",
     "output_type": "stream",
     "text": [
      "The run id is U56_TrajAll_L1000_v3.7s\n"
     ]
    },
    {
     "name": "stderr",
     "output_type": "stream",
     "text": [
      "Testing/Validating: 100%|██████████| 48/48 [00:27<00:00,  1.72it/s]\n",
      "Training, avg loss: 3.650:   2%|▏         | 1/60 [01:20<1:18:48, 80.14s/it]"
     ]
    },
    {
     "name": "stdout",
     "output_type": "stream",
     "text": [
      "ACC@1: 18.42%,\n",
      "ACC@5: 39.13%,\n",
      "Macro-R: 6.92%,\n",
      "Macro-P: 1.87%,\n",
      "Macro-F1: 2.81%,\n",
      "val_loss 3.503\n"
     ]
    },
    {
     "name": "stderr",
     "output_type": "stream",
     "text": [
      "Testing/Validating: 100%|██████████| 48/48 [00:27<00:00,  1.72it/s].14s/it]\n",
      "Training, avg loss: 3.433:   3%|▎         | 2/60 [02:38<1:16:42, 79.36s/it]"
     ]
    },
    {
     "name": "stdout",
     "output_type": "stream",
     "text": [
      "ACC@1: 17.71%,\n",
      "ACC@5: 40.1%,\n",
      "Macro-R: 5.24%,\n",
      "Macro-P: 1.09%,\n",
      "Macro-F1: 1.63%,\n",
      "val_loss 3.43\n"
     ]
    },
    {
     "name": "stderr",
     "output_type": "stream",
     "text": [
      "Testing/Validating: 100%|██████████| 48/48 [00:27<00:00,  1.73it/s].36s/it]\n",
      "Training, avg loss: 3.323:   5%|▌         | 3/60 [03:57<1:15:03, 79.02s/it]"
     ]
    },
    {
     "name": "stdout",
     "output_type": "stream",
     "text": [
      "ACC@1: 17.12%,\n",
      "ACC@5: 38.8%,\n",
      "Macro-R: 5.16%,\n",
      "Macro-P: 1.11%,\n",
      "Macro-F1: 1.71%,\n",
      "val_loss 3.494\n"
     ]
    },
    {
     "name": "stderr",
     "output_type": "stream",
     "text": [
      "Testing/Validating: 100%|██████████| 48/48 [00:27<00:00,  1.73it/s].02s/it]\n",
      "Training, avg loss: 3.251:   7%|▋         | 4/60 [05:16<1:13:37, 78.88s/it]"
     ]
    },
    {
     "name": "stdout",
     "output_type": "stream",
     "text": [
      "ACC@1: 21.55%,\n",
      "ACC@5: 43.62%,\n",
      "Macro-R: 8.66%,\n",
      "Macro-P: 4.04%,\n",
      "Macro-F1: 4.85%,\n",
      "val_loss 3.257\n"
     ]
    },
    {
     "name": "stderr",
     "output_type": "stream",
     "text": [
      "Testing/Validating: 100%|██████████| 48/48 [00:27<00:00,  1.73it/s].88s/it]\n",
      "Training, avg loss: 3.193:   8%|▊         | 5/60 [06:35<1:12:18, 78.89s/it]"
     ]
    },
    {
     "name": "stdout",
     "output_type": "stream",
     "text": [
      "ACC@1: 19.99%,\n",
      "ACC@5: 44.6%,\n",
      "Macro-R: 7.96%,\n",
      "Macro-P: 3.89%,\n",
      "Macro-F1: 4.69%,\n",
      "val_loss 3.239\n"
     ]
    },
    {
     "name": "stderr",
     "output_type": "stream",
     "text": [
      "Testing/Validating: 100%|██████████| 48/48 [00:27<00:00,  1.72it/s].89s/it]\n",
      "Training, avg loss: 3.121:  10%|█         | 6/60 [07:53<1:10:59, 78.87s/it]"
     ]
    },
    {
     "name": "stdout",
     "output_type": "stream",
     "text": [
      "ACC@1: 18.62%,\n",
      "ACC@5: 41.8%,\n",
      "Macro-R: 7.9%,\n",
      "Macro-P: 3.86%,\n",
      "Macro-F1: 4.88%,\n",
      "val_loss 3.345\n"
     ]
    },
    {
     "name": "stderr",
     "output_type": "stream",
     "text": [
      "Testing/Validating: 100%|██████████| 48/48 [00:27<00:00,  1.72it/s].87s/it]\n",
      "Training, avg loss: 3.089:  12%|█▏        | 7/60 [09:12<1:09:37, 78.82s/it]"
     ]
    },
    {
     "name": "stdout",
     "output_type": "stream",
     "text": [
      "ACC@1: 20.38%,\n",
      "ACC@5: 45.64%,\n",
      "Macro-R: 7.73%,\n",
      "Macro-P: 3.26%,\n",
      "Macro-F1: 4.15%,\n",
      "val_loss 3.186\n"
     ]
    },
    {
     "name": "stderr",
     "output_type": "stream",
     "text": [
      "Testing/Validating: 100%|██████████| 48/48 [00:27<00:00,  1.73it/s].82s/it]\n",
      "Training, avg loss: 3.064:  13%|█▎        | 8/60 [10:31<1:08:16, 78.77s/it]"
     ]
    },
    {
     "name": "stdout",
     "output_type": "stream",
     "text": [
      "ACC@1: 19.21%,\n",
      "ACC@5: 45.83%,\n",
      "Macro-R: 6.5%,\n",
      "Macro-P: 2.89%,\n",
      "Macro-F1: 3.6%,\n",
      "val_loss 3.186\n"
     ]
    },
    {
     "name": "stderr",
     "output_type": "stream",
     "text": [
      "Testing/Validating: 100%|██████████| 48/48 [00:28<00:00,  1.71it/s].77s/it]\n",
      "Training, avg loss: 3.008:  15%|█▌        | 9/60 [11:50<1:07:03, 78.90s/it]"
     ]
    },
    {
     "name": "stdout",
     "output_type": "stream",
     "text": [
      "ACC@1: 20.31%,\n",
      "ACC@5: 44.27%,\n",
      "Macro-R: 7.89%,\n",
      "Macro-P: 3.84%,\n",
      "Macro-F1: 4.6%,\n",
      "val_loss 3.193\n"
     ]
    },
    {
     "name": "stderr",
     "output_type": "stream",
     "text": [
      "Testing/Validating: 100%|██████████| 48/48 [00:27<00:00,  1.71it/s].90s/it]\n",
      "Training, avg loss: 2.978:  17%|█▋        | 10/60 [13:09<1:05:47, 78.95s/it]"
     ]
    },
    {
     "name": "stdout",
     "output_type": "stream",
     "text": [
      "ACC@1: 18.23%,\n",
      "ACC@5: 38.67%,\n",
      "Macro-R: 6.99%,\n",
      "Macro-P: 3.22%,\n",
      "Macro-F1: 3.91%,\n",
      "val_loss 3.344\n"
     ]
    },
    {
     "name": "stderr",
     "output_type": "stream",
     "text": [
      "Testing/Validating: 100%|██████████| 48/48 [00:27<00:00,  1.73it/s]8.95s/it]\n",
      "Training, avg loss: 2.948:  18%|█▊        | 11/60 [14:28<1:04:25, 78.90s/it]"
     ]
    },
    {
     "name": "stdout",
     "output_type": "stream",
     "text": [
      "ACC@1: 20.64%,\n",
      "ACC@5: 43.55%,\n",
      "Macro-R: 8.49%,\n",
      "Macro-P: 4.34%,\n",
      "Macro-F1: 5.14%,\n",
      "val_loss 3.169\n"
     ]
    },
    {
     "name": "stderr",
     "output_type": "stream",
     "text": [
      "Testing/Validating: 100%|██████████| 48/48 [00:27<00:00,  1.74it/s]8.90s/it]\n",
      "Training, avg loss: 2.922:  20%|██        | 12/60 [15:46<1:02:59, 78.74s/it]"
     ]
    },
    {
     "name": "stdout",
     "output_type": "stream",
     "text": [
      "ACC@1: 20.83%,\n",
      "ACC@5: 43.75%,\n",
      "Macro-R: 8.43%,\n",
      "Macro-P: 4.34%,\n",
      "Macro-F1: 5.13%,\n",
      "val_loss 3.186\n"
     ]
    },
    {
     "name": "stderr",
     "output_type": "stream",
     "text": [
      "Testing/Validating: 100%|██████████| 48/48 [00:27<00:00,  1.73it/s]8.74s/it]\n",
      "Training, avg loss: 2.879:  22%|██▏       | 13/60 [17:05<1:01:41, 78.77s/it]"
     ]
    },
    {
     "name": "stdout",
     "output_type": "stream",
     "text": [
      "ACC@1: 21.48%,\n",
      "ACC@5: 41.73%,\n",
      "Macro-R: 9.64%,\n",
      "Macro-P: 4.6%,\n",
      "Macro-F1: 5.54%,\n",
      "val_loss 3.231\n"
     ]
    },
    {
     "name": "stderr",
     "output_type": "stream",
     "text": [
      "Testing/Validating: 100%|██████████| 48/48 [00:27<00:00,  1.72it/s]8.77s/it]\n",
      "Training, avg loss: 2.862:  23%|██▎       | 14/60 [18:24<1:00:27, 78.86s/it]"
     ]
    },
    {
     "name": "stdout",
     "output_type": "stream",
     "text": [
      "ACC@1: 20.44%,\n",
      "ACC@5: 40.43%,\n",
      "Macro-R: 8.46%,\n",
      "Macro-P: 4.57%,\n",
      "Macro-F1: 5.41%,\n",
      "val_loss 3.258\n"
     ]
    },
    {
     "name": "stderr",
     "output_type": "stream",
     "text": [
      "Testing/Validating: 100%|██████████| 48/48 [00:27<00:00,  1.72it/s]8.86s/it]\n",
      "Training, avg loss: 2.842:  25%|██▌       | 15/60 [19:43<59:03, 78.75s/it]  "
     ]
    },
    {
     "name": "stdout",
     "output_type": "stream",
     "text": [
      "ACC@1: 20.57%,\n",
      "ACC@5: 40.76%,\n",
      "Macro-R: 9.56%,\n",
      "Macro-P: 5.4%,\n",
      "Macro-F1: 5.96%,\n",
      "val_loss 3.302\n"
     ]
    },
    {
     "name": "stderr",
     "output_type": "stream",
     "text": [
      "Testing/Validating: 100%|██████████| 48/48 [00:27<00:00,  1.74it/s]75s/it]\n",
      "Training, avg loss: 2.833:  27%|██▋       | 16/60 [21:01<57:42, 78.69s/it]"
     ]
    },
    {
     "name": "stdout",
     "output_type": "stream",
     "text": [
      "ACC@1: 21.22%,\n",
      "ACC@5: 43.88%,\n",
      "Macro-R: 9.35%,\n",
      "Macro-P: 5.61%,\n",
      "Macro-F1: 6.31%,\n",
      "val_loss 3.17\n"
     ]
    },
    {
     "name": "stderr",
     "output_type": "stream",
     "text": [
      "Testing/Validating: 100%|██████████| 48/48 [00:27<00:00,  1.73it/s]69s/it]\n",
      "Training, avg loss: 2.782:  28%|██▊       | 17/60 [22:20<56:24, 78.71s/it]"
     ]
    },
    {
     "name": "stdout",
     "output_type": "stream",
     "text": [
      "ACC@1: 21.94%,\n",
      "ACC@5: 43.75%,\n",
      "Macro-R: 10.18%,\n",
      "Macro-P: 6.1%,\n",
      "Macro-F1: 6.98%,\n",
      "val_loss 3.152\n"
     ]
    },
    {
     "name": "stderr",
     "output_type": "stream",
     "text": [
      "Testing/Validating: 100%|██████████| 48/48 [00:27<00:00,  1.72it/s]71s/it]\n",
      "Training, avg loss: 2.804:  30%|███       | 18/60 [23:39<55:10, 78.83s/it]"
     ]
    },
    {
     "name": "stdout",
     "output_type": "stream",
     "text": [
      "ACC@1: 19.99%,\n",
      "ACC@5: 39.91%,\n",
      "Macro-R: 8.66%,\n",
      "Macro-P: 5.08%,\n",
      "Macro-F1: 5.82%,\n",
      "val_loss 3.348\n"
     ]
    },
    {
     "name": "stderr",
     "output_type": "stream",
     "text": [
      "Testing/Validating: 100%|██████████| 48/48 [00:27<00:00,  1.71it/s]83s/it]\n",
      "Training, avg loss: 2.783:  32%|███▏      | 19/60 [24:58<53:54, 78.89s/it]"
     ]
    },
    {
     "name": "stdout",
     "output_type": "stream",
     "text": [
      "ACC@1: 21.09%,\n",
      "ACC@5: 44.21%,\n",
      "Macro-R: 9.46%,\n",
      "Macro-P: 5.7%,\n",
      "Macro-F1: 6.44%,\n",
      "val_loss 3.196\n"
     ]
    },
    {
     "name": "stderr",
     "output_type": "stream",
     "text": [
      "Testing/Validating: 100%|██████████| 48/48 [00:27<00:00,  1.72it/s]89s/it]\n",
      "Training, avg loss: 2.743:  33%|███▎      | 20/60 [26:17<52:36, 78.90s/it]"
     ]
    },
    {
     "name": "stdout",
     "output_type": "stream",
     "text": [
      "ACC@1: 22.01%,\n",
      "ACC@5: 45.44%,\n",
      "Macro-R: 9.87%,\n",
      "Macro-P: 6.12%,\n",
      "Macro-F1: 6.84%,\n",
      "val_loss 3.114\n"
     ]
    },
    {
     "name": "stderr",
     "output_type": "stream",
     "text": [
      "Testing/Validating: 100%|██████████| 48/48 [00:27<00:00,  1.74it/s]90s/it]\n",
      "Training, avg loss: 2.702:  35%|███▌      | 21/60 [27:36<51:14, 78.85s/it]"
     ]
    },
    {
     "name": "stdout",
     "output_type": "stream",
     "text": [
      "ACC@1: 22.98%,\n",
      "ACC@5: 45.31%,\n",
      "Macro-R: 11.65%,\n",
      "Macro-P: 6.82%,\n",
      "Macro-F1: 7.99%,\n",
      "val_loss 3.081\n"
     ]
    },
    {
     "name": "stderr",
     "output_type": "stream",
     "text": [
      "Testing/Validating: 100%|██████████| 48/48 [00:27<00:00,  1.73it/s]85s/it]\n",
      "Training, avg loss: 2.670:  37%|███▋      | 22/60 [28:55<49:56, 78.85s/it]"
     ]
    },
    {
     "name": "stdout",
     "output_type": "stream",
     "text": [
      "ACC@1: 22.2%,\n",
      "ACC@5: 44.14%,\n",
      "Macro-R: 11.09%,\n",
      "Macro-P: 6.99%,\n",
      "Macro-F1: 7.92%,\n",
      "val_loss 3.134\n"
     ]
    },
    {
     "name": "stderr",
     "output_type": "stream",
     "text": [
      "Testing/Validating: 100%|██████████| 48/48 [00:27<00:00,  1.72it/s]85s/it]\n",
      "Training, avg loss: 2.658:  38%|███▊      | 23/60 [30:14<48:38, 78.88s/it]"
     ]
    },
    {
     "name": "stdout",
     "output_type": "stream",
     "text": [
      "ACC@1: 23.18%,\n",
      "ACC@5: 44.47%,\n",
      "Macro-R: 10.94%,\n",
      "Macro-P: 6.56%,\n",
      "Macro-F1: 7.6%,\n",
      "val_loss 3.133\n"
     ]
    },
    {
     "name": "stderr",
     "output_type": "stream",
     "text": [
      "Testing/Validating: 100%|██████████| 48/48 [00:27<00:00,  1.72it/s]88s/it]\n",
      "Training, avg loss: 2.617:  40%|████      | 24/60 [31:32<47:17, 78.82s/it]"
     ]
    },
    {
     "name": "stdout",
     "output_type": "stream",
     "text": [
      "ACC@1: 22.46%,\n",
      "ACC@5: 43.16%,\n",
      "Macro-R: 10.94%,\n",
      "Macro-P: 6.34%,\n",
      "Macro-F1: 7.38%,\n",
      "val_loss 3.148\n"
     ]
    },
    {
     "name": "stderr",
     "output_type": "stream",
     "text": [
      "Testing/Validating: 100%|██████████| 48/48 [00:27<00:00,  1.73it/s]82s/it]\n",
      "Training, avg loss: 2.624:  42%|████▏     | 25/60 [32:51<45:57, 78.79s/it]"
     ]
    },
    {
     "name": "stdout",
     "output_type": "stream",
     "text": [
      "ACC@1: 21.35%,\n",
      "ACC@5: 44.14%,\n",
      "Macro-R: 9.93%,\n",
      "Macro-P: 6.5%,\n",
      "Macro-F1: 7.1%,\n",
      "val_loss 3.148\n"
     ]
    },
    {
     "name": "stderr",
     "output_type": "stream",
     "text": [
      "Testing/Validating: 100%|██████████| 48/48 [00:27<00:00,  1.73it/s]79s/it]\n",
      "Training, avg loss: 2.580:  43%|████▎     | 26/60 [34:10<44:43, 78.93s/it]"
     ]
    },
    {
     "name": "stdout",
     "output_type": "stream",
     "text": [
      "ACC@1: 22.59%,\n",
      "ACC@5: 46.35%,\n",
      "Macro-R: 11.2%,\n",
      "Macro-P: 8.42%,\n",
      "Macro-F1: 8.72%,\n",
      "val_loss 3.08\n"
     ]
    },
    {
     "name": "stderr",
     "output_type": "stream",
     "text": [
      "Testing/Validating: 100%|██████████| 48/48 [00:27<00:00,  1.72it/s]93s/it]\n",
      "Training, avg loss: 2.551:  45%|████▌     | 27/60 [35:29<43:25, 78.94s/it]"
     ]
    },
    {
     "name": "stdout",
     "output_type": "stream",
     "text": [
      "ACC@1: 21.74%,\n",
      "ACC@5: 42.19%,\n",
      "Macro-R: 10.76%,\n",
      "Macro-P: 7.31%,\n",
      "Macro-F1: 7.84%,\n",
      "val_loss 3.213\n"
     ]
    },
    {
     "name": "stderr",
     "output_type": "stream",
     "text": [
      "Testing/Validating: 100%|██████████| 48/48 [00:27<00:00,  1.72it/s]94s/it]\n",
      "Training, avg loss: 2.529:  47%|████▋     | 28/60 [36:48<42:05, 78.93s/it]"
     ]
    },
    {
     "name": "stdout",
     "output_type": "stream",
     "text": [
      "ACC@1: 21.03%,\n",
      "ACC@5: 43.42%,\n",
      "Macro-R: 10.39%,\n",
      "Macro-P: 8.08%,\n",
      "Macro-F1: 8.0%,\n",
      "val_loss 3.167\n"
     ]
    },
    {
     "name": "stderr",
     "output_type": "stream",
     "text": [
      "Testing/Validating: 100%|██████████| 48/48 [00:27<00:00,  1.72it/s]93s/it]\n",
      "Training, avg loss: 2.472:  48%|████▊     | 29/60 [38:07<40:48, 78.99s/it]"
     ]
    },
    {
     "name": "stdout",
     "output_type": "stream",
     "text": [
      "ACC@1: 22.2%,\n",
      "ACC@5: 45.25%,\n",
      "Macro-R: 11.45%,\n",
      "Macro-P: 8.47%,\n",
      "Macro-F1: 8.66%,\n",
      "val_loss 3.143\n"
     ]
    },
    {
     "name": "stderr",
     "output_type": "stream",
     "text": [
      "Testing/Validating: 100%|██████████| 48/48 [00:27<00:00,  1.72it/s]99s/it]\n",
      "Training, avg loss: 2.436:  50%|█████     | 30/60 [39:26<39:31, 79.05s/it]"
     ]
    },
    {
     "name": "stdout",
     "output_type": "stream",
     "text": [
      "ACC@1: 22.79%,\n",
      "ACC@5: 47.53%,\n",
      "Macro-R: 11.12%,\n",
      "Macro-P: 7.92%,\n",
      "Macro-F1: 8.27%,\n",
      "val_loss 3.058\n"
     ]
    },
    {
     "name": "stderr",
     "output_type": "stream",
     "text": [
      "Testing/Validating: 100%|██████████| 48/48 [00:27<00:00,  1.73it/s]05s/it]\n",
      "Training, avg loss: 2.374:  52%|█████▏    | 31/60 [40:45<38:12, 79.06s/it]"
     ]
    },
    {
     "name": "stdout",
     "output_type": "stream",
     "text": [
      "ACC@1: 24.93%,\n",
      "ACC@5: 51.5%,\n",
      "Macro-R: 12.33%,\n",
      "Macro-P: 8.61%,\n",
      "Macro-F1: 9.12%,\n",
      "val_loss 2.994\n"
     ]
    },
    {
     "name": "stderr",
     "output_type": "stream",
     "text": [
      "Testing/Validating: 100%|██████████| 48/48 [00:27<00:00,  1.72it/s]06s/it]\n",
      "Training, avg loss: 2.309:  53%|█████▎    | 32/60 [42:04<36:51, 78.98s/it]"
     ]
    },
    {
     "name": "stdout",
     "output_type": "stream",
     "text": [
      "ACC@1: 25.78%,\n",
      "ACC@5: 50.39%,\n",
      "Macro-R: 14.76%,\n",
      "Macro-P: 11.84%,\n",
      "Macro-F1: 11.65%,\n",
      "val_loss 2.94\n"
     ]
    },
    {
     "name": "stderr",
     "output_type": "stream",
     "text": [
      "Testing/Validating: 100%|██████████| 48/48 [00:27<00:00,  1.73it/s]98s/it]\n",
      "Training, avg loss: 2.243:  55%|█████▌    | 33/60 [43:23<35:31, 78.94s/it]"
     ]
    },
    {
     "name": "stdout",
     "output_type": "stream",
     "text": [
      "ACC@1: 34.24%,\n",
      "ACC@5: 59.9%,\n",
      "Macro-R: 19.07%,\n",
      "Macro-P: 15.85%,\n",
      "Macro-F1: 16.03%,\n",
      "val_loss 2.575\n"
     ]
    },
    {
     "name": "stderr",
     "output_type": "stream",
     "text": [
      "Testing/Validating: 100%|██████████| 48/48 [00:27<00:00,  1.72it/s]94s/it]\n",
      "Training, avg loss: 2.170:  57%|█████▋    | 34/60 [44:42<34:11, 78.89s/it]"
     ]
    },
    {
     "name": "stdout",
     "output_type": "stream",
     "text": [
      "ACC@1: 34.7%,\n",
      "ACC@5: 60.03%,\n",
      "Macro-R: 20.59%,\n",
      "Macro-P: 17.1%,\n",
      "Macro-F1: 17.06%,\n",
      "val_loss 2.569\n"
     ]
    },
    {
     "name": "stderr",
     "output_type": "stream",
     "text": [
      "Testing/Validating: 100%|██████████| 48/48 [00:27<00:00,  1.74it/s]89s/it]\n",
      "Training, avg loss: 2.080:  58%|█████▊    | 35/60 [46:01<32:50, 78.83s/it]"
     ]
    },
    {
     "name": "stdout",
     "output_type": "stream",
     "text": [
      "ACC@1: 33.53%,\n",
      "ACC@5: 60.81%,\n",
      "Macro-R: 18.17%,\n",
      "Macro-P: 14.77%,\n",
      "Macro-F1: 15.07%,\n",
      "val_loss 2.59\n"
     ]
    },
    {
     "name": "stderr",
     "output_type": "stream",
     "text": [
      "Testing/Validating: 100%|██████████| 48/48 [00:27<00:00,  1.73it/s]83s/it]\n",
      "Training, avg loss: 2.016:  60%|██████    | 36/60 [47:19<31:31, 78.82s/it]"
     ]
    },
    {
     "name": "stdout",
     "output_type": "stream",
     "text": [
      "ACC@1: 35.74%,\n",
      "ACC@5: 61.46%,\n",
      "Macro-R: 21.98%,\n",
      "Macro-P: 18.19%,\n",
      "Macro-F1: 18.33%,\n",
      "val_loss 2.512\n"
     ]
    },
    {
     "name": "stderr",
     "output_type": "stream",
     "text": [
      "Testing/Validating: 100%|██████████| 48/48 [00:27<00:00,  1.72it/s]82s/it]\n",
      "Training, avg loss: 1.938:  62%|██████▏   | 37/60 [48:38<30:14, 78.87s/it]"
     ]
    },
    {
     "name": "stdout",
     "output_type": "stream",
     "text": [
      "ACC@1: 36.85%,\n",
      "ACC@5: 62.04%,\n",
      "Macro-R: 20.98%,\n",
      "Macro-P: 17.13%,\n",
      "Macro-F1: 17.52%,\n",
      "val_loss 2.516\n"
     ]
    },
    {
     "name": "stderr",
     "output_type": "stream",
     "text": [
      "Testing/Validating: 100%|██████████| 48/48 [00:27<00:00,  1.72it/s]87s/it]\n",
      "Training, avg loss: 1.876:  63%|██████▎   | 38/60 [49:57<28:53, 78.79s/it]"
     ]
    },
    {
     "name": "stdout",
     "output_type": "stream",
     "text": [
      "ACC@1: 37.63%,\n",
      "ACC@5: 64.84%,\n",
      "Macro-R: 23.42%,\n",
      "Macro-P: 20.16%,\n",
      "Macro-F1: 19.79%,\n",
      "val_loss 2.417\n"
     ]
    },
    {
     "name": "stderr",
     "output_type": "stream",
     "text": [
      "Testing/Validating: 100%|██████████| 48/48 [00:27<00:00,  1.73it/s]79s/it]\n",
      "Training, avg loss: 1.817:  65%|██████▌   | 39/60 [51:16<27:35, 78.82s/it]"
     ]
    },
    {
     "name": "stdout",
     "output_type": "stream",
     "text": [
      "ACC@1: 36.65%,\n",
      "ACC@5: 63.74%,\n",
      "Macro-R: 21.94%,\n",
      "Macro-P: 18.73%,\n",
      "Macro-F1: 18.45%,\n",
      "val_loss 2.484\n"
     ]
    },
    {
     "name": "stderr",
     "output_type": "stream",
     "text": [
      "Testing/Validating: 100%|██████████| 48/48 [00:27<00:00,  1.73it/s]82s/it]\n",
      "Training, avg loss: 1.769:  67%|██████▋   | 40/60 [52:35<26:17, 78.86s/it]"
     ]
    },
    {
     "name": "stdout",
     "output_type": "stream",
     "text": [
      "ACC@1: 41.67%,\n",
      "ACC@5: 69.6%,\n",
      "Macro-R: 24.38%,\n",
      "Macro-P: 21.65%,\n",
      "Macro-F1: 21.79%,\n",
      "val_loss 2.214\n"
     ]
    },
    {
     "name": "stderr",
     "output_type": "stream",
     "text": [
      "Testing/Validating: 100%|██████████| 48/48 [00:28<00:00,  1.71it/s]86s/it]\n",
      "Training, avg loss: 1.686:  68%|██████▊   | 41/60 [53:54<25:00, 78.95s/it]"
     ]
    },
    {
     "name": "stdout",
     "output_type": "stream",
     "text": [
      "ACC@1: 40.49%,\n",
      "ACC@5: 67.64%,\n",
      "Macro-R: 24.55%,\n",
      "Macro-P: 20.67%,\n",
      "Macro-F1: 21.03%,\n",
      "val_loss 2.275\n"
     ]
    },
    {
     "name": "stderr",
     "output_type": "stream",
     "text": [
      "Testing/Validating: 100%|██████████| 48/48 [00:27<00:00,  1.72it/s]95s/it]\n",
      "Training, avg loss: 1.658:  70%|███████   | 42/60 [55:13<23:40, 78.94s/it]"
     ]
    },
    {
     "name": "stdout",
     "output_type": "stream",
     "text": [
      "ACC@1: 44.14%,\n",
      "ACC@5: 73.31%,\n",
      "Macro-R: 28.32%,\n",
      "Macro-P: 25.81%,\n",
      "Macro-F1: 25.44%,\n",
      "val_loss 2.122\n"
     ]
    },
    {
     "name": "stderr",
     "output_type": "stream",
     "text": [
      "Testing/Validating: 100%|██████████| 48/48 [00:27<00:00,  1.74it/s]94s/it]\n",
      "Training, avg loss: 1.563:  72%|███████▏  | 43/60 [56:32<22:20, 78.84s/it]"
     ]
    },
    {
     "name": "stdout",
     "output_type": "stream",
     "text": [
      "ACC@1: 49.35%,\n",
      "ACC@5: 78.71%,\n",
      "Macro-R: 33.26%,\n",
      "Macro-P: 29.46%,\n",
      "Macro-F1: 29.65%,\n",
      "val_loss 1.871\n"
     ]
    },
    {
     "name": "stderr",
     "output_type": "stream",
     "text": [
      "Testing/Validating: 100%|██████████| 48/48 [00:27<00:00,  1.74it/s]84s/it]\n",
      "Training, avg loss: 1.493:  73%|███████▎  | 44/60 [57:50<21:00, 78.79s/it]"
     ]
    },
    {
     "name": "stdout",
     "output_type": "stream",
     "text": [
      "ACC@1: 44.21%,\n",
      "ACC@5: 73.37%,\n",
      "Macro-R: 28.09%,\n",
      "Macro-P: 24.82%,\n",
      "Macro-F1: 24.99%,\n",
      "val_loss 2.094\n"
     ]
    },
    {
     "name": "stderr",
     "output_type": "stream",
     "text": [
      "Testing/Validating: 100%|██████████| 48/48 [00:27<00:00,  1.72it/s]79s/it]\n",
      "Training, avg loss: 1.414:  75%|███████▌  | 45/60 [59:09<19:42, 78.82s/it]"
     ]
    },
    {
     "name": "stdout",
     "output_type": "stream",
     "text": [
      "ACC@1: 47.27%,\n",
      "ACC@5: 76.56%,\n",
      "Macro-R: 31.11%,\n",
      "Macro-P: 27.05%,\n",
      "Macro-F1: 27.29%,\n",
      "val_loss 1.987\n"
     ]
    },
    {
     "name": "stderr",
     "output_type": "stream",
     "text": [
      "Testing/Validating: 100%|██████████| 48/48 [00:27<00:00,  1.72it/s]8.82s/it]\n",
      "Training, avg loss: 1.406:  77%|███████▋  | 46/60 [1:00:28<18:23, 78.79s/it]"
     ]
    },
    {
     "name": "stdout",
     "output_type": "stream",
     "text": [
      "ACC@1: 54.04%,\n",
      "ACC@5: 80.86%,\n",
      "Macro-R: 38.98%,\n",
      "Macro-P: 37.08%,\n",
      "Macro-F1: 36.4%,\n",
      "val_loss 1.767\n"
     ]
    },
    {
     "name": "stderr",
     "output_type": "stream",
     "text": [
      "Testing/Validating: 100%|██████████| 48/48 [00:27<00:00,  1.75it/s]8.79s/it]\n",
      "Training, avg loss: 1.341:  78%|███████▊  | 47/60 [1:01:46<17:02, 78.69s/it]"
     ]
    },
    {
     "name": "stdout",
     "output_type": "stream",
     "text": [
      "ACC@1: 48.83%,\n",
      "ACC@5: 79.23%,\n",
      "Macro-R: 32.88%,\n",
      "Macro-P: 28.96%,\n",
      "Macro-F1: 28.98%,\n",
      "val_loss 1.898\n"
     ]
    },
    {
     "name": "stderr",
     "output_type": "stream",
     "text": [
      "Testing/Validating: 100%|██████████| 48/48 [00:27<00:00,  1.73it/s]8.69s/it]\n",
      "Training, avg loss: 1.260:  80%|████████  | 48/60 [1:03:05<15:44, 78.73s/it]"
     ]
    },
    {
     "name": "stdout",
     "output_type": "stream",
     "text": [
      "ACC@1: 52.67%,\n",
      "ACC@5: 80.21%,\n",
      "Macro-R: 37.05%,\n",
      "Macro-P: 34.01%,\n",
      "Macro-F1: 34.01%,\n",
      "val_loss 1.8\n"
     ]
    },
    {
     "name": "stderr",
     "output_type": "stream",
     "text": [
      "Testing/Validating: 100%|██████████| 48/48 [00:27<00:00,  1.72it/s]8.73s/it]\n",
      "Training, avg loss: 1.206:  82%|████████▏ | 49/60 [1:04:24<14:27, 78.82s/it]"
     ]
    },
    {
     "name": "stdout",
     "output_type": "stream",
     "text": [
      "ACC@1: 57.03%,\n",
      "ACC@5: 82.55%,\n",
      "Macro-R: 40.43%,\n",
      "Macro-P: 38.41%,\n",
      "Macro-F1: 37.93%,\n",
      "val_loss 1.68\n"
     ]
    },
    {
     "name": "stderr",
     "output_type": "stream",
     "text": [
      "Testing/Validating: 100%|██████████| 48/48 [00:28<00:00,  1.71it/s]8.82s/it]\n",
      "Training, avg loss: 1.146:  83%|████████▎ | 50/60 [1:05:44<13:10, 79.00s/it]"
     ]
    },
    {
     "name": "stdout",
     "output_type": "stream",
     "text": [
      "ACC@1: 56.25%,\n",
      "ACC@5: 83.4%,\n",
      "Macro-R: 40.19%,\n",
      "Macro-P: 37.57%,\n",
      "Macro-F1: 37.27%,\n",
      "val_loss 1.685\n"
     ]
    },
    {
     "name": "stderr",
     "output_type": "stream",
     "text": [
      "Testing/Validating: 100%|██████████| 48/48 [00:27<00:00,  1.72it/s]9.00s/it]\n",
      "Training, avg loss: 1.113:  85%|████████▌ | 51/60 [1:07:02<11:50, 78.95s/it]"
     ]
    },
    {
     "name": "stdout",
     "output_type": "stream",
     "text": [
      "ACC@1: 60.68%,\n",
      "ACC@5: 85.16%,\n",
      "Macro-R: 44.35%,\n",
      "Macro-P: 42.71%,\n",
      "Macro-F1: 42.13%,\n",
      "val_loss 1.537\n"
     ]
    },
    {
     "name": "stderr",
     "output_type": "stream",
     "text": [
      "Testing/Validating: 100%|██████████| 48/48 [00:27<00:00,  1.73it/s]8.95s/it]\n",
      "Training, avg loss: 1.048:  87%|████████▋ | 52/60 [1:08:21<10:31, 78.90s/it]"
     ]
    },
    {
     "name": "stdout",
     "output_type": "stream",
     "text": [
      "ACC@1: 55.53%,\n",
      "ACC@5: 81.9%,\n",
      "Macro-R: 39.39%,\n",
      "Macro-P: 37.88%,\n",
      "Macro-F1: 37.14%,\n",
      "val_loss 1.723\n"
     ]
    },
    {
     "name": "stderr",
     "output_type": "stream",
     "text": [
      "Testing/Validating: 100%|██████████| 48/48 [00:27<00:00,  1.73it/s]8.90s/it]\n",
      "Training, avg loss: 0.991:  88%|████████▊ | 53/60 [1:09:40<09:12, 78.98s/it]"
     ]
    },
    {
     "name": "stdout",
     "output_type": "stream",
     "text": [
      "ACC@1: 60.55%,\n",
      "ACC@5: 84.57%,\n",
      "Macro-R: 44.57%,\n",
      "Macro-P: 42.68%,\n",
      "Macro-F1: 42.17%,\n",
      "val_loss 1.497\n"
     ]
    },
    {
     "name": "stderr",
     "output_type": "stream",
     "text": [
      "Testing/Validating: 100%|██████████| 48/48 [00:27<00:00,  1.72it/s]8.98s/it]\n",
      "Training, avg loss: 0.948:  90%|█████████ | 54/60 [1:11:00<07:54, 79.06s/it]"
     ]
    },
    {
     "name": "stdout",
     "output_type": "stream",
     "text": [
      "ACC@1: 61.85%,\n",
      "ACC@5: 85.81%,\n",
      "Macro-R: 46.38%,\n",
      "Macro-P: 44.97%,\n",
      "Macro-F1: 44.13%,\n",
      "val_loss 1.481\n"
     ]
    },
    {
     "name": "stderr",
     "output_type": "stream",
     "text": [
      "Testing/Validating: 100%|██████████| 48/48 [00:27<00:00,  1.71it/s]9.06s/it]\n",
      "Training, avg loss: 0.918:  92%|█████████▏| 55/60 [1:12:19<06:35, 79.08s/it]"
     ]
    },
    {
     "name": "stdout",
     "output_type": "stream",
     "text": [
      "ACC@1: 63.15%,\n",
      "ACC@5: 85.61%,\n",
      "Macro-R: 47.83%,\n",
      "Macro-P: 46.13%,\n",
      "Macro-F1: 45.59%,\n",
      "val_loss 1.453\n"
     ]
    },
    {
     "name": "stderr",
     "output_type": "stream",
     "text": [
      "Testing/Validating: 100%|██████████| 48/48 [00:27<00:00,  1.72it/s]9.08s/it]\n",
      "Training, avg loss: 0.860:  93%|█████████▎| 56/60 [1:13:38<05:16, 79.01s/it]"
     ]
    },
    {
     "name": "stdout",
     "output_type": "stream",
     "text": [
      "ACC@1: 63.93%,\n",
      "ACC@5: 85.87%,\n",
      "Macro-R: 49.85%,\n",
      "Macro-P: 47.58%,\n",
      "Macro-F1: 47.18%,\n",
      "val_loss 1.43\n"
     ]
    },
    {
     "name": "stderr",
     "output_type": "stream",
     "text": [
      "Testing/Validating: 100%|██████████| 48/48 [00:28<00:00,  1.71it/s]9.01s/it]\n",
      "Training, avg loss: 0.825:  95%|█████████▌| 57/60 [1:14:56<03:56, 79.00s/it]"
     ]
    },
    {
     "name": "stdout",
     "output_type": "stream",
     "text": [
      "ACC@1: 60.29%,\n",
      "ACC@5: 84.96%,\n",
      "Macro-R: 44.44%,\n",
      "Macro-P: 43.42%,\n",
      "Macro-F1: 42.56%,\n",
      "val_loss 1.596\n"
     ]
    },
    {
     "name": "stderr",
     "output_type": "stream",
     "text": [
      "Testing/Validating: 100%|██████████| 48/48 [00:27<00:00,  1.73it/s]9.00s/it]\n",
      "Training, avg loss: 0.781:  97%|█████████▋| 58/60 [1:16:16<02:38, 79.01s/it]"
     ]
    },
    {
     "name": "stdout",
     "output_type": "stream",
     "text": [
      "ACC@1: 61.46%,\n",
      "ACC@5: 85.74%,\n",
      "Macro-R: 46.8%,\n",
      "Macro-P: 45.28%,\n",
      "Macro-F1: 44.53%,\n",
      "val_loss 1.561\n"
     ]
    },
    {
     "name": "stderr",
     "output_type": "stream",
     "text": [
      "Testing/Validating: 100%|██████████| 48/48 [00:27<00:00,  1.72it/s]9.01s/it]\n",
      "Training, avg loss: 0.749:  98%|█████████▊| 59/60 [1:17:35<01:19, 79.04s/it]"
     ]
    },
    {
     "name": "stdout",
     "output_type": "stream",
     "text": [
      "ACC@1: 63.54%,\n",
      "ACC@5: 86.07%,\n",
      "Macro-R: 49.39%,\n",
      "Macro-P: 46.75%,\n",
      "Macro-F1: 46.82%,\n",
      "val_loss 1.449\n"
     ]
    },
    {
     "name": "stderr",
     "output_type": "stream",
     "text": [
      "Testing/Validating: 100%|██████████| 48/48 [00:28<00:00,  1.71it/s]9.04s/it]\n",
      "Training, avg loss: 0.726: 100%|██████████| 60/60 [1:18:54<00:00, 78.91s/it]"
     ]
    },
    {
     "name": "stdout",
     "output_type": "stream",
     "text": [
      "ACC@1: 63.74%,\n",
      "ACC@5: 86.59%,\n",
      "Macro-R: 49.13%,\n",
      "Macro-P: 47.46%,\n",
      "Macro-F1: 46.95%,\n",
      "val_loss 1.468\n"
     ]
    },
    {
     "name": "stderr",
     "output_type": "stream",
     "text": [
      "\n"
     ]
    }
   ],
   "source": [
    "file_path = f\"saved_model/{SAVE_NAME}.{downstreamtask}\"\n",
    "if os.path.exists(file_path):\n",
    "    print(f\"Loading model {file_path}\")\n",
    "    trajfm.load_state_dict(torch.load(os.path.join(MODEL_CACHE_DIR, f'{SAVE_NAME}.{downstreamtask}'), map_location=device))\n",
    "else:\n",
    "    print(\"Model not found, starting new\")\n",
    "\n",
    "train_log, saved_model_state_dict = train_user_model(model=trajfm, \n",
    "                                                    train_dataloader=train_dataloader, \n",
    "                                                    val_dataloader=val_dataloader,\n",
    "                                                    device = device, \n",
    "                                                    **setting['finetune']['config'],\n",
    "                                                    data_summary = data_summary)\n",
    "\n",
    "if setting['finetune'].get('save', False):\n",
    "    # save model\n",
    "    utils.create_if_noexists(MODEL_CACHE_DIR)\n",
    "    torch.save(saved_model_state_dict, os.path.join(MODEL_CACHE_DIR, f'{SAVE_NAME}.{downstreamtask}'))\n",
    "    \n",
    "    # save log\n",
    "    log_dir = os.path.join(LOG_SAVE_DIR, SAVE_NAME)\n",
    "    utils.create_if_noexists(log_dir)\n",
    "    log_path = os.path.join(log_dir, f'{SAVE_NAME}_{downstreamtask}.csv')\n",
    "    file_exists = os.path.exists(log_path)\n",
    "    train_log.to_csv(log_path, mode='a', header=not file_exists, index=False)"
   ]
  },
  {
   "cell_type": "code",
   "execution_count": 9,
   "id": "abdedca1",
   "metadata": {},
   "outputs": [
    {
     "name": "stderr",
     "output_type": "stream",
     "text": [
      "Testing/Validating: 100%|██████████| 48/48 [00:27<00:00,  1.72it/s]"
     ]
    },
    {
     "name": "stdout",
     "output_type": "stream",
     "text": [
      "ACC@1: 63.6%,\n",
      "ACC@5: 86.21%,\n",
      "Macro-R: 49.36%,\n",
      "Macro-P: 48.47%,\n",
      "Macro-F1: 47.57%,\n"
     ]
    },
    {
     "name": "stderr",
     "output_type": "stream",
     "text": [
      "\n"
     ]
    }
   ],
   "source": [
    "metrics, _ = test_user_model(model=trajfm, dataloader=test_dataloader, device = device)\n",
    "for key, value in metrics.items():\n",
    "    print(f\"{key}: {round(value * 100, 2)}%,\")"
   ]
  },
  {
   "cell_type": "code",
   "execution_count": 10,
   "id": "f798cf97",
   "metadata": {},
   "outputs": [],
   "source": [
    "df = pd.DataFrame([{\n",
    "    \"Model\": f\"{SAVE_NAME}\",\n",
    "    **{key: round(value * 100, 2) for key, value in metrics.items()}\n",
    "}])\n",
    "\n",
    "csv_path = \"logs/test.csv\"\n",
    "if os.path.exists(csv_path):\n",
    "    df.to_csv(csv_path, mode='a', header=False, index=False)\n",
    "else:\n",
    "    df.to_csv(csv_path, index=False)"
   ]
  }
 ],
 "metadata": {
  "kernelspec": {
   "display_name": "cloudspace",
   "language": "python",
   "name": "python3"
  },
  "language_info": {
   "codemirror_mode": {
    "name": "ipython",
    "version": 3
   },
   "file_extension": ".py",
   "mimetype": "text/x-python",
   "name": "python",
   "nbconvert_exporter": "python",
   "pygments_lexer": "ipython3",
   "version": "3.10.10"
  }
 },
 "nbformat": 4,
 "nbformat_minor": 5
}
