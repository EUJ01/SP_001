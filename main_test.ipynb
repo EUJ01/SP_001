{
 "cells": [
  {
   "cell_type": "code",
   "execution_count": 1,
   "id": "0c408ac4",
   "metadata": {},
   "outputs": [],
   "source": [
    "import os\n",
    "import json\n",
    "import numpy as np\n",
    "import pandas as pd\n",
    "import torch\n",
    "from torch.utils.data import DataLoader\n",
    "import utils\n",
    "from models.trajfm import TrajFM\n",
    "from data import TrajFMDataset, PretrainPadder, fetch_task_padder, X_COL, Y_COL, coord_transform_GPS_UTM\n",
    "from torch.utils.data import random_split\n",
    "import warnings\n",
    "from pipeline import train_user_model, test_user_model\n",
    "import torch.multiprocessing as mp\n",
    "warnings.filterwarnings('ignore')"
   ]
  },
  {
   "cell_type": "code",
   "execution_count": 2,
   "id": "84217ed8",
   "metadata": {},
   "outputs": [
    {
     "name": "stdout",
     "output_type": "stream",
     "text": [
      "device: cuda\n"
     ]
    }
   ],
   "source": [
    "SETTINGS_CACHE_DIR = os.environ.get('SETTINGS_CACHE_DIR', os.path.join('settings', 'cache'))\n",
    "MODEL_CACHE_DIR = os.environ.get('MODEL_CACHE_DIR', 'saved_model')\n",
    "LOG_SAVE_DIR = os.environ.get('LOG_SAVE_DIR', 'logs')\n",
    "PRED_SAVE_DIR = os.environ.get('PRED_SAVE_DIR', 'predictions')\n",
    "\n",
    "SEED = 42\n",
    "np.random.seed(SEED)\n",
    "torch.manual_seed(SEED)\n",
    "torch.cuda.manual_seed_all(SEED)\n",
    "torch.backends.cudnn.deterministic = True\n",
    "torch.backends.cudnn.benchmark = False\n",
    "\n",
    "os.environ['CUDA_VISIBLE_DEVICES'] = '0'\n",
    "os.environ['PYDEVD_DISABLE_FILE_VALIDATION'] = '1'\n",
    "\n",
    "\n",
    "if mp.get_start_method(allow_none=True) is None:\n",
    "    mp.set_start_method('spawn')\n",
    "device = f'cuda' if torch.cuda.is_available() else 'cpu'\n",
    "\n",
    "torch.backends.cuda.enable_mem_efficient_sdp(False)\n",
    "torch.backends.cuda.enable_flash_sdp(False)\n",
    "torch.backends.cuda.enable_math_sdp(True)\n",
    "# This key is an indicator of multiple things.\n",
    "datetime_key = utils.get_datetime_key()\n",
    "\n",
    "\n",
    "with open(os.path.join('settings', f'local_test.json'), 'r') as fp:\n",
    "    setting = json.load(fp)\n",
    "    setting = setting[0]\n",
    "utils.create_if_noexists(SETTINGS_CACHE_DIR)\n",
    "with open(os.path.join(SETTINGS_CACHE_DIR, f'{datetime_key}.json'), 'w') as fp:\n",
    "    json.dump(setting, fp)\n",
    "    \n",
    "print(\"device:\", device)"
   ]
  },
  {
   "cell_type": "code",
   "execution_count": 3,
   "id": "71773187",
   "metadata": {},
   "outputs": [
    {
     "name": "stdout",
     "output_type": "stream",
     "text": [
      "dataset: ./dataset/geolife_U89_TrajAll_L1000.h5\n"
     ]
    }
   ],
   "source": [
    "# pyright: ignore[reportIndexIssue]\n",
    "SAVE_NAME = setting[\"save_name\"]\n",
    "\n",
    "train_traj_df = pd.read_hdf(setting['dataset']['train_traj_df'], key='trips')\n",
    "print(\"dataset:\", setting['dataset']['train_traj_df'])\n",
    "user_count = len(train_traj_df['user_id'].unique())\n",
    "traj_count = len(train_traj_df['traj_id'].unique())\n",
    "traj_len = len(train_traj_df['seq_i'])\n",
    "tao = train_traj_df['delta_t'].mean()\n",
    "setting[\"finetune\"][\"padder\"][\"params\"][\"num_users\"] = user_count\n",
    "\n",
    "scale = 4000\n",
    "# if \"chengdu\" in setting['dataset']['train_traj_df']:\n",
    "#     UTM_region = 48\n",
    "# if \"xian\" in setting['dataset']['train_traj_df']:\n",
    "#     UTM_region = 49\n",
    "if \"geolife\" in setting['dataset']['train_traj_df']:\n",
    "    UTM_region = 50  \n",
    "train_dataset = TrajFMDataset(traj_df=train_traj_df, UTM_region=UTM_region, scale = scale)\n",
    "\n",
    "poi_df = pd.read_hdf(setting['dataset']['poi_df'], key='pois')\n",
    "poi_embed = torch.from_numpy(np.load(setting['dataset']['poi_embed'])).float().to(device)\n",
    "\n",
    "poi_coors = poi_df[[X_COL, Y_COL]].to_numpy()\n",
    "poi_coors = (coord_transform_GPS_UTM(poi_coors, UTM_region) - train_dataset.spatial_middle_coord) / scale\n",
    "poi_coors = torch.tensor(poi_coors).float().to(device)\n",
    "\n",
    "# Build the learnable model.\n",
    "trajfm = TrajFM(poi_embed=poi_embed, \n",
    "                poi_coors=poi_coors, \n",
    "                UTM_region=UTM_region,\n",
    "                spatial_middle_coord = train_dataset.spatial_middle_coord, \n",
    "                scale = scale, \n",
    "                **setting['trajfm'],\n",
    "                user = user_count).to(device)"
   ]
  },
  {
   "cell_type": "code",
   "execution_count": 4,
   "id": "a62886f4",
   "metadata": {},
   "outputs": [
    {
     "name": "stdout",
     "output_type": "stream",
     "text": [
      "users : 89\n",
      "total_traj : 8317\n",
      "total_points : 5941128\n",
      "Data Filtering : ['25th to 75th quartile based on traj_len', 'traj_len > 30 points', 'delta_t > 1800s', 'traj/user > 30 traj', 'resampled traj to 1000 points max', 'user_number and seq_i recalculated', 'only transformer used']\n"
     ]
    }
   ],
   "source": [
    "data_summary = {\n",
    "    \"users\": user_count,\n",
    "    \"total_traj\": traj_count,           \n",
    "    \"total_points\": traj_len,\n",
    "    \"Data Filtering\": [ \n",
    "        \"25th to 75th quartile based on traj_len\", \n",
    "        \"traj_len > 30 points\", \n",
    "        \"delta_t > 1800s\",\n",
    "        \"traj/user > 30 traj\",\n",
    "        \"resampled traj to 1000 points max\",\n",
    "        \"user_number and seq_i recalculated\",\n",
    "        \"only transformer used\"]\n",
    "}\n",
    "\n",
    "for key, value in data_summary.items():\n",
    "    print(key, \":\", value)"
   ]
  },
  {
   "cell_type": "code",
   "execution_count": 5,
   "id": "e20c8b5a",
   "metadata": {},
   "outputs": [],
   "source": [
    "total_size = len(train_dataset)\n",
    "train_size = int(0.6 * total_size)\n",
    "val_test_size = total_size - train_size\n",
    "val_size = int(0.5 * val_test_size)\n",
    "test_size = val_test_size - val_size\n",
    "\n",
    "train_dataset, val_test_dataset = random_split(train_dataset, [train_size, val_test_size])\n",
    "val_dataset, test_dataset = random_split(val_test_dataset, [val_size, test_size])"
   ]
  },
  {
   "cell_type": "code",
   "execution_count": 6,
   "id": "d56d6463",
   "metadata": {},
   "outputs": [
    {
     "name": "stdout",
     "output_type": "stream",
     "text": [
      "Model not found, starting new\n"
     ]
    }
   ],
   "source": [
    "downstreamtask = setting['finetune']['padder']['name']\n",
    "\n",
    "file_path = f\"saved_model/{SAVE_NAME}.{downstreamtask}\"\n",
    "if os.path.exists(file_path):\n",
    "    print(f\"Loading model {file_path}\")\n",
    "    trajfm.load_state_dict(torch.load(os.path.join(MODEL_CACHE_DIR, f'{SAVE_NAME}.{downstreamtask}'), map_location=device))\n",
    "else:\n",
    "    print(\"Model not found, starting new\")\n",
    "    \n",
    "padder = fetch_task_padder(padder_name=setting['finetune']['padder']['name'], padder_params=setting['finetune']['padder']['params'])\n",
    "\n",
    "train_dataloader = DataLoader(train_dataset, collate_fn=padder, **setting['finetune']['dataloader'])\n",
    "val_dataloader = DataLoader(val_dataset, collate_fn=padder, **setting['finetune']['dataloader'])\n",
    "test_dataloader = DataLoader(test_dataset, collate_fn=padder, **setting['finetune']['dataloader'])"
   ]
  },
  {
   "cell_type": "code",
   "execution_count": 7,
   "id": "fca23fbc",
   "metadata": {},
   "outputs": [
    {
     "name": "stderr",
     "output_type": "stream",
     "text": [
      "\u001b[34m\u001b[1mwandb\u001b[0m: Using wandb-core as the SDK backend.  Please refer to https://wandb.me/wandb-core for more information.\n",
      "\u001b[34m\u001b[1mwandb\u001b[0m: Currently logged in as: \u001b[33meuj01\u001b[0m (\u001b[33mSP_001\u001b[0m) to \u001b[32mhttps://api.wandb.ai\u001b[0m. Use \u001b[1m`wandb login --relogin`\u001b[0m to force relogin\n"
     ]
    },
    {
     "data": {
      "text/html": [
       "Tracking run with wandb version 0.19.9"
      ],
      "text/plain": [
       "<IPython.core.display.HTML object>"
      ]
     },
     "metadata": {},
     "output_type": "display_data"
    },
    {
     "data": {
      "text/html": [
       "Run data is saved locally in <code>/teamspace/studios/this_studio/wandb/run-20250424_133556-U89_TrajAll_L1000_v3.7_noROPE</code>"
      ],
      "text/plain": [
       "<IPython.core.display.HTML object>"
      ]
     },
     "metadata": {},
     "output_type": "display_data"
    },
    {
     "data": {
      "text/html": [
       "Syncing run <strong><a href='https://wandb.ai/SP_001/TrajFM%20TUL/runs/U89_TrajAll_L1000_v3.7_noROPE' target=\"_blank\">U89_TrajAll_L1000_v3.7_noROPE</a></strong> to <a href='https://wandb.ai/SP_001/TrajFM%20TUL' target=\"_blank\">Weights & Biases</a> (<a href='https://wandb.me/developer-guide' target=\"_blank\">docs</a>)<br>"
      ],
      "text/plain": [
       "<IPython.core.display.HTML object>"
      ]
     },
     "metadata": {},
     "output_type": "display_data"
    },
    {
     "data": {
      "text/html": [
       " View project at <a href='https://wandb.ai/SP_001/TrajFM%20TUL' target=\"_blank\">https://wandb.ai/SP_001/TrajFM%20TUL</a>"
      ],
      "text/plain": [
       "<IPython.core.display.HTML object>"
      ]
     },
     "metadata": {},
     "output_type": "display_data"
    },
    {
     "data": {
      "text/html": [
       " View run at <a href='https://wandb.ai/SP_001/TrajFM%20TUL/runs/U89_TrajAll_L1000_v3.7_noROPE' target=\"_blank\">https://wandb.ai/SP_001/TrajFM%20TUL/runs/U89_TrajAll_L1000_v3.7_noROPE</a>"
      ],
      "text/plain": [
       "<IPython.core.display.HTML object>"
      ]
     },
     "metadata": {},
     "output_type": "display_data"
    },
    {
     "name": "stdout",
     "output_type": "stream",
     "text": [
      "The run id is U89_TrajAll_L1000_v3.7_noROPE\n"
     ]
    },
    {
     "name": "stderr",
     "output_type": "stream",
     "text": [
      "Testing/Validating: 100%|██████████| 52/52 [00:28<00:00,  1.82it/s]\n",
      "Training, avg loss: 3.907:   1%|▏         | 1/70 [01:17<1:28:48, 77.22s/it]"
     ]
    },
    {
     "name": "stdout",
     "output_type": "stream",
     "text": [
      "ACC@1: 18.94%,\n",
      "ACC@5: 37.28%,\n",
      "Macro-R: 6.78%,\n",
      "Macro-P: 1.79%,\n",
      "Macro-F1: 2.7%,\n",
      "val_loss 3.755\n"
     ]
    },
    {
     "name": "stderr",
     "output_type": "stream",
     "text": [
      "Testing/Validating: 100%|██████████| 52/52 [00:28<00:00,  1.80it/s].22s/it]\n",
      "Training, avg loss: 3.738:   3%|▎         | 2/70 [02:33<1:27:11, 76.94s/it]"
     ]
    },
    {
     "name": "stdout",
     "output_type": "stream",
     "text": [
      "ACC@1: 18.82%,\n",
      "ACC@5: 36.93%,\n",
      "Macro-R: 6.55%,\n",
      "Macro-P: 1.76%,\n",
      "Macro-F1: 2.68%,\n",
      "val_loss 3.715\n"
     ]
    },
    {
     "name": "stderr",
     "output_type": "stream",
     "text": [
      "Testing/Validating: 100%|██████████| 52/52 [00:28<00:00,  1.82it/s].94s/it]\n",
      "Training, avg loss: 3.682:   4%|▍         | 3/70 [03:50<1:25:41, 76.74s/it]"
     ]
    },
    {
     "name": "stdout",
     "output_type": "stream",
     "text": [
      "ACC@1: 20.99%,\n",
      "ACC@5: 38.54%,\n",
      "Macro-R: 7.9%,\n",
      "Macro-P: 2.54%,\n",
      "Macro-F1: 3.36%,\n",
      "val_loss 3.617\n"
     ]
    },
    {
     "name": "stderr",
     "output_type": "stream",
     "text": [
      "Testing/Validating: 100%|██████████| 52/52 [00:28<00:00,  1.82it/s].74s/it]\n",
      "Training, avg loss: 3.577:   6%|▌         | 4/70 [05:06<1:24:15, 76.60s/it]"
     ]
    },
    {
     "name": "stdout",
     "output_type": "stream",
     "text": [
      "ACC@1: 20.51%,\n",
      "ACC@5: 42.58%,\n",
      "Macro-R: 7.14%,\n",
      "Macro-P: 2.16%,\n",
      "Macro-F1: 3.03%,\n",
      "val_loss 3.524\n"
     ]
    },
    {
     "name": "stderr",
     "output_type": "stream",
     "text": [
      "Testing/Validating: 100%|██████████| 52/52 [00:28<00:00,  1.83it/s].60s/it]\n",
      "Training, avg loss: 3.484:   7%|▋         | 5/70 [06:23<1:22:50, 76.47s/it]"
     ]
    },
    {
     "name": "stdout",
     "output_type": "stream",
     "text": [
      "ACC@1: 20.93%,\n",
      "ACC@5: 45.23%,\n",
      "Macro-R: 8.0%,\n",
      "Macro-P: 2.9%,\n",
      "Macro-F1: 3.59%,\n",
      "val_loss 3.44\n"
     ]
    },
    {
     "name": "stderr",
     "output_type": "stream",
     "text": [
      "Testing/Validating: 100%|██████████| 52/52 [00:28<00:00,  1.81it/s].47s/it]\n",
      "Training, avg loss: 3.384:   9%|▊         | 6/70 [07:39<1:21:39, 76.55s/it]"
     ]
    },
    {
     "name": "stdout",
     "output_type": "stream",
     "text": [
      "ACC@1: 24.3%,\n",
      "ACC@5: 47.39%,\n",
      "Macro-R: 10.06%,\n",
      "Macro-P: 6.1%,\n",
      "Macro-F1: 6.28%,\n",
      "val_loss 3.351\n"
     ]
    },
    {
     "name": "stderr",
     "output_type": "stream",
     "text": [
      "Testing/Validating: 100%|██████████| 52/52 [00:28<00:00,  1.82it/s].55s/it]\n",
      "Training, avg loss: 3.317:  10%|█         | 7/70 [08:55<1:20:14, 76.41s/it]"
     ]
    },
    {
     "name": "stdout",
     "output_type": "stream",
     "text": [
      "ACC@1: 28.75%,\n",
      "ACC@5: 51.85%,\n",
      "Macro-R: 13.99%,\n",
      "Macro-P: 9.33%,\n",
      "Macro-F1: 9.79%,\n",
      "val_loss 3.225\n"
     ]
    },
    {
     "name": "stderr",
     "output_type": "stream",
     "text": [
      "Testing/Validating: 100%|██████████| 52/52 [00:28<00:00,  1.82it/s].41s/it]\n",
      "Training, avg loss: 3.102:  11%|█▏        | 8/70 [10:12<1:19:00, 76.45s/it]"
     ]
    },
    {
     "name": "stdout",
     "output_type": "stream",
     "text": [
      "ACC@1: 33.79%,\n",
      "ACC@5: 55.8%,\n",
      "Macro-R: 18.58%,\n",
      "Macro-P: 13.72%,\n",
      "Macro-F1: 14.32%,\n",
      "val_loss 3.022\n"
     ]
    },
    {
     "name": "stderr",
     "output_type": "stream",
     "text": [
      "Testing/Validating: 100%|██████████| 52/52 [00:28<00:00,  1.83it/s].45s/it]\n",
      "Training, avg loss: 2.956:  13%|█▎        | 9/70 [11:28<1:17:44, 76.46s/it]"
     ]
    },
    {
     "name": "stdout",
     "output_type": "stream",
     "text": [
      "ACC@1: 36.85%,\n",
      "ACC@5: 58.09%,\n",
      "Macro-R: 21.76%,\n",
      "Macro-P: 16.48%,\n",
      "Macro-F1: 17.36%,\n",
      "val_loss 2.905\n"
     ]
    },
    {
     "name": "stderr",
     "output_type": "stream",
     "text": [
      "Testing/Validating: 100%|██████████| 52/52 [00:28<00:00,  1.81it/s].46s/it]\n",
      "Training, avg loss: 2.850:  14%|█▍        | 10/70 [12:45<1:16:30, 76.51s/it]"
     ]
    },
    {
     "name": "stdout",
     "output_type": "stream",
     "text": [
      "ACC@1: 37.4%,\n",
      "ACC@5: 59.78%,\n",
      "Macro-R: 22.36%,\n",
      "Macro-P: 16.01%,\n",
      "Macro-F1: 17.06%,\n",
      "val_loss 2.81\n"
     ]
    },
    {
     "name": "stderr",
     "output_type": "stream",
     "text": [
      "Testing/Validating: 100%|██████████| 52/52 [00:28<00:00,  1.82it/s]6.51s/it]\n",
      "Training, avg loss: 2.748:  16%|█▌        | 11/70 [14:01<1:15:10, 76.45s/it]"
     ]
    },
    {
     "name": "stdout",
     "output_type": "stream",
     "text": [
      "ACC@1: 39.51%,\n",
      "ACC@5: 60.08%,\n",
      "Macro-R: 23.71%,\n",
      "Macro-P: 18.01%,\n",
      "Macro-F1: 18.91%,\n",
      "val_loss 2.77\n"
     ]
    },
    {
     "name": "stderr",
     "output_type": "stream",
     "text": [
      "Testing/Validating: 100%|██████████| 52/52 [00:28<00:00,  1.82it/s]6.45s/it]\n",
      "Training, avg loss: 2.668:  17%|█▋        | 12/70 [15:17<1:13:47, 76.34s/it]"
     ]
    },
    {
     "name": "stdout",
     "output_type": "stream",
     "text": [
      "ACC@1: 41.25%,\n",
      "ACC@5: 62.77%,\n",
      "Macro-R: 25.9%,\n",
      "Macro-P: 20.37%,\n",
      "Macro-F1: 21.18%,\n",
      "val_loss 2.688\n"
     ]
    },
    {
     "name": "stderr",
     "output_type": "stream",
     "text": [
      "Testing/Validating: 100%|██████████| 52/52 [00:28<00:00,  1.83it/s]6.34s/it]\n",
      "Training, avg loss: 2.584:  19%|█▊        | 13/70 [16:34<1:12:28, 76.30s/it]"
     ]
    },
    {
     "name": "stdout",
     "output_type": "stream",
     "text": [
      "ACC@1: 41.32%,\n",
      "ACC@5: 66.03%,\n",
      "Macro-R: 26.55%,\n",
      "Macro-P: 20.93%,\n",
      "Macro-F1: 21.9%,\n",
      "val_loss 2.574\n"
     ]
    },
    {
     "name": "stderr",
     "output_type": "stream",
     "text": [
      "Testing/Validating: 100%|██████████| 52/52 [00:28<00:00,  1.81it/s]6.30s/it]\n",
      "Training, avg loss: 2.534:  20%|██        | 14/70 [17:50<1:11:17, 76.38s/it]"
     ]
    },
    {
     "name": "stdout",
     "output_type": "stream",
     "text": [
      "ACC@1: 43.77%,\n",
      "ACC@5: 66.32%,\n",
      "Macro-R: 28.38%,\n",
      "Macro-P: 21.81%,\n",
      "Macro-F1: 23.16%,\n",
      "val_loss 2.518\n"
     ]
    },
    {
     "name": "stderr",
     "output_type": "stream",
     "text": [
      "Testing/Validating: 100%|██████████| 52/52 [00:28<00:00,  1.80it/s]6.38s/it]\n",
      "Training, avg loss: 2.442:  21%|██▏       | 15/70 [19:07<1:10:07, 76.49s/it]"
     ]
    },
    {
     "name": "stdout",
     "output_type": "stream",
     "text": [
      "ACC@1: 46.12%,\n",
      "ACC@5: 68.42%,\n",
      "Macro-R: 31.09%,\n",
      "Macro-P: 24.94%,\n",
      "Macro-F1: 26.11%,\n",
      "val_loss 2.47\n"
     ]
    },
    {
     "name": "stderr",
     "output_type": "stream",
     "text": [
      "Testing/Validating: 100%|██████████| 52/52 [00:28<00:00,  1.82it/s]6.49s/it]\n",
      "Training, avg loss: 2.388:  23%|██▎       | 16/70 [20:23<1:08:45, 76.40s/it]"
     ]
    },
    {
     "name": "stdout",
     "output_type": "stream",
     "text": [
      "ACC@1: 45.46%,\n",
      "ACC@5: 69.15%,\n",
      "Macro-R: 30.52%,\n",
      "Macro-P: 25.56%,\n",
      "Macro-F1: 26.13%,\n",
      "val_loss 2.418\n"
     ]
    },
    {
     "name": "stderr",
     "output_type": "stream",
     "text": [
      "Testing/Validating: 100%|██████████| 52/52 [00:28<00:00,  1.82it/s]6.40s/it]\n",
      "Training, avg loss: 2.331:  24%|██▍       | 17/70 [21:40<1:07:31, 76.44s/it]"
     ]
    },
    {
     "name": "stdout",
     "output_type": "stream",
     "text": [
      "ACC@1: 49.07%,\n",
      "ACC@5: 69.88%,\n",
      "Macro-R: 33.51%,\n",
      "Macro-P: 28.37%,\n",
      "Macro-F1: 29.19%,\n",
      "val_loss 2.357\n"
     ]
    },
    {
     "name": "stderr",
     "output_type": "stream",
     "text": [
      "Testing/Validating: 100%|██████████| 52/52 [00:28<00:00,  1.81it/s]6.44s/it]\n",
      "Training, avg loss: 2.271:  26%|██▌       | 18/70 [22:56<1:06:13, 76.41s/it]"
     ]
    },
    {
     "name": "stdout",
     "output_type": "stream",
     "text": [
      "ACC@1: 47.86%,\n",
      "ACC@5: 71.19%,\n",
      "Macro-R: 32.35%,\n",
      "Macro-P: 28.1%,\n",
      "Macro-F1: 28.52%,\n",
      "val_loss 2.317\n"
     ]
    },
    {
     "name": "stderr",
     "output_type": "stream",
     "text": [
      "Testing/Validating: 100%|██████████| 52/52 [00:28<00:00,  1.82it/s]6.41s/it]\n",
      "Training, avg loss: 2.224:  27%|██▋       | 19/70 [24:13<1:04:57, 76.43s/it]"
     ]
    },
    {
     "name": "stdout",
     "output_type": "stream",
     "text": [
      "ACC@1: 49.37%,\n",
      "ACC@5: 70.23%,\n",
      "Macro-R: 33.72%,\n",
      "Macro-P: 29.62%,\n",
      "Macro-F1: 30.01%,\n",
      "val_loss 2.286\n"
     ]
    },
    {
     "name": "stderr",
     "output_type": "stream",
     "text": [
      "Testing/Validating: 100%|██████████| 52/52 [00:28<00:00,  1.82it/s]6.43s/it]\n",
      "Training, avg loss: 2.173:  29%|██▊       | 20/70 [25:29<1:03:43, 76.47s/it]"
     ]
    },
    {
     "name": "stdout",
     "output_type": "stream",
     "text": [
      "ACC@1: 50.08%,\n",
      "ACC@5: 72.1%,\n",
      "Macro-R: 33.84%,\n",
      "Macro-P: 28.65%,\n",
      "Macro-F1: 29.54%,\n",
      "val_loss 2.222\n"
     ]
    },
    {
     "name": "stderr",
     "output_type": "stream",
     "text": [
      "Testing/Validating: 100%|██████████| 52/52 [00:28<00:00,  1.84it/s]6.47s/it]\n",
      "Training, avg loss: 2.117:  30%|███       | 21/70 [26:45<1:02:16, 76.25s/it]"
     ]
    },
    {
     "name": "stdout",
     "output_type": "stream",
     "text": [
      "ACC@1: 52.97%,\n",
      "ACC@5: 74.27%,\n",
      "Macro-R: 36.75%,\n",
      "Macro-P: 32.39%,\n",
      "Macro-F1: 32.97%,\n",
      "val_loss 2.195\n"
     ]
    },
    {
     "name": "stderr",
     "output_type": "stream",
     "text": [
      "Testing/Validating: 100%|██████████| 52/52 [00:28<00:00,  1.83it/s]6.25s/it]\n",
      "Training, avg loss: 2.109:  31%|███▏      | 22/70 [28:00<1:00:50, 76.06s/it]"
     ]
    },
    {
     "name": "stdout",
     "output_type": "stream",
     "text": [
      "ACC@1: 52.62%,\n",
      "ACC@5: 74.26%,\n",
      "Macro-R: 36.26%,\n",
      "Macro-P: 31.98%,\n",
      "Macro-F1: 32.51%,\n",
      "val_loss 2.168\n"
     ]
    },
    {
     "name": "stderr",
     "output_type": "stream",
     "text": [
      "Testing/Validating: 100%|██████████| 52/52 [00:28<00:00,  1.82it/s]6.06s/it]\n",
      "Training, avg loss: 2.042:  33%|███▎      | 23/70 [29:16<59:32, 76.00s/it]  "
     ]
    },
    {
     "name": "stdout",
     "output_type": "stream",
     "text": [
      "ACC@1: 52.01%,\n",
      "ACC@5: 75.34%,\n",
      "Macro-R: 36.91%,\n",
      "Macro-P: 32.66%,\n",
      "Macro-F1: 33.31%,\n",
      "val_loss 2.111\n"
     ]
    },
    {
     "name": "stderr",
     "output_type": "stream",
     "text": [
      "Testing/Validating: 100%|██████████| 52/52 [00:28<00:00,  1.82it/s]00s/it]\n",
      "Training, avg loss: 2.002:  34%|███▍      | 24/70 [30:32<58:15, 75.98s/it]"
     ]
    },
    {
     "name": "stdout",
     "output_type": "stream",
     "text": [
      "ACC@1: 53.64%,\n",
      "ACC@5: 75.17%,\n",
      "Macro-R: 38.12%,\n",
      "Macro-P: 33.7%,\n",
      "Macro-F1: 34.37%,\n",
      "val_loss 2.077\n"
     ]
    },
    {
     "name": "stderr",
     "output_type": "stream",
     "text": [
      "Testing/Validating: 100%|██████████| 52/52 [00:28<00:00,  1.83it/s]98s/it]\n",
      "Training, avg loss: 1.960:  36%|███▌      | 25/70 [31:48<56:56, 75.93s/it]"
     ]
    },
    {
     "name": "stdout",
     "output_type": "stream",
     "text": [
      "ACC@1: 52.37%,\n",
      "ACC@5: 75.22%,\n",
      "Macro-R: 37.37%,\n",
      "Macro-P: 33.44%,\n",
      "Macro-F1: 33.56%,\n",
      "val_loss 2.065\n"
     ]
    },
    {
     "name": "stderr",
     "output_type": "stream",
     "text": [
      "Testing/Validating: 100%|██████████| 52/52 [00:28<00:00,  1.84it/s]93s/it]\n",
      "Training, avg loss: 1.921:  37%|███▋      | 26/70 [33:04<55:37, 75.84s/it]"
     ]
    },
    {
     "name": "stdout",
     "output_type": "stream",
     "text": [
      "ACC@1: 54.18%,\n",
      "ACC@5: 76.37%,\n",
      "Macro-R: 38.62%,\n",
      "Macro-P: 34.34%,\n",
      "Macro-F1: 34.95%,\n",
      "val_loss 2.032\n"
     ]
    },
    {
     "name": "stderr",
     "output_type": "stream",
     "text": [
      "Testing/Validating: 100%|██████████| 52/52 [00:28<00:00,  1.82it/s]84s/it]\n",
      "Training, avg loss: 1.882:  39%|███▊      | 27/70 [34:20<54:21, 75.84s/it]"
     ]
    },
    {
     "name": "stdout",
     "output_type": "stream",
     "text": [
      "ACC@1: 54.84%,\n",
      "ACC@5: 77.94%,\n",
      "Macro-R: 38.78%,\n",
      "Macro-P: 35.13%,\n",
      "Macro-F1: 35.58%,\n",
      "val_loss 2.013\n"
     ]
    },
    {
     "name": "stderr",
     "output_type": "stream",
     "text": [
      "Testing/Validating: 100%|██████████| 52/52 [00:28<00:00,  1.82it/s]84s/it]\n",
      "Training, avg loss: 1.856:  40%|████      | 28/70 [35:35<53:03, 75.79s/it]"
     ]
    },
    {
     "name": "stdout",
     "output_type": "stream",
     "text": [
      "ACC@1: 54.84%,\n",
      "ACC@5: 78.77%,\n",
      "Macro-R: 39.45%,\n",
      "Macro-P: 34.35%,\n",
      "Macro-F1: 35.17%,\n",
      "val_loss 1.99\n"
     ]
    },
    {
     "name": "stderr",
     "output_type": "stream",
     "text": [
      "Testing/Validating: 100%|██████████| 52/52 [00:28<00:00,  1.82it/s]79s/it]\n",
      "Training, avg loss: 1.826:  41%|████▏     | 29/70 [36:51<51:45, 75.74s/it]"
     ]
    },
    {
     "name": "stdout",
     "output_type": "stream",
     "text": [
      "ACC@1: 55.56%,\n",
      "ACC@5: 79.07%,\n",
      "Macro-R: 39.75%,\n",
      "Macro-P: 36.5%,\n",
      "Macro-F1: 36.73%,\n",
      "val_loss 1.919\n"
     ]
    },
    {
     "name": "stderr",
     "output_type": "stream",
     "text": [
      "Testing/Validating: 100%|██████████| 52/52 [00:28<00:00,  1.82it/s]74s/it]\n",
      "Training, avg loss: 1.805:  43%|████▎     | 30/70 [38:06<50:27, 75.68s/it]"
     ]
    },
    {
     "name": "stdout",
     "output_type": "stream",
     "text": [
      "ACC@1: 55.81%,\n",
      "ACC@5: 79.02%,\n",
      "Macro-R: 40.22%,\n",
      "Macro-P: 36.05%,\n",
      "Macro-F1: 36.64%,\n",
      "val_loss 1.916\n"
     ]
    },
    {
     "name": "stderr",
     "output_type": "stream",
     "text": [
      "Testing/Validating: 100%|██████████| 52/52 [00:28<00:00,  1.82it/s]68s/it]\n",
      "Training, avg loss: 1.777:  44%|████▍     | 31/70 [39:22<49:13, 75.74s/it]"
     ]
    },
    {
     "name": "stdout",
     "output_type": "stream",
     "text": [
      "ACC@1: 57.37%,\n",
      "ACC@5: 78.83%,\n",
      "Macro-R: 41.52%,\n",
      "Macro-P: 38.6%,\n",
      "Macro-F1: 38.69%,\n",
      "val_loss 1.888\n"
     ]
    },
    {
     "name": "stderr",
     "output_type": "stream",
     "text": [
      "Testing/Validating: 100%|██████████| 52/52 [00:28<00:00,  1.84it/s]74s/it]\n",
      "Training, avg loss: 1.743:  46%|████▌     | 32/70 [40:38<47:57, 75.72s/it]"
     ]
    },
    {
     "name": "stdout",
     "output_type": "stream",
     "text": [
      "ACC@1: 56.71%,\n",
      "ACC@5: 79.02%,\n",
      "Macro-R: 41.09%,\n",
      "Macro-P: 37.57%,\n",
      "Macro-F1: 37.83%,\n",
      "val_loss 1.946\n"
     ]
    },
    {
     "name": "stderr",
     "output_type": "stream",
     "text": [
      "Testing/Validating: 100%|██████████| 52/52 [00:28<00:00,  1.83it/s]72s/it]\n",
      "Training, avg loss: 1.719:  47%|████▋     | 33/70 [41:54<46:41, 75.71s/it]"
     ]
    },
    {
     "name": "stdout",
     "output_type": "stream",
     "text": [
      "ACC@1: 56.76%,\n",
      "ACC@5: 80.81%,\n",
      "Macro-R: 39.84%,\n",
      "Macro-P: 37.03%,\n",
      "Macro-F1: 37.11%,\n",
      "val_loss 1.872\n"
     ]
    },
    {
     "name": "stderr",
     "output_type": "stream",
     "text": [
      "Testing/Validating: 100%|██████████| 52/52 [00:28<00:00,  1.82it/s]71s/it]\n",
      "Training, avg loss: 1.693:  49%|████▊     | 34/70 [43:09<45:26, 75.75s/it]"
     ]
    },
    {
     "name": "stdout",
     "output_type": "stream",
     "text": [
      "ACC@1: 57.01%,\n",
      "ACC@5: 80.58%,\n",
      "Macro-R: 40.2%,\n",
      "Macro-P: 37.49%,\n",
      "Macro-F1: 37.55%,\n",
      "val_loss 1.821\n"
     ]
    },
    {
     "name": "stderr",
     "output_type": "stream",
     "text": [
      "Testing/Validating: 100%|██████████| 52/52 [00:28<00:00,  1.82it/s]75s/it]\n",
      "Training, avg loss: 1.659:  50%|█████     | 35/70 [44:25<44:09, 75.70s/it]"
     ]
    },
    {
     "name": "stdout",
     "output_type": "stream",
     "text": [
      "ACC@1: 56.47%,\n",
      "ACC@5: 80.39%,\n",
      "Macro-R: 41.0%,\n",
      "Macro-P: 37.17%,\n",
      "Macro-F1: 37.81%,\n",
      "val_loss 1.831\n"
     ]
    },
    {
     "name": "stderr",
     "output_type": "stream",
     "text": [
      "Testing/Validating: 100%|██████████| 52/52 [00:28<00:00,  1.82it/s]70s/it]\n",
      "Training, avg loss: 1.646:  51%|█████▏    | 36/70 [45:41<42:54, 75.72s/it]"
     ]
    },
    {
     "name": "stdout",
     "output_type": "stream",
     "text": [
      "ACC@1: 57.43%,\n",
      "ACC@5: 81.66%,\n",
      "Macro-R: 41.78%,\n",
      "Macro-P: 39.07%,\n",
      "Macro-F1: 38.97%,\n",
      "val_loss 1.823\n"
     ]
    },
    {
     "name": "stderr",
     "output_type": "stream",
     "text": [
      "Testing/Validating: 100%|██████████| 52/52 [00:28<00:00,  1.82it/s]72s/it]\n",
      "Training, avg loss: 1.623:  53%|█████▎    | 37/70 [46:56<41:37, 75.68s/it]"
     ]
    },
    {
     "name": "stdout",
     "output_type": "stream",
     "text": [
      "ACC@1: 58.15%,\n",
      "ACC@5: 81.54%,\n",
      "Macro-R: 42.43%,\n",
      "Macro-P: 39.25%,\n",
      "Macro-F1: 39.45%,\n",
      "val_loss 1.772\n"
     ]
    },
    {
     "name": "stderr",
     "output_type": "stream",
     "text": [
      "Testing/Validating: 100%|██████████| 52/52 [00:28<00:00,  1.83it/s]68s/it]\n",
      "Training, avg loss: 1.605:  54%|█████▍    | 38/70 [48:12<40:22, 75.69s/it]"
     ]
    },
    {
     "name": "stdout",
     "output_type": "stream",
     "text": [
      "ACC@1: 56.52%,\n",
      "ACC@5: 82.14%,\n",
      "Macro-R: 40.62%,\n",
      "Macro-P: 37.59%,\n",
      "Macro-F1: 37.55%,\n",
      "val_loss 1.765\n"
     ]
    },
    {
     "name": "stderr",
     "output_type": "stream",
     "text": [
      "Testing/Validating: 100%|██████████| 52/52 [00:28<00:00,  1.83it/s]69s/it]\n",
      "Training, avg loss: 1.573:  56%|█████▌    | 39/70 [49:28<39:06, 75.71s/it]"
     ]
    },
    {
     "name": "stdout",
     "output_type": "stream",
     "text": [
      "ACC@1: 59.3%,\n",
      "ACC@5: 81.72%,\n",
      "Macro-R: 42.03%,\n",
      "Macro-P: 39.45%,\n",
      "Macro-F1: 39.37%,\n",
      "val_loss 1.728\n"
     ]
    },
    {
     "name": "stderr",
     "output_type": "stream",
     "text": [
      "Testing/Validating: 100%|██████████| 52/52 [00:28<00:00,  1.83it/s]71s/it]\n",
      "Training, avg loss: 1.551:  57%|█████▋    | 40/70 [50:44<37:52, 75.74s/it]"
     ]
    },
    {
     "name": "stdout",
     "output_type": "stream",
     "text": [
      "ACC@1: 59.29%,\n",
      "ACC@5: 81.9%,\n",
      "Macro-R: 42.84%,\n",
      "Macro-P: 39.95%,\n",
      "Macro-F1: 40.12%,\n",
      "val_loss 1.729\n"
     ]
    },
    {
     "name": "stderr",
     "output_type": "stream",
     "text": [
      "Testing/Validating: 100%|██████████| 52/52 [00:28<00:00,  1.82it/s]74s/it]\n",
      "Training, avg loss: 1.536:  59%|█████▊    | 41/70 [52:00<36:38, 75.80s/it]"
     ]
    },
    {
     "name": "stdout",
     "output_type": "stream",
     "text": [
      "ACC@1: 59.89%,\n",
      "ACC@5: 81.6%,\n",
      "Macro-R: 44.89%,\n",
      "Macro-P: 40.53%,\n",
      "Macro-F1: 41.15%,\n",
      "val_loss 1.696\n"
     ]
    },
    {
     "name": "stderr",
     "output_type": "stream",
     "text": [
      "Testing/Validating: 100%|██████████| 52/52 [00:28<00:00,  1.82it/s]80s/it]\n",
      "Training, avg loss: 1.512:  60%|██████    | 42/70 [53:15<35:20, 75.73s/it]"
     ]
    },
    {
     "name": "stdout",
     "output_type": "stream",
     "text": [
      "ACC@1: 60.19%,\n",
      "ACC@5: 81.84%,\n",
      "Macro-R: 42.57%,\n",
      "Macro-P: 40.23%,\n",
      "Macro-F1: 40.25%,\n",
      "val_loss 1.728\n"
     ]
    },
    {
     "name": "stderr",
     "output_type": "stream",
     "text": [
      "Testing/Validating: 100%|██████████| 52/52 [00:28<00:00,  1.82it/s]73s/it]\n",
      "Training, avg loss: 1.503:  61%|██████▏   | 43/70 [54:31<34:06, 75.79s/it]"
     ]
    },
    {
     "name": "stdout",
     "output_type": "stream",
     "text": [
      "ACC@1: 59.96%,\n",
      "ACC@5: 82.62%,\n",
      "Macro-R: 43.85%,\n",
      "Macro-P: 41.45%,\n",
      "Macro-F1: 41.19%,\n",
      "val_loss 1.679\n"
     ]
    },
    {
     "name": "stderr",
     "output_type": "stream",
     "text": [
      "Testing/Validating: 100%|██████████| 52/52 [00:28<00:00,  1.83it/s]79s/it]\n",
      "Training, avg loss: 1.478:  63%|██████▎   | 44/70 [55:47<32:49, 75.75s/it]"
     ]
    },
    {
     "name": "stdout",
     "output_type": "stream",
     "text": [
      "ACC@1: 59.89%,\n",
      "ACC@5: 82.62%,\n",
      "Macro-R: 44.21%,\n",
      "Macro-P: 41.79%,\n",
      "Macro-F1: 41.59%,\n",
      "val_loss 1.675\n"
     ]
    },
    {
     "name": "stderr",
     "output_type": "stream",
     "text": [
      "Testing/Validating: 100%|██████████| 52/52 [00:28<00:00,  1.83it/s]75s/it]\n",
      "Training, avg loss: 1.484:  64%|██████▍   | 45/70 [57:03<31:33, 75.75s/it]"
     ]
    },
    {
     "name": "stdout",
     "output_type": "stream",
     "text": [
      "ACC@1: 60.02%,\n",
      "ACC@5: 82.57%,\n",
      "Macro-R: 45.01%,\n",
      "Macro-P: 42.66%,\n",
      "Macro-F1: 42.56%,\n",
      "val_loss 1.675\n"
     ]
    },
    {
     "name": "stderr",
     "output_type": "stream",
     "text": [
      "Testing/Validating: 100%|██████████| 52/52 [00:28<00:00,  1.83it/s]75s/it]\n",
      "Training, avg loss: 1.443:  66%|██████▌   | 46/70 [58:18<30:18, 75.77s/it]"
     ]
    },
    {
     "name": "stdout",
     "output_type": "stream",
     "text": [
      "ACC@1: 60.32%,\n",
      "ACC@5: 83.34%,\n",
      "Macro-R: 44.26%,\n",
      "Macro-P: 41.26%,\n",
      "Macro-F1: 41.47%,\n",
      "val_loss 1.63\n"
     ]
    },
    {
     "name": "stderr",
     "output_type": "stream",
     "text": [
      "Testing/Validating: 100%|██████████| 52/52 [00:28<00:00,  1.83it/s]77s/it]\n",
      "Training, avg loss: 1.413:  67%|██████▋   | 47/70 [59:34<29:01, 75.72s/it]"
     ]
    },
    {
     "name": "stdout",
     "output_type": "stream",
     "text": [
      "ACC@1: 59.66%,\n",
      "ACC@5: 83.53%,\n",
      "Macro-R: 44.27%,\n",
      "Macro-P: 41.58%,\n",
      "Macro-F1: 41.59%,\n",
      "val_loss 1.629\n"
     ]
    },
    {
     "name": "stderr",
     "output_type": "stream",
     "text": [
      "Testing/Validating: 100%|██████████| 52/52 [00:28<00:00,  1.81it/s]5.72s/it]\n",
      "Training, avg loss: 1.399:  69%|██████▊   | 48/70 [1:00:50<27:47, 75.79s/it]"
     ]
    },
    {
     "name": "stdout",
     "output_type": "stream",
     "text": [
      "ACC@1: 60.37%,\n",
      "ACC@5: 83.4%,\n",
      "Macro-R: 45.48%,\n",
      "Macro-P: 43.25%,\n",
      "Macro-F1: 43.03%,\n",
      "val_loss 1.647\n"
     ]
    },
    {
     "name": "stderr",
     "output_type": "stream",
     "text": [
      "Testing/Validating: 100%|██████████| 52/52 [00:28<00:00,  1.82it/s]5.79s/it]\n",
      "Training, avg loss: 1.390:  70%|███████   | 49/70 [1:02:05<26:30, 75.71s/it]"
     ]
    },
    {
     "name": "stdout",
     "output_type": "stream",
     "text": [
      "ACC@1: 62.36%,\n",
      "ACC@5: 84.55%,\n",
      "Macro-R: 47.61%,\n",
      "Macro-P: 44.69%,\n",
      "Macro-F1: 44.83%,\n",
      "val_loss 1.601\n"
     ]
    },
    {
     "name": "stderr",
     "output_type": "stream",
     "text": [
      "Testing/Validating: 100%|██████████| 52/52 [00:28<00:00,  1.81it/s]5.71s/it]\n",
      "Training, avg loss: 1.370:  71%|███████▏  | 50/70 [1:03:21<25:14, 75.72s/it]"
     ]
    },
    {
     "name": "stdout",
     "output_type": "stream",
     "text": [
      "ACC@1: 60.25%,\n",
      "ACC@5: 83.64%,\n",
      "Macro-R: 44.39%,\n",
      "Macro-P: 42.11%,\n",
      "Macro-F1: 42.11%,\n",
      "val_loss 1.603\n"
     ]
    },
    {
     "name": "stderr",
     "output_type": "stream",
     "text": [
      "Testing/Validating: 100%|██████████| 52/52 [00:28<00:00,  1.82it/s]5.72s/it]\n",
      "Training, avg loss: 1.352:  73%|███████▎  | 51/70 [1:04:38<24:02, 75.92s/it]"
     ]
    },
    {
     "name": "stdout",
     "output_type": "stream",
     "text": [
      "ACC@1: 62.05%,\n",
      "ACC@5: 85.2%,\n",
      "Macro-R: 46.01%,\n",
      "Macro-P: 43.05%,\n",
      "Macro-F1: 43.29%,\n",
      "val_loss 1.598\n"
     ]
    },
    {
     "name": "stderr",
     "output_type": "stream",
     "text": [
      "Testing/Validating: 100%|██████████| 52/52 [00:28<00:00,  1.82it/s]5.92s/it]\n",
      "Training, avg loss: 1.341:  74%|███████▍  | 52/70 [1:05:54<22:50, 76.11s/it]"
     ]
    },
    {
     "name": "stdout",
     "output_type": "stream",
     "text": [
      "ACC@1: 62.36%,\n",
      "ACC@5: 84.67%,\n",
      "Macro-R: 46.13%,\n",
      "Macro-P: 44.54%,\n",
      "Macro-F1: 44.1%,\n",
      "val_loss 1.615\n"
     ]
    },
    {
     "name": "stderr",
     "output_type": "stream",
     "text": [
      "Testing/Validating: 100%|██████████| 52/52 [00:28<00:00,  1.81it/s]6.11s/it]\n",
      "Training, avg loss: 1.332:  76%|███████▌  | 53/70 [1:07:11<21:37, 76.31s/it]"
     ]
    },
    {
     "name": "stdout",
     "output_type": "stream",
     "text": [
      "ACC@1: 62.78%,\n",
      "ACC@5: 83.83%,\n",
      "Macro-R: 47.45%,\n",
      "Macro-P: 45.41%,\n",
      "Macro-F1: 45.2%,\n",
      "val_loss 1.588\n"
     ]
    },
    {
     "name": "stderr",
     "output_type": "stream",
     "text": [
      "Testing/Validating: 100%|██████████| 52/52 [00:28<00:00,  1.81it/s]6.31s/it]\n",
      "Training, avg loss: 1.303:  77%|███████▋  | 54/70 [1:08:28<20:22, 76.40s/it]"
     ]
    },
    {
     "name": "stdout",
     "output_type": "stream",
     "text": [
      "ACC@1: 60.97%,\n",
      "ACC@5: 84.13%,\n",
      "Macro-R: 45.42%,\n",
      "Macro-P: 42.76%,\n",
      "Macro-F1: 42.74%,\n",
      "val_loss 1.617\n"
     ]
    },
    {
     "name": "stderr",
     "output_type": "stream",
     "text": [
      "Testing/Validating: 100%|██████████| 52/52 [00:28<00:00,  1.82it/s]6.40s/it]\n",
      "Training, avg loss: 1.305:  79%|███████▊  | 55/70 [1:09:44<19:07, 76.51s/it]"
     ]
    },
    {
     "name": "stdout",
     "output_type": "stream",
     "text": [
      "ACC@1: 62.41%,\n",
      "ACC@5: 85.39%,\n",
      "Macro-R: 45.7%,\n",
      "Macro-P: 43.5%,\n",
      "Macro-F1: 43.51%,\n",
      "val_loss 1.566\n"
     ]
    },
    {
     "name": "stderr",
     "output_type": "stream",
     "text": [
      "Testing/Validating: 100%|██████████| 52/52 [00:28<00:00,  1.80it/s]6.51s/it]\n",
      "Training, avg loss: 1.336:  80%|████████  | 56/70 [1:11:01<17:51, 76.56s/it]"
     ]
    },
    {
     "name": "stdout",
     "output_type": "stream",
     "text": [
      "ACC@1: 62.3%,\n",
      "ACC@5: 84.67%,\n",
      "Macro-R: 46.88%,\n",
      "Macro-P: 44.89%,\n",
      "Macro-F1: 44.67%,\n",
      "val_loss 1.557\n"
     ]
    },
    {
     "name": "stderr",
     "output_type": "stream",
     "text": [
      "Testing/Validating: 100%|██████████| 52/52 [00:28<00:00,  1.81it/s]6.56s/it]\n",
      "Training, avg loss: 1.282:  81%|████████▏ | 57/70 [1:12:18<16:36, 76.67s/it]"
     ]
    },
    {
     "name": "stdout",
     "output_type": "stream",
     "text": [
      "ACC@1: 62.78%,\n",
      "ACC@5: 84.79%,\n",
      "Macro-R: 46.27%,\n",
      "Macro-P: 43.73%,\n",
      "Macro-F1: 43.74%,\n",
      "val_loss 1.542\n"
     ]
    },
    {
     "name": "stderr",
     "output_type": "stream",
     "text": [
      "Testing/Validating: 100%|██████████| 52/52 [00:28<00:00,  1.80it/s]6.67s/it]\n",
      "Training, avg loss: 1.263:  83%|████████▎ | 58/70 [1:13:35<15:21, 76.80s/it]"
     ]
    },
    {
     "name": "stdout",
     "output_type": "stream",
     "text": [
      "ACC@1: 63.63%,\n",
      "ACC@5: 85.33%,\n",
      "Macro-R: 48.15%,\n",
      "Macro-P: 45.47%,\n",
      "Macro-F1: 45.63%,\n",
      "val_loss 1.509\n"
     ]
    },
    {
     "name": "stderr",
     "output_type": "stream",
     "text": [
      "Testing/Validating: 100%|██████████| 52/52 [00:28<00:00,  1.81it/s]6.80s/it]\n",
      "Training, avg loss: 1.238:  84%|████████▍ | 59/70 [1:14:52<14:03, 76.72s/it]"
     ]
    },
    {
     "name": "stdout",
     "output_type": "stream",
     "text": [
      "ACC@1: 63.56%,\n",
      "ACC@5: 85.69%,\n",
      "Macro-R: 47.92%,\n",
      "Macro-P: 45.93%,\n",
      "Macro-F1: 45.66%,\n",
      "val_loss 1.488\n"
     ]
    },
    {
     "name": "stderr",
     "output_type": "stream",
     "text": [
      "Testing/Validating: 100%|██████████| 52/52 [00:28<00:00,  1.83it/s]6.72s/it]\n",
      "Training, avg loss: 1.226:  86%|████████▌ | 60/70 [1:16:08<12:46, 76.66s/it]"
     ]
    },
    {
     "name": "stdout",
     "output_type": "stream",
     "text": [
      "ACC@1: 61.09%,\n",
      "ACC@5: 84.48%,\n",
      "Macro-R: 46.23%,\n",
      "Macro-P: 43.11%,\n",
      "Macro-F1: 43.37%,\n",
      "val_loss 1.538\n"
     ]
    },
    {
     "name": "stderr",
     "output_type": "stream",
     "text": [
      "Testing/Validating: 100%|██████████| 52/52 [00:28<00:00,  1.80it/s]6.66s/it]\n",
      "Training, avg loss: 1.163:  87%|████████▋ | 61/70 [1:17:25<11:29, 76.65s/it]"
     ]
    },
    {
     "name": "stdout",
     "output_type": "stream",
     "text": [
      "ACC@1: 64.7%,\n",
      "ACC@5: 86.4%,\n",
      "Macro-R: 49.27%,\n",
      "Macro-P: 47.11%,\n",
      "Macro-F1: 47.01%,\n",
      "val_loss 1.465\n"
     ]
    },
    {
     "name": "stderr",
     "output_type": "stream",
     "text": [
      "Testing/Validating: 100%|██████████| 52/52 [00:28<00:00,  1.81it/s]6.65s/it]\n",
      "Training, avg loss: 1.153:  89%|████████▊ | 62/70 [1:18:41<10:12, 76.59s/it]"
     ]
    },
    {
     "name": "stdout",
     "output_type": "stream",
     "text": [
      "ACC@1: 65.01%,\n",
      "ACC@5: 86.59%,\n",
      "Macro-R: 49.54%,\n",
      "Macro-P: 47.52%,\n",
      "Macro-F1: 47.37%,\n",
      "val_loss 1.461\n"
     ]
    },
    {
     "name": "stderr",
     "output_type": "stream",
     "text": [
      "Testing/Validating: 100%|██████████| 52/52 [00:28<00:00,  1.81it/s]6.59s/it]\n",
      "Training, avg loss: 1.150:  90%|█████████ | 63/70 [1:19:58<08:56, 76.67s/it]"
     ]
    },
    {
     "name": "stdout",
     "output_type": "stream",
     "text": [
      "ACC@1: 65.18%,\n",
      "ACC@5: 86.59%,\n",
      "Macro-R: 49.01%,\n",
      "Macro-P: 47.01%,\n",
      "Macro-F1: 46.95%,\n",
      "val_loss 1.46\n"
     ]
    },
    {
     "name": "stderr",
     "output_type": "stream",
     "text": [
      "Testing/Validating: 100%|██████████| 52/52 [00:28<00:00,  1.83it/s]6.67s/it]\n",
      "Training, avg loss: 1.149:  91%|█████████▏| 64/70 [1:21:14<07:39, 76.51s/it]"
     ]
    },
    {
     "name": "stdout",
     "output_type": "stream",
     "text": [
      "ACC@1: 64.7%,\n",
      "ACC@5: 86.47%,\n",
      "Macro-R: 48.8%,\n",
      "Macro-P: 46.68%,\n",
      "Macro-F1: 46.55%,\n",
      "val_loss 1.461\n"
     ]
    },
    {
     "name": "stderr",
     "output_type": "stream",
     "text": [
      "Testing/Validating: 100%|██████████| 52/52 [00:28<00:00,  1.81it/s]6.51s/it]\n",
      "Training, avg loss: 1.148:  93%|█████████▎| 65/70 [1:22:30<06:21, 76.40s/it]"
     ]
    },
    {
     "name": "stdout",
     "output_type": "stream",
     "text": [
      "ACC@1: 64.16%,\n",
      "ACC@5: 86.53%,\n",
      "Macro-R: 48.41%,\n",
      "Macro-P: 46.66%,\n",
      "Macro-F1: 46.38%,\n",
      "val_loss 1.463\n"
     ]
    },
    {
     "name": "stderr",
     "output_type": "stream",
     "text": [
      "Testing/Validating: 100%|██████████| 52/52 [00:28<00:00,  1.82it/s]6.40s/it]\n",
      "Training, avg loss: 1.146:  94%|█████████▍| 66/70 [1:23:47<05:05, 76.39s/it]"
     ]
    },
    {
     "name": "stdout",
     "output_type": "stream",
     "text": [
      "ACC@1: 64.53%,\n",
      "ACC@5: 86.53%,\n",
      "Macro-R: 48.72%,\n",
      "Macro-P: 46.59%,\n",
      "Macro-F1: 46.58%,\n",
      "val_loss 1.46\n"
     ]
    },
    {
     "name": "stderr",
     "output_type": "stream",
     "text": [
      "Testing/Validating: 100%|██████████| 52/52 [00:28<00:00,  1.82it/s]6.39s/it]\n",
      "Training, avg loss: 1.143:  96%|█████████▌| 67/70 [1:25:03<03:48, 76.33s/it]"
     ]
    },
    {
     "name": "stdout",
     "output_type": "stream",
     "text": [
      "ACC@1: 64.76%,\n",
      "ACC@5: 86.84%,\n",
      "Macro-R: 49.24%,\n",
      "Macro-P: 46.46%,\n",
      "Macro-F1: 46.67%,\n",
      "val_loss 1.456\n"
     ]
    },
    {
     "name": "stderr",
     "output_type": "stream",
     "text": [
      "Testing/Validating: 100%|██████████| 52/52 [00:28<00:00,  1.81it/s]6.33s/it]\n",
      "Training, avg loss: 1.143:  97%|█████████▋| 68/70 [1:26:19<02:32, 76.36s/it]"
     ]
    },
    {
     "name": "stdout",
     "output_type": "stream",
     "text": [
      "ACC@1: 65.12%,\n",
      "ACC@5: 86.77%,\n",
      "Macro-R: 48.95%,\n",
      "Macro-P: 47.0%,\n",
      "Macro-F1: 46.86%,\n",
      "val_loss 1.456\n"
     ]
    },
    {
     "name": "stderr",
     "output_type": "stream",
     "text": [
      "Testing/Validating: 100%|██████████| 52/52 [00:28<00:00,  1.81it/s]6.36s/it]\n",
      "Training, avg loss: 1.140:  99%|█████████▊| 69/70 [1:27:36<01:16, 76.37s/it]"
     ]
    },
    {
     "name": "stdout",
     "output_type": "stream",
     "text": [
      "ACC@1: 64.47%,\n",
      "ACC@5: 86.96%,\n",
      "Macro-R: 49.26%,\n",
      "Macro-P: 47.07%,\n",
      "Macro-F1: 47.01%,\n",
      "val_loss 1.456\n"
     ]
    },
    {
     "name": "stderr",
     "output_type": "stream",
     "text": [
      "Testing/Validating: 100%|██████████| 52/52 [00:28<00:00,  1.81it/s]6.37s/it]\n",
      "Training, avg loss: 1.139: 100%|██████████| 70/70 [1:28:52<00:00, 76.18s/it]"
     ]
    },
    {
     "name": "stdout",
     "output_type": "stream",
     "text": [
      "ACC@1: 65.43%,\n",
      "ACC@5: 86.77%,\n",
      "Macro-R: 50.0%,\n",
      "Macro-P: 47.48%,\n",
      "Macro-F1: 47.56%,\n",
      "val_loss 1.455\n"
     ]
    },
    {
     "name": "stderr",
     "output_type": "stream",
     "text": [
      "\n"
     ]
    }
   ],
   "source": [
    "train_log, saved_model_state_dict = train_user_model(model=trajfm, \n",
    "                                                    train_dataloader=train_dataloader, \n",
    "                                                    val_dataloader=val_dataloader,\n",
    "                                                    device = device, \n",
    "                                                    **setting['finetune']['config'],\n",
    "                                                    data_summary = data_summary)\n",
    "\n",
    "if setting['finetune'].get('save', False):\n",
    "    # save model\n",
    "    utils.create_if_noexists(MODEL_CACHE_DIR)\n",
    "    torch.save(saved_model_state_dict, os.path.join(MODEL_CACHE_DIR, f'{SAVE_NAME}.{downstreamtask}'))\n",
    "    \n",
    "    # save log\n",
    "    log_dir = os.path.join(LOG_SAVE_DIR, SAVE_NAME)\n",
    "    utils.create_if_noexists(log_dir)\n",
    "    log_path = os.path.join(log_dir, f'{SAVE_NAME}_{downstreamtask}.csv')\n",
    "    file_exists = os.path.exists(log_path)\n",
    "    train_log.to_csv(log_path, mode='a', header=not file_exists, index=False)"
   ]
  },
  {
   "cell_type": "code",
   "execution_count": 8,
   "id": "abdedca1",
   "metadata": {},
   "outputs": [
    {
     "name": "stderr",
     "output_type": "stream",
     "text": [
      "Testing/Validating: 100%|██████████| 52/52 [00:28<00:00,  1.81it/s]"
     ]
    },
    {
     "name": "stdout",
     "output_type": "stream",
     "text": [
      "ACC@1: 65.26%,\n",
      "ACC@5: 85.82%,\n",
      "Macro-R: 50.67%,\n",
      "Macro-P: 48.78%,\n",
      "Macro-F1: 48.33%,\n"
     ]
    },
    {
     "name": "stderr",
     "output_type": "stream",
     "text": [
      "\n"
     ]
    }
   ],
   "source": [
    "metrics, _ = test_user_model(model=trajfm, dataloader=test_dataloader, device = device)\n",
    "for key, value in metrics.items():\n",
    "    print(f\"{key}: {round(value * 100, 2)}%,\")"
   ]
  },
  {
   "cell_type": "code",
   "execution_count": 9,
   "id": "f798cf97",
   "metadata": {},
   "outputs": [],
   "source": [
    "df = pd.DataFrame([{\n",
    "    \"Model\": f\"{SAVE_NAME}\",\n",
    "    **{key: round(value * 100, 2) for key, value in metrics.items()}\n",
    "}])\n",
    "\n",
    "csv_path = \"logs/test.csv\"\n",
    "if os.path.exists(csv_path):\n",
    "    df.to_csv(csv_path, mode='a', header=False, index=False)\n",
    "else:\n",
    "    df.to_csv(csv_path, index=False)"
   ]
  }
 ],
 "metadata": {
  "kernelspec": {
   "display_name": "cloudspace",
   "language": "python",
   "name": "python3"
  },
  "language_info": {
   "codemirror_mode": {
    "name": "ipython",
    "version": 3
   },
   "file_extension": ".py",
   "mimetype": "text/x-python",
   "name": "python",
   "nbconvert_exporter": "python",
   "pygments_lexer": "ipython3",
   "version": "3.10.10"
  }
 },
 "nbformat": 4,
 "nbformat_minor": 5
}
