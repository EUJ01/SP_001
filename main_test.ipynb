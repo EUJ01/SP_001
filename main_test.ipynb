{
 "cells": [
  {
   "cell_type": "code",
   "execution_count": 8,
   "id": "0c408ac4",
   "metadata": {},
   "outputs": [],
   "source": [
    "import os\n",
    "import json\n",
    "import numpy as np\n",
    "import pandas as pd\n",
    "import torch\n",
    "from torch.utils.data import DataLoader\n",
    "import utils\n",
    "from models.trajfm import TrajFM\n",
    "from data import TrajFMDataset, PretrainPadder, fetch_task_padder, X_COL, Y_COL, coord_transform_GPS_UTM\n",
    "from torch.utils.data import random_split\n",
    "import warnings\n",
    "from pipeline import train_user_model, test_user_model\n",
    "import torch.multiprocessing as mp\n",
    "warnings.filterwarnings('ignore')"
   ]
  },
  {
   "cell_type": "code",
   "execution_count": 9,
   "id": "84217ed8",
   "metadata": {},
   "outputs": [
    {
     "name": "stdout",
     "output_type": "stream",
     "text": [
      "device: cuda\n"
     ]
    }
   ],
   "source": [
    "SETTINGS_CACHE_DIR = os.environ.get('SETTINGS_CACHE_DIR', os.path.join('settings', 'cache'))\n",
    "MODEL_CACHE_DIR = os.environ.get('MODEL_CACHE_DIR', 'saved_model')\n",
    "LOG_SAVE_DIR = os.environ.get('LOG_SAVE_DIR', 'logs')\n",
    "PRED_SAVE_DIR = os.environ.get('PRED_SAVE_DIR', 'predictions')\n",
    "\n",
    "SEED = 42\n",
    "np.random.seed(SEED)\n",
    "torch.manual_seed(SEED)\n",
    "torch.cuda.manual_seed_all(SEED)\n",
    "torch.backends.cudnn.deterministic = True\n",
    "torch.backends.cudnn.benchmark = False\n",
    "\n",
    "os.environ['CUDA_VISIBLE_DEVICES'] = '0'\n",
    "os.environ['PYDEVD_DISABLE_FILE_VALIDATION'] = '1'\n",
    "\n",
    "\n",
    "if mp.get_start_method(allow_none=True) is None:\n",
    "    mp.set_start_method('spawn')\n",
    "device = f'cuda' if torch.cuda.is_available() else 'cpu'\n",
    "\n",
    "torch.backends.cuda.enable_mem_efficient_sdp(False)\n",
    "torch.backends.cuda.enable_flash_sdp(False)\n",
    "torch.backends.cuda.enable_math_sdp(True)\n",
    "# This key is an indicator of multiple things.\n",
    "datetime_key = utils.get_datetime_key()\n",
    "\n",
    "\n",
    "with open(os.path.join('settings', f'local_test.json'), 'r') as fp:\n",
    "    setting = json.load(fp)\n",
    "    setting = setting[0]\n",
    "utils.create_if_noexists(SETTINGS_CACHE_DIR)\n",
    "with open(os.path.join(SETTINGS_CACHE_DIR, f'{datetime_key}.json'), 'w') as fp:\n",
    "    json.dump(setting, fp)\n",
    "    \n",
    "print(\"device:\", device)"
   ]
  },
  {
   "cell_type": "code",
   "execution_count": 10,
   "id": "71773187",
   "metadata": {},
   "outputs": [
    {
     "name": "stdout",
     "output_type": "stream",
     "text": [
      "dataset: ./dataset/geolife_U89_TrajAll_L1000.h5\n"
     ]
    }
   ],
   "source": [
    "SAVE_NAME = setting[\"save_name\"]\n",
    "\n",
    "train_traj_df = pd.read_hdf(setting['dataset']['train_traj_df'], key='trips')\n",
    "print(\"dataset:\", setting['dataset']['train_traj_df'])\n",
    "user_count = len(train_traj_df['user_id'].unique())\n",
    "traj_count = len(train_traj_df['traj_id'].unique())\n",
    "traj_len = len(train_traj_df['seq_i'])\n",
    "tao = train_traj_df['delta_t'].mean()\n",
    "setting[\"finetune\"][\"padder\"][\"params\"][\"num_users\"] = user_count\n",
    "\n",
    "scale = 4000\n",
    "# if \"chengdu\" in setting['dataset']['train_traj_df']:\n",
    "#     UTM_region = 48\n",
    "# if \"xian\" in setting['dataset']['train_traj_df']:\n",
    "#     UTM_region = 49\n",
    "if \"geolife\" in setting['dataset']['train_traj_df']:\n",
    "    UTM_region = 50  \n",
    "train_dataset = TrajFMDataset(traj_df=train_traj_df, UTM_region=UTM_region, scale = scale)\n",
    "\n",
    "poi_df = pd.read_hdf(setting['dataset']['poi_df'], key='pois')\n",
    "poi_embed = torch.from_numpy(np.load(setting['dataset']['poi_embed'])).float().to(device)\n",
    "\n",
    "poi_coors = poi_df[[X_COL, Y_COL]].to_numpy()\n",
    "poi_coors = (coord_transform_GPS_UTM(poi_coors, UTM_region) - train_dataset.spatial_middle_coord) / scale\n",
    "poi_coors = torch.tensor(poi_coors).float().to(device)\n",
    "\n",
    "# Build the learnable model.\n",
    "trajfm = TrajFM(poi_embed=poi_embed, \n",
    "                poi_coors=poi_coors, \n",
    "                UTM_region=UTM_region,\n",
    "                spatial_middle_coord = train_dataset.spatial_middle_coord, \n",
    "                scale = scale, \n",
    "                **setting['trajfm'],\n",
    "                user = user_count).to(device)"
   ]
  },
  {
   "cell_type": "code",
   "execution_count": 11,
   "id": "a62886f4",
   "metadata": {},
   "outputs": [
    {
     "name": "stdout",
     "output_type": "stream",
     "text": [
      "users : 89\n",
      "total_traj : 8317\n",
      "total_points : 5941128\n",
      "Data Filtering : ['25th to 75th quartile based on traj_len', 'traj_len > 30 points', 'delta_t > 1800s', 'traj/user > 30 traj', 'resampled traj to 1000 points max', 'user_number and seq_i recalculated', 'only transformer used']\n"
     ]
    }
   ],
   "source": [
    "data_summary = {\n",
    "    \"users\": user_count,\n",
    "    \"total_traj\": traj_count,           \n",
    "    \"total_points\": traj_len,\n",
    "    \"Data Filtering\": [ \n",
    "        \"25th to 75th quartile based on traj_len\", \n",
    "        \"traj_len > 30 points\", \n",
    "        \"delta_t > 1800s\",\n",
    "        \"traj/user > 30 traj\",\n",
    "        \"resampled traj to 1000 points max\",\n",
    "        \"user_number and seq_i recalculated\",\n",
    "        \"only transformer used\"]\n",
    "}\n",
    "\n",
    "for key, value in data_summary.items():\n",
    "    print(key, \":\", value)"
   ]
  },
  {
   "cell_type": "code",
   "execution_count": 12,
   "id": "e20c8b5a",
   "metadata": {},
   "outputs": [],
   "source": [
    "total_size = len(train_dataset)\n",
    "train_size = int(0.6 * total_size)\n",
    "val_test_size = total_size - train_size\n",
    "val_size = int(0.5 * val_test_size)\n",
    "test_size = val_test_size - val_size\n",
    "\n",
    "train_dataset, val_test_dataset = random_split(train_dataset, [train_size, val_test_size])\n",
    "val_dataset, test_dataset = random_split(val_test_dataset, [val_size, test_size])"
   ]
  },
  {
   "cell_type": "code",
   "execution_count": 13,
   "id": "d56d6463",
   "metadata": {},
   "outputs": [
    {
     "name": "stdout",
     "output_type": "stream",
     "text": [
      "Model not found, starting new\n"
     ]
    }
   ],
   "source": [
    "downstreamtask = setting['finetune']['padder']['name']\n",
    "\n",
    "file_path = f\"{SAVE_NAME}.{downstreamtask}\"\n",
    "if os.path.exists(file_path):\n",
    "    print(f\"Loading model {file_path}\")\n",
    "    trajfm.load_state_dict(torch.load(os.path.join(MODEL_CACHE_DIR, f'{SAVE_NAME}.{downstreamtask}'), map_location=device))\n",
    "else:\n",
    "    print(\"Model not found, starting new\")\n",
    "    \n",
    "padder = fetch_task_padder(padder_name=setting['finetune']['padder']['name'], padder_params=setting['finetune']['padder']['params'])\n",
    "\n",
    "train_dataloader = DataLoader(train_dataset, collate_fn=padder, **setting['finetune']['dataloader'])\n",
    "val_dataloader = DataLoader(val_dataset, collate_fn=padder, **setting['finetune']['dataloader'])\n",
    "test_dataloader = DataLoader(test_dataset, collate_fn=padder, **setting['finetune']['dataloader'])"
   ]
  },
  {
   "cell_type": "code",
   "execution_count": 14,
   "id": "fca23fbc",
   "metadata": {},
   "outputs": [
    {
     "data": {
      "text/html": [],
      "text/plain": [
       "<IPython.core.display.HTML object>"
      ]
     },
     "metadata": {},
     "output_type": "display_data"
    },
    {
     "data": {
      "text/html": [
       " View run <strong style=\"color:#cdcd00\">U89_TrajAll_L1000_v3.3_noROPE</strong> at: <a href='https://wandb.ai/SP_001/TrajFM%20TUL/runs/U89_TrajAll_L1000_v3.3_noROPE' target=\"_blank\">https://wandb.ai/SP_001/TrajFM%20TUL/runs/U89_TrajAll_L1000_v3.3_noROPE</a><br> View project at: <a href='https://wandb.ai/SP_001/TrajFM%20TUL' target=\"_blank\">https://wandb.ai/SP_001/TrajFM%20TUL</a><br>Synced 5 W&B file(s), 0 media file(s), 0 artifact file(s) and 0 other file(s)"
      ],
      "text/plain": [
       "<IPython.core.display.HTML object>"
      ]
     },
     "metadata": {},
     "output_type": "display_data"
    },
    {
     "data": {
      "text/html": [
       "Find logs at: <code>./wandb/run-20250423_224544-U89_TrajAll_L1000_v3.3_noROPE/logs</code>"
      ],
      "text/plain": [
       "<IPython.core.display.HTML object>"
      ]
     },
     "metadata": {},
     "output_type": "display_data"
    },
    {
     "data": {
      "text/html": [
       "Tracking run with wandb version 0.19.9"
      ],
      "text/plain": [
       "<IPython.core.display.HTML object>"
      ]
     },
     "metadata": {},
     "output_type": "display_data"
    },
    {
     "data": {
      "text/html": [
       "Run data is saved locally in <code>/teamspace/studios/this_studio/wandb/run-20250423_224645-U89_TrajAll_L1000_v3.3_noROPE</code>"
      ],
      "text/plain": [
       "<IPython.core.display.HTML object>"
      ]
     },
     "metadata": {},
     "output_type": "display_data"
    },
    {
     "data": {
      "text/html": [
       "Resuming run <strong><a href='https://wandb.ai/SP_001/TrajFM%20TUL/runs/U89_TrajAll_L1000_v3.3_noROPE' target=\"_blank\">U89_TrajAll_L1000_v3.3_noROPE</a></strong> to <a href='https://wandb.ai/SP_001/TrajFM%20TUL' target=\"_blank\">Weights & Biases</a> (<a href='https://wandb.me/developer-guide' target=\"_blank\">docs</a>)<br>"
      ],
      "text/plain": [
       "<IPython.core.display.HTML object>"
      ]
     },
     "metadata": {},
     "output_type": "display_data"
    },
    {
     "data": {
      "text/html": [
       " View project at <a href='https://wandb.ai/SP_001/TrajFM%20TUL' target=\"_blank\">https://wandb.ai/SP_001/TrajFM%20TUL</a>"
      ],
      "text/plain": [
       "<IPython.core.display.HTML object>"
      ]
     },
     "metadata": {},
     "output_type": "display_data"
    },
    {
     "data": {
      "text/html": [
       " View run at <a href='https://wandb.ai/SP_001/TrajFM%20TUL/runs/U89_TrajAll_L1000_v3.3_noROPE' target=\"_blank\">https://wandb.ai/SP_001/TrajFM%20TUL/runs/U89_TrajAll_L1000_v3.3_noROPE</a>"
      ],
      "text/plain": [
       "<IPython.core.display.HTML object>"
      ]
     },
     "metadata": {},
     "output_type": "display_data"
    },
    {
     "name": "stdout",
     "output_type": "stream",
     "text": [
      "The run id is U89_TrajAll_L1000_v3.3_noROPE\n"
     ]
    },
    {
     "name": "stderr",
     "output_type": "stream",
     "text": [
      "Testing/Validating: 100%|██████████| 52/52 [00:29<00:00,  1.77it/s]\n",
      "Training, avg loss: 3.907:   3%|▎         | 1/30 [01:17<37:33, 77.72s/it]"
     ]
    },
    {
     "name": "stdout",
     "output_type": "stream",
     "text": [
      "ACC@1: 18.94%,\n",
      "ACC@5: 37.28%,\n",
      "Macro-R: 6.78%,\n",
      "Macro-P: 1.79%,\n",
      "Macro-F1: 2.7%,\n",
      "val_loss 3.755\n"
     ]
    },
    {
     "name": "stderr",
     "output_type": "stream",
     "text": [
      "Testing/Validating: 100%|██████████| 52/52 [00:29<00:00,  1.78it/s]2s/it]\n",
      "Training, avg loss: 3.738:   7%|▋         | 2/30 [02:34<36:02, 77.24s/it]"
     ]
    },
    {
     "name": "stdout",
     "output_type": "stream",
     "text": [
      "ACC@1: 18.82%,\n",
      "ACC@5: 36.93%,\n",
      "Macro-R: 6.55%,\n",
      "Macro-P: 1.76%,\n",
      "Macro-F1: 2.68%,\n",
      "val_loss 3.715\n"
     ]
    },
    {
     "name": "stderr",
     "output_type": "stream",
     "text": [
      "Testing/Validating: 100%|██████████| 52/52 [00:29<00:00,  1.78it/s]4s/it]\n",
      "Training, avg loss: 3.682:  10%|█         | 3/30 [03:51<34:36, 76.91s/it]"
     ]
    },
    {
     "name": "stdout",
     "output_type": "stream",
     "text": [
      "ACC@1: 20.99%,\n",
      "ACC@5: 38.54%,\n",
      "Macro-R: 7.9%,\n",
      "Macro-P: 2.54%,\n",
      "Macro-F1: 3.36%,\n",
      "val_loss 3.617\n"
     ]
    },
    {
     "name": "stderr",
     "output_type": "stream",
     "text": [
      "Testing/Validating: 100%|██████████| 52/52 [00:29<00:00,  1.79it/s]1s/it]\n",
      "Training, avg loss: 3.577:  13%|█▎        | 4/30 [05:07<33:16, 76.78s/it]"
     ]
    },
    {
     "name": "stdout",
     "output_type": "stream",
     "text": [
      "ACC@1: 20.51%,\n",
      "ACC@5: 42.58%,\n",
      "Macro-R: 7.14%,\n",
      "Macro-P: 2.16%,\n",
      "Macro-F1: 3.03%,\n",
      "val_loss 3.524\n"
     ]
    },
    {
     "name": "stderr",
     "output_type": "stream",
     "text": [
      "Testing/Validating: 100%|██████████| 52/52 [00:28<00:00,  1.80it/s]8s/it]\n",
      "Training, avg loss: 3.484:  17%|█▋        | 5/30 [06:24<31:59, 76.76s/it]"
     ]
    },
    {
     "name": "stdout",
     "output_type": "stream",
     "text": [
      "ACC@1: 20.93%,\n",
      "ACC@5: 45.23%,\n",
      "Macro-R: 8.0%,\n",
      "Macro-P: 2.9%,\n",
      "Macro-F1: 3.59%,\n",
      "val_loss 3.44\n"
     ]
    },
    {
     "name": "stderr",
     "output_type": "stream",
     "text": [
      "Testing/Validating: 100%|██████████| 52/52 [00:29<00:00,  1.78it/s]6s/it]\n",
      "Training, avg loss: 3.384:  20%|██        | 6/30 [07:41<30:43, 76.80s/it]"
     ]
    },
    {
     "name": "stdout",
     "output_type": "stream",
     "text": [
      "ACC@1: 24.3%,\n",
      "ACC@5: 47.39%,\n",
      "Macro-R: 10.06%,\n",
      "Macro-P: 6.1%,\n",
      "Macro-F1: 6.28%,\n",
      "val_loss 3.351\n"
     ]
    },
    {
     "name": "stderr",
     "output_type": "stream",
     "text": [
      "Testing/Validating: 100%|██████████| 52/52 [00:29<00:00,  1.79it/s]0s/it]\n",
      "Training, avg loss: 3.317:  23%|██▎       | 7/30 [08:58<29:25, 76.76s/it]"
     ]
    },
    {
     "name": "stdout",
     "output_type": "stream",
     "text": [
      "ACC@1: 28.75%,\n",
      "ACC@5: 51.85%,\n",
      "Macro-R: 13.99%,\n",
      "Macro-P: 9.33%,\n",
      "Macro-F1: 9.79%,\n",
      "val_loss 3.225\n"
     ]
    },
    {
     "name": "stderr",
     "output_type": "stream",
     "text": [
      "Testing/Validating: 100%|██████████| 52/52 [00:28<00:00,  1.80it/s]6s/it]\n",
      "Training, avg loss: 3.102:  27%|██▋       | 8/30 [10:14<28:07, 76.71s/it]"
     ]
    },
    {
     "name": "stdout",
     "output_type": "stream",
     "text": [
      "ACC@1: 33.79%,\n",
      "ACC@5: 55.8%,\n",
      "Macro-R: 18.58%,\n",
      "Macro-P: 13.72%,\n",
      "Macro-F1: 14.32%,\n",
      "val_loss 3.022\n"
     ]
    },
    {
     "name": "stderr",
     "output_type": "stream",
     "text": [
      "Testing/Validating: 100%|██████████| 52/52 [00:29<00:00,  1.79it/s]1s/it]\n",
      "Training, avg loss: 2.956:  30%|███       | 9/30 [11:31<26:50, 76.71s/it]"
     ]
    },
    {
     "name": "stdout",
     "output_type": "stream",
     "text": [
      "ACC@1: 36.85%,\n",
      "ACC@5: 58.09%,\n",
      "Macro-R: 21.76%,\n",
      "Macro-P: 16.48%,\n",
      "Macro-F1: 17.36%,\n",
      "val_loss 2.905\n"
     ]
    },
    {
     "name": "stderr",
     "output_type": "stream",
     "text": [
      "Testing/Validating: 100%|██████████| 52/52 [00:29<00:00,  1.79it/s]1s/it]\n",
      "Training, avg loss: 2.850:  33%|███▎      | 10/30 [12:48<25:35, 76.77s/it]"
     ]
    },
    {
     "name": "stdout",
     "output_type": "stream",
     "text": [
      "ACC@1: 37.4%,\n",
      "ACC@5: 59.78%,\n",
      "Macro-R: 22.36%,\n",
      "Macro-P: 16.01%,\n",
      "Macro-F1: 17.06%,\n",
      "val_loss 2.81\n"
     ]
    },
    {
     "name": "stderr",
     "output_type": "stream",
     "text": [
      "Testing/Validating: 100%|██████████| 52/52 [00:29<00:00,  1.79it/s]77s/it]\n",
      "Training, avg loss: 2.748:  37%|███▋      | 11/30 [14:05<24:20, 76.85s/it]"
     ]
    },
    {
     "name": "stdout",
     "output_type": "stream",
     "text": [
      "ACC@1: 39.51%,\n",
      "ACC@5: 60.08%,\n",
      "Macro-R: 23.71%,\n",
      "Macro-P: 18.01%,\n",
      "Macro-F1: 18.91%,\n",
      "val_loss 2.77\n"
     ]
    },
    {
     "name": "stderr",
     "output_type": "stream",
     "text": [
      "Testing/Validating: 100%|██████████| 52/52 [00:29<00:00,  1.77it/s]85s/it]\n",
      "Training, avg loss: 2.668:  40%|████      | 12/30 [15:22<23:03, 76.86s/it]"
     ]
    },
    {
     "name": "stdout",
     "output_type": "stream",
     "text": [
      "ACC@1: 41.25%,\n",
      "ACC@5: 62.77%,\n",
      "Macro-R: 25.9%,\n",
      "Macro-P: 20.37%,\n",
      "Macro-F1: 21.18%,\n",
      "val_loss 2.688\n"
     ]
    },
    {
     "name": "stderr",
     "output_type": "stream",
     "text": [
      "Testing/Validating: 100%|██████████| 52/52 [00:28<00:00,  1.79it/s]86s/it]\n",
      "Training, avg loss: 2.584:  43%|████▎     | 13/30 [16:39<21:47, 76.89s/it]"
     ]
    },
    {
     "name": "stdout",
     "output_type": "stream",
     "text": [
      "ACC@1: 41.32%,\n",
      "ACC@5: 66.03%,\n",
      "Macro-R: 26.55%,\n",
      "Macro-P: 20.93%,\n",
      "Macro-F1: 21.9%,\n",
      "val_loss 2.574\n"
     ]
    },
    {
     "name": "stderr",
     "output_type": "stream",
     "text": [
      "Testing/Validating: 100%|██████████| 52/52 [00:29<00:00,  1.79it/s]89s/it]\n",
      "Training, avg loss: 2.534:  47%|████▋     | 14/30 [17:56<20:30, 76.91s/it]"
     ]
    },
    {
     "name": "stdout",
     "output_type": "stream",
     "text": [
      "ACC@1: 43.77%,\n",
      "ACC@5: 66.32%,\n",
      "Macro-R: 28.38%,\n",
      "Macro-P: 21.81%,\n",
      "Macro-F1: 23.16%,\n",
      "val_loss 2.518\n"
     ]
    },
    {
     "name": "stderr",
     "output_type": "stream",
     "text": [
      "Testing/Validating: 100%|██████████| 52/52 [00:29<00:00,  1.79it/s]91s/it]\n",
      "Training, avg loss: 2.442:  50%|█████     | 15/30 [19:12<19:13, 76.89s/it]"
     ]
    },
    {
     "name": "stdout",
     "output_type": "stream",
     "text": [
      "ACC@1: 46.12%,\n",
      "ACC@5: 68.42%,\n",
      "Macro-R: 31.09%,\n",
      "Macro-P: 24.94%,\n",
      "Macro-F1: 26.11%,\n",
      "val_loss 2.47\n"
     ]
    },
    {
     "name": "stderr",
     "output_type": "stream",
     "text": [
      "Testing/Validating: 100%|██████████| 52/52 [00:29<00:00,  1.79it/s]89s/it]\n",
      "Training, avg loss: 2.388:  53%|█████▎    | 16/30 [20:30<17:57, 76.96s/it]"
     ]
    },
    {
     "name": "stdout",
     "output_type": "stream",
     "text": [
      "ACC@1: 45.46%,\n",
      "ACC@5: 69.15%,\n",
      "Macro-R: 30.52%,\n",
      "Macro-P: 25.56%,\n",
      "Macro-F1: 26.13%,\n",
      "val_loss 2.418\n"
     ]
    },
    {
     "name": "stderr",
     "output_type": "stream",
     "text": [
      "Testing/Validating: 100%|██████████| 52/52 [00:29<00:00,  1.78it/s]96s/it]\n",
      "Training, avg loss: 2.331:  57%|█████▋    | 17/30 [21:47<16:40, 76.98s/it]"
     ]
    },
    {
     "name": "stdout",
     "output_type": "stream",
     "text": [
      "ACC@1: 49.07%,\n",
      "ACC@5: 69.88%,\n",
      "Macro-R: 33.51%,\n",
      "Macro-P: 28.37%,\n",
      "Macro-F1: 29.19%,\n",
      "val_loss 2.357\n"
     ]
    },
    {
     "name": "stderr",
     "output_type": "stream",
     "text": [
      "Testing/Validating: 100%|██████████| 52/52 [00:29<00:00,  1.79it/s]98s/it]\n",
      "Training, avg loss: 2.271:  60%|██████    | 18/30 [23:04<15:24, 77.01s/it]"
     ]
    },
    {
     "name": "stdout",
     "output_type": "stream",
     "text": [
      "ACC@1: 47.86%,\n",
      "ACC@5: 71.19%,\n",
      "Macro-R: 32.35%,\n",
      "Macro-P: 28.1%,\n",
      "Macro-F1: 28.52%,\n",
      "val_loss 2.317\n"
     ]
    },
    {
     "name": "stderr",
     "output_type": "stream",
     "text": [
      "Testing/Validating: 100%|██████████| 52/52 [00:29<00:00,  1.78it/s]01s/it]\n",
      "Training, avg loss: 2.224:  63%|██████▎   | 19/30 [24:21<14:07, 77.04s/it]"
     ]
    },
    {
     "name": "stdout",
     "output_type": "stream",
     "text": [
      "ACC@1: 49.37%,\n",
      "ACC@5: 70.23%,\n",
      "Macro-R: 33.72%,\n",
      "Macro-P: 29.62%,\n",
      "Macro-F1: 30.01%,\n",
      "val_loss 2.286\n"
     ]
    },
    {
     "name": "stderr",
     "output_type": "stream",
     "text": [
      "Testing/Validating: 100%|██████████| 52/52 [00:29<00:00,  1.78it/s]04s/it]\n",
      "Training, avg loss: 2.173:  67%|██████▋   | 20/30 [25:38<12:49, 76.97s/it]"
     ]
    },
    {
     "name": "stdout",
     "output_type": "stream",
     "text": [
      "ACC@1: 50.08%,\n",
      "ACC@5: 72.1%,\n",
      "Macro-R: 33.84%,\n",
      "Macro-P: 28.65%,\n",
      "Macro-F1: 29.54%,\n",
      "val_loss 2.222\n"
     ]
    },
    {
     "name": "stderr",
     "output_type": "stream",
     "text": [
      "Testing/Validating: 100%|██████████| 52/52 [00:29<00:00,  1.79it/s]97s/it]\n",
      "Training, avg loss: 2.083:  70%|███████   | 21/30 [26:55<11:33, 77.05s/it]"
     ]
    },
    {
     "name": "stdout",
     "output_type": "stream",
     "text": [
      "ACC@1: 51.89%,\n",
      "ACC@5: 73.42%,\n",
      "Macro-R: 36.3%,\n",
      "Macro-P: 32.52%,\n",
      "Macro-F1: 32.74%,\n",
      "val_loss 2.182\n"
     ]
    },
    {
     "name": "stderr",
     "output_type": "stream",
     "text": [
      "Testing/Validating: 100%|██████████| 52/52 [00:29<00:00,  1.78it/s]05s/it]\n",
      "Training, avg loss: 2.073:  73%|███████▎  | 22/30 [28:12<10:16, 77.03s/it]"
     ]
    },
    {
     "name": "stdout",
     "output_type": "stream",
     "text": [
      "ACC@1: 52.2%,\n",
      "ACC@5: 73.9%,\n",
      "Macro-R: 35.77%,\n",
      "Macro-P: 31.16%,\n",
      "Macro-F1: 31.85%,\n",
      "val_loss 2.176\n"
     ]
    },
    {
     "name": "stderr",
     "output_type": "stream",
     "text": [
      "Testing/Validating: 100%|██████████| 52/52 [00:29<00:00,  1.78it/s]03s/it]\n",
      "Training, avg loss: 2.065:  77%|███████▋  | 23/30 [29:29<09:00, 77.16s/it]"
     ]
    },
    {
     "name": "stdout",
     "output_type": "stream",
     "text": [
      "ACC@1: 52.25%,\n",
      "ACC@5: 74.2%,\n",
      "Macro-R: 36.68%,\n",
      "Macro-P: 32.27%,\n",
      "Macro-F1: 33.0%,\n",
      "val_loss 2.173\n"
     ]
    },
    {
     "name": "stderr",
     "output_type": "stream",
     "text": [
      "Testing/Validating: 100%|██████████| 52/52 [00:29<00:00,  1.78it/s]16s/it]\n",
      "Training, avg loss: 2.061:  80%|████████  | 24/30 [30:46<07:43, 77.17s/it]"
     ]
    },
    {
     "name": "stdout",
     "output_type": "stream",
     "text": [
      "ACC@1: 52.38%,\n",
      "ACC@5: 74.21%,\n",
      "Macro-R: 36.89%,\n",
      "Macro-P: 32.48%,\n",
      "Macro-F1: 33.09%,\n",
      "val_loss 2.171\n"
     ]
    },
    {
     "name": "stderr",
     "output_type": "stream",
     "text": [
      "Testing/Validating: 100%|██████████| 52/52 [00:29<00:00,  1.78it/s]17s/it]\n",
      "Training, avg loss: 2.055:  83%|████████▎ | 25/30 [32:04<06:26, 77.20s/it]"
     ]
    },
    {
     "name": "stdout",
     "output_type": "stream",
     "text": [
      "ACC@1: 53.27%,\n",
      "ACC@5: 74.56%,\n",
      "Macro-R: 37.19%,\n",
      "Macro-P: 32.95%,\n",
      "Macro-F1: 33.27%,\n",
      "val_loss 2.165\n"
     ]
    },
    {
     "name": "stderr",
     "output_type": "stream",
     "text": [
      "Testing/Validating: 100%|██████████| 52/52 [00:29<00:00,  1.78it/s]20s/it]\n",
      "Training, avg loss: 2.049:  87%|████████▋ | 26/30 [33:21<05:08, 77.15s/it]"
     ]
    },
    {
     "name": "stdout",
     "output_type": "stream",
     "text": [
      "ACC@1: 52.74%,\n",
      "ACC@5: 74.51%,\n",
      "Macro-R: 37.59%,\n",
      "Macro-P: 32.51%,\n",
      "Macro-F1: 33.43%,\n",
      "val_loss 2.159\n"
     ]
    },
    {
     "name": "stderr",
     "output_type": "stream",
     "text": [
      "Testing/Validating: 100%|██████████| 52/52 [00:29<00:00,  1.78it/s]15s/it]\n",
      "Training, avg loss: 2.042:  90%|█████████ | 27/30 [34:37<03:51, 77.02s/it]"
     ]
    },
    {
     "name": "stdout",
     "output_type": "stream",
     "text": [
      "ACC@1: 53.34%,\n",
      "ACC@5: 74.39%,\n",
      "Macro-R: 37.34%,\n",
      "Macro-P: 32.76%,\n",
      "Macro-F1: 33.54%,\n",
      "val_loss 2.16\n"
     ]
    },
    {
     "name": "stderr",
     "output_type": "stream",
     "text": [
      "Testing/Validating: 100%|██████████| 52/52 [00:29<00:00,  1.79it/s]02s/it]\n",
      "Training, avg loss: 2.039:  93%|█████████▎| 28/30 [35:54<02:34, 77.00s/it]"
     ]
    },
    {
     "name": "stdout",
     "output_type": "stream",
     "text": [
      "ACC@1: 53.64%,\n",
      "ACC@5: 74.68%,\n",
      "Macro-R: 37.78%,\n",
      "Macro-P: 32.94%,\n",
      "Macro-F1: 33.64%,\n",
      "val_loss 2.148\n"
     ]
    },
    {
     "name": "stderr",
     "output_type": "stream",
     "text": [
      "Testing/Validating: 100%|██████████| 52/52 [00:29<00:00,  1.78it/s]00s/it]\n",
      "Training, avg loss: 2.034:  97%|█████████▋| 29/30 [37:11<01:17, 77.01s/it]"
     ]
    },
    {
     "name": "stdout",
     "output_type": "stream",
     "text": [
      "ACC@1: 52.97%,\n",
      "ACC@5: 74.25%,\n",
      "Macro-R: 37.5%,\n",
      "Macro-P: 32.79%,\n",
      "Macro-F1: 33.57%,\n",
      "val_loss 2.145\n"
     ]
    },
    {
     "name": "stderr",
     "output_type": "stream",
     "text": [
      "Testing/Validating: 100%|██████████| 52/52 [00:29<00:00,  1.79it/s]01s/it]\n",
      "Training, avg loss: 2.028: 100%|██████████| 30/30 [38:28<00:00, 76.96s/it]"
     ]
    },
    {
     "name": "stdout",
     "output_type": "stream",
     "text": [
      "ACC@1: 53.1%,\n",
      "ACC@5: 74.69%,\n",
      "Macro-R: 37.13%,\n",
      "Macro-P: 32.77%,\n",
      "Macro-F1: 33.44%,\n",
      "val_loss 2.142\n"
     ]
    },
    {
     "name": "stderr",
     "output_type": "stream",
     "text": [
      "\n"
     ]
    }
   ],
   "source": [
    "train_log, saved_model_state_dict = train_user_model(model=trajfm, \n",
    "                                                    train_dataloader=train_dataloader, \n",
    "                                                    val_dataloader=val_dataloader,\n",
    "                                                    device = device, \n",
    "                                                    **setting['finetune']['config'],\n",
    "                                                    data_summary = data_summary)\n",
    "\n",
    "if setting['finetune'].get('save', False):\n",
    "    # save model\n",
    "    utils.create_if_noexists(MODEL_CACHE_DIR)\n",
    "    torch.save(saved_model_state_dict, os.path.join(MODEL_CACHE_DIR, f'{SAVE_NAME}.{downstreamtask}'))\n",
    "    \n",
    "    # save log\n",
    "    log_dir = os.path.join(LOG_SAVE_DIR, SAVE_NAME)\n",
    "    utils.create_if_noexists(log_dir)\n",
    "    log_path = os.path.join(log_dir, f'{SAVE_NAME}_{downstreamtask}.csv')\n",
    "    file_exists = os.path.exists(log_path)\n",
    "    train_log.to_csv(log_path, mode='a', header=not file_exists, index=False)"
   ]
  },
  {
   "cell_type": "code",
   "execution_count": 15,
   "id": "abdedca1",
   "metadata": {},
   "outputs": [
    {
     "name": "stdout",
     "output_type": "stream",
     "text": [
      "loading U89_TrajAll_L1000_v3.3_noROPE.tul\n"
     ]
    },
    {
     "name": "stderr",
     "output_type": "stream",
     "text": [
      "Testing/Validating: 100%|██████████| 52/52 [00:29<00:00,  1.79it/s]"
     ]
    },
    {
     "name": "stdout",
     "output_type": "stream",
     "text": [
      "ACC@1: 50.12%,\n",
      "ACC@5: 74.7%,\n",
      "Macro-R: 35.94%,\n",
      "Macro-P: 30.87%,\n",
      "Macro-F1: 31.64%,\n"
     ]
    },
    {
     "name": "stderr",
     "output_type": "stream",
     "text": [
      "\n"
     ]
    }
   ],
   "source": [
    "print(f\"loading {SAVE_NAME}.{downstreamtask}\")\n",
    "trajfm.load_state_dict(torch.load(os.path.join(MODEL_CACHE_DIR, f'{SAVE_NAME}.{downstreamtask}'), map_location=device))\n",
    "\n",
    "metrics, _ = test_user_model(model=trajfm, dataloader=test_dataloader, device = device)\n",
    "for key, value in metrics.items():\n",
    "    print(f\"{key}: {round(value * 100, 2)}%,\")"
   ]
  },
  {
   "cell_type": "code",
   "execution_count": 16,
   "id": "f798cf97",
   "metadata": {},
   "outputs": [],
   "source": [
    "df = pd.DataFrame([{\n",
    "    \"Model\": f\"{SAVE_NAME}\",\n",
    "    **{key: round(value * 100, 2) for key, value in metrics.items()}\n",
    "}])\n",
    "\n",
    "csv_path = \"logs/test.csv\"\n",
    "if os.path.exists(csv_path):\n",
    "    df.to_csv(csv_path, mode='a', header=False, index=False)\n",
    "else:\n",
    "    df.to_csv(csv_path, index=False)"
   ]
  }
 ],
 "metadata": {
  "kernelspec": {
   "display_name": "cloudspace",
   "language": "python",
   "name": "python3"
  },
  "language_info": {
   "codemirror_mode": {
    "name": "ipython",
    "version": 3
   },
   "file_extension": ".py",
   "mimetype": "text/x-python",
   "name": "python",
   "nbconvert_exporter": "python",
   "pygments_lexer": "ipython3",
   "version": "3.10.10"
  }
 },
 "nbformat": 4,
 "nbformat_minor": 5
}
