{
 "cells": [
  {
   "cell_type": "code",
   "execution_count": 1,
   "id": "0c408ac4",
   "metadata": {},
   "outputs": [],
   "source": [
    "import os\n",
    "import json\n",
    "import numpy as np\n",
    "import pandas as pd\n",
    "import torch\n",
    "from torch.utils.data import DataLoader\n",
    "import utils\n",
    "from models.trajfm import TrajFM\n",
    "from data import TrajFMDataset, fetch_task_padder, X_COL, Y_COL, coord_transform_GPS_UTM\n",
    "import warnings\n",
    "from pipeline import train_user_model, test_user_model\n",
    "import torch.multiprocessing as mp\n",
    "warnings.filterwarnings('ignore')"
   ]
  },
  {
   "cell_type": "code",
   "execution_count": 2,
   "id": "84217ed8",
   "metadata": {},
   "outputs": [
    {
     "name": "stdout",
     "output_type": "stream",
     "text": [
      "device: cuda\n"
     ]
    }
   ],
   "source": [
    "SETTINGS_CACHE_DIR = os.environ.get('SETTINGS_CACHE_DIR', os.path.join('settings', 'cache'))\n",
    "MODEL_CACHE_DIR = os.environ.get('MODEL_CACHE_DIR', 'saved_model')\n",
    "LOG_SAVE_DIR = os.environ.get('LOG_SAVE_DIR', 'logs')\n",
    "PRED_SAVE_DIR = os.environ.get('PRED_SAVE_DIR', 'predictions')\n",
    "\n",
    "SEED = 42\n",
    "np.random.seed(SEED)\n",
    "torch.manual_seed(SEED)\n",
    "torch.cuda.manual_seed_all(SEED)\n",
    "torch.backends.cudnn.deterministic = True\n",
    "torch.backends.cudnn.benchmark = False\n",
    "\n",
    "os.environ['CUDA_VISIBLE_DEVICES'] = '0'\n",
    "os.environ['PYDEVD_DISABLE_FILE_VALIDATION'] = '1'\n",
    "\n",
    "\n",
    "if mp.get_start_method(allow_none=True) is None:\n",
    "    mp.set_start_method('spawn')\n",
    "device = f'cuda' if torch.cuda.is_available() else 'cpu'\n",
    "\n",
    "torch.backends.cuda.enable_mem_efficient_sdp(False)\n",
    "torch.backends.cuda.enable_flash_sdp(False)\n",
    "torch.backends.cuda.enable_math_sdp(True)\n",
    "# This key is an indicator of multiple things.\n",
    "datetime_key = utils.get_datetime_key()\n",
    "\n",
    "\n",
    "with open(os.path.join('settings', f'local_test.json'), 'r') as fp:\n",
    "    setting = json.load(fp)\n",
    "    setting = setting[0]\n",
    "utils.create_if_noexists(SETTINGS_CACHE_DIR)\n",
    "with open(os.path.join(SETTINGS_CACHE_DIR, f'{datetime_key}.json'), 'w') as fp:\n",
    "    json.dump(setting, fp)\n",
    "    \n",
    "print(\"device:\", device)"
   ]
  },
  {
   "cell_type": "code",
   "execution_count": 3,
   "id": "71773187",
   "metadata": {},
   "outputs": [
    {
     "name": "stdout",
     "output_type": "stream",
     "text": [
      "dataset: ./dataset/geolife_U56_TrajAll_L1000.h5\n"
     ]
    }
   ],
   "source": [
    "SAVE_NAME = setting[\"save_name\"]\n",
    "\n",
    "train_traj_df = pd.read_hdf(setting['dataset']['train_traj_df'], key='trips')\n",
    "print(\"dataset:\", setting['dataset']['train_traj_df'])\n",
    "user_count = len(train_traj_df['user_id'].unique())\n",
    "traj_count = len(train_traj_df['traj_id'].unique())\n",
    "traj_len = len(train_traj_df['seq_i'])\n",
    "tao = train_traj_df['delta_t'].mean()\n",
    "setting[\"finetune\"][\"padder\"][\"params\"][\"num_users\"] = user_count\n",
    "\n",
    "scale = 4000\n",
    "if \"geolife\" in setting['dataset']['train_traj_df']:\n",
    "    UTM_region = 50  \n",
    "dataset = TrajFMDataset(traj_df=train_traj_df, UTM_region=UTM_region, scale = scale)\n",
    "\n",
    "poi_df = pd.read_hdf(setting['dataset']['poi_df'], key='pois')\n",
    "poi_embed = torch.from_numpy(np.load(setting['dataset']['poi_embed'])).float().to(device)\n",
    "\n",
    "poi_coors = poi_df[[X_COL, Y_COL]].to_numpy()\n",
    "poi_coors = (coord_transform_GPS_UTM(poi_coors, UTM_region) - dataset.spatial_middle_coord) / scale\n",
    "poi_coors = torch.tensor(poi_coors).float().to(device)\n",
    "\n",
    "# Build the learnable model.\n",
    "trajfm = TrajFM(poi_embed=poi_embed, \n",
    "                poi_coors=poi_coors, \n",
    "                UTM_region=UTM_region,\n",
    "                spatial_middle_coord = dataset.spatial_middle_coord, \n",
    "                scale = scale, \n",
    "                **setting['trajfm'],\n",
    "                user = user_count).to(device)"
   ]
  },
  {
   "cell_type": "code",
   "execution_count": 4,
   "id": "a62886f4",
   "metadata": {},
   "outputs": [
    {
     "name": "stdout",
     "output_type": "stream",
     "text": [
      "users : 56\n",
      "total_traj : 7602\n",
      "total_points : 5450141\n",
      "avg_traj_len : 1.62 hours\n",
      "Data Filtering : ['25th to 75th quartile based on traj_len', 'traj_len > 30 points', 'delta_t > 1800s', 'traj/user > 35 traj', 'resampled traj to 1000 points max', 'user_number and seq_i recalculated', 'stratified']\n"
     ]
    }
   ],
   "source": [
    "data_summary = {\n",
    "    \"users\": user_count,\n",
    "    \"total_traj\": traj_count,           \n",
    "    \"total_points\": traj_len,\n",
    "    \"avg_traj_len\": f\"{round(tao/3600, 2)} hours\",\n",
    "    \"Data Filtering\": [ \n",
    "        \"25th to 75th quartile based on traj_len\", \n",
    "        \"traj_len > 30 points\", \n",
    "        \"delta_t > 1800s\",\n",
    "        \"traj/user > 35 traj\",\n",
    "        \"resampled traj to 1000 points max\",\n",
    "        \"user_number and seq_i recalculated\",\n",
    "        \"stratified\",]\n",
    "}\n",
    "\n",
    "for key, value in data_summary.items():\n",
    "    print(key, \":\", value)"
   ]
  },
  {
   "cell_type": "code",
   "execution_count": 5,
   "id": "e20c8b5a",
   "metadata": {},
   "outputs": [],
   "source": [
    "train_dataset, val_test_dataset = utils.stratify_dataset(dataset = dataset, test_size = 0.4, random_seed = SEED)\n",
    "val_dataset, test_dataset = utils.stratify_dataset(dataset = val_test_dataset, test_size = 0.5, random_seed = SEED)"
   ]
  },
  {
   "cell_type": "code",
   "execution_count": 6,
   "id": "9f96e24f",
   "metadata": {},
   "outputs": [],
   "source": [
    "# print(len(train_dataset), len(val_dataset), len(test_dataset))"
   ]
  },
  {
   "cell_type": "code",
   "execution_count": 7,
   "id": "4423b351",
   "metadata": {},
   "outputs": [],
   "source": [
    "downstreamtask = setting['finetune']['padder']['name']\n",
    "padder = fetch_task_padder(padder_name=setting['finetune']['padder']['name'], padder_params=setting['finetune']['padder']['params'])\n",
    "\n",
    "train_dataloader = DataLoader(train_dataset, collate_fn=padder, **setting['finetune']['dataloader'])\n",
    "val_dataloader = DataLoader(val_dataset, collate_fn=padder, **setting['finetune']['dataloader'])\n",
    "test_dataloader = DataLoader(test_dataset, collate_fn=padder, **setting['finetune']['dataloader'])"
   ]
  },
  {
   "cell_type": "code",
   "execution_count": 8,
   "id": "fca23fbc",
   "metadata": {},
   "outputs": [
    {
     "name": "stdout",
     "output_type": "stream",
     "text": [
      "Model not found, starting new\n"
     ]
    },
    {
     "name": "stderr",
     "output_type": "stream",
     "text": [
      "\u001b[34m\u001b[1mwandb\u001b[0m: Using wandb-core as the SDK backend.  Please refer to https://wandb.me/wandb-core for more information.\n",
      "\u001b[34m\u001b[1mwandb\u001b[0m: Currently logged in as: \u001b[33meuj01\u001b[0m (\u001b[33mSP_001\u001b[0m) to \u001b[32mhttps://api.wandb.ai\u001b[0m. Use \u001b[1m`wandb login --relogin`\u001b[0m to force relogin\n"
     ]
    },
    {
     "data": {
      "text/html": [
       "Tracking run with wandb version 0.19.9"
      ],
      "text/plain": [
       "<IPython.core.display.HTML object>"
      ]
     },
     "metadata": {},
     "output_type": "display_data"
    },
    {
     "data": {
      "text/html": [
       "Run data is saved locally in <code>/teamspace/studios/this_studio/wandb/run-20250426_224045-U56_TrajAll_L1000_v1.2s</code>"
      ],
      "text/plain": [
       "<IPython.core.display.HTML object>"
      ]
     },
     "metadata": {},
     "output_type": "display_data"
    },
    {
     "data": {
      "text/html": [
       "Syncing run <strong><a href='https://wandb.ai/SP_001/TrajFM%20TUL/runs/U56_TrajAll_L1000_v1.2s' target=\"_blank\">U56_TrajAll_L1000_v1.2s</a></strong> to <a href='https://wandb.ai/SP_001/TrajFM%20TUL' target=\"_blank\">Weights & Biases</a> (<a href='https://wandb.me/developer-guide' target=\"_blank\">docs</a>)<br>"
      ],
      "text/plain": [
       "<IPython.core.display.HTML object>"
      ]
     },
     "metadata": {},
     "output_type": "display_data"
    },
    {
     "data": {
      "text/html": [
       " View project at <a href='https://wandb.ai/SP_001/TrajFM%20TUL' target=\"_blank\">https://wandb.ai/SP_001/TrajFM%20TUL</a>"
      ],
      "text/plain": [
       "<IPython.core.display.HTML object>"
      ]
     },
     "metadata": {},
     "output_type": "display_data"
    },
    {
     "data": {
      "text/html": [
       " View run at <a href='https://wandb.ai/SP_001/TrajFM%20TUL/runs/U56_TrajAll_L1000_v1.2s' target=\"_blank\">https://wandb.ai/SP_001/TrajFM%20TUL/runs/U56_TrajAll_L1000_v1.2s</a>"
      ],
      "text/plain": [
       "<IPython.core.display.HTML object>"
      ]
     },
     "metadata": {},
     "output_type": "display_data"
    },
    {
     "name": "stdout",
     "output_type": "stream",
     "text": [
      "The run id is U56_TrajAll_L1000_v1.2s\n"
     ]
    },
    {
     "name": "stderr",
     "output_type": "stream",
     "text": [
      "Testing/Validating: 100%|██████████| 48/48 [00:27<00:00,  1.72it/s]\n",
      "Training, avg loss: 3.609:   2%|▏         | 1/60 [01:19<1:18:35, 79.93s/it]"
     ]
    },
    {
     "name": "stdout",
     "output_type": "stream",
     "text": [
      "ACC@1: 18.95%,\n",
      "ACC@5: 40.95%,\n",
      "Macro-R: 7.09%,\n",
      "Macro-P: 1.94%,\n",
      "Macro-F1: 2.91%,\n",
      "val_loss 3.46\n"
     ]
    },
    {
     "name": "stderr",
     "output_type": "stream",
     "text": [
      "Testing/Validating: 100%|██████████| 48/48 [00:27<00:00,  1.73it/s].93s/it]\n",
      "Training, avg loss: 3.395:   3%|▎         | 2/60 [02:38<1:16:31, 79.16s/it]"
     ]
    },
    {
     "name": "stdout",
     "output_type": "stream",
     "text": [
      "ACC@1: 19.21%,\n",
      "ACC@5: 40.43%,\n",
      "Macro-R: 6.66%,\n",
      "Macro-P: 1.84%,\n",
      "Macro-F1: 2.76%,\n",
      "val_loss 3.379\n"
     ]
    },
    {
     "name": "stderr",
     "output_type": "stream",
     "text": [
      "Testing/Validating: 100%|██████████| 48/48 [00:27<00:00,  1.73it/s].16s/it]\n",
      "Training, avg loss: 3.290:   5%|▌         | 3/60 [03:57<1:14:58, 78.93s/it]"
     ]
    },
    {
     "name": "stdout",
     "output_type": "stream",
     "text": [
      "ACC@1: 17.77%,\n",
      "ACC@5: 41.54%,\n",
      "Macro-R: 5.8%,\n",
      "Macro-P: 1.62%,\n",
      "Macro-F1: 2.35%,\n",
      "val_loss 3.383\n"
     ]
    },
    {
     "name": "stderr",
     "output_type": "stream",
     "text": [
      "Testing/Validating: 100%|██████████| 48/48 [00:27<00:00,  1.73it/s].93s/it]\n",
      "Training, avg loss: 3.226:   7%|▋         | 4/60 [05:15<1:13:28, 78.72s/it]"
     ]
    },
    {
     "name": "stdout",
     "output_type": "stream",
     "text": [
      "ACC@1: 19.27%,\n",
      "ACC@5: 41.54%,\n",
      "Macro-R: 7.52%,\n",
      "Macro-P: 3.11%,\n",
      "Macro-F1: 3.78%,\n",
      "val_loss 3.291\n"
     ]
    },
    {
     "name": "stderr",
     "output_type": "stream",
     "text": [
      "Testing/Validating: 100%|██████████| 48/48 [00:27<00:00,  1.75it/s].72s/it]\n",
      "Training, avg loss: 3.158:   8%|▊         | 5/60 [06:34<1:12:04, 78.62s/it]"
     ]
    },
    {
     "name": "stdout",
     "output_type": "stream",
     "text": [
      "ACC@1: 21.94%,\n",
      "ACC@5: 43.23%,\n",
      "Macro-R: 8.89%,\n",
      "Macro-P: 3.6%,\n",
      "Macro-F1: 4.51%,\n",
      "val_loss 3.188\n"
     ]
    },
    {
     "name": "stderr",
     "output_type": "stream",
     "text": [
      "Testing/Validating: 100%|██████████| 48/48 [00:27<00:00,  1.75it/s].62s/it]\n",
      "Training, avg loss: 3.104:  10%|█         | 6/60 [07:51<1:10:30, 78.34s/it]"
     ]
    },
    {
     "name": "stdout",
     "output_type": "stream",
     "text": [
      "ACC@1: 20.96%,\n",
      "ACC@5: 43.75%,\n",
      "Macro-R: 8.95%,\n",
      "Macro-P: 4.42%,\n",
      "Macro-F1: 5.21%,\n",
      "val_loss 3.183\n"
     ]
    },
    {
     "name": "stderr",
     "output_type": "stream",
     "text": [
      "Testing/Validating: 100%|██████████| 48/48 [00:28<00:00,  1.70it/s].34s/it]\n",
      "Training, avg loss: 3.070:  12%|█▏        | 7/60 [09:11<1:09:29, 78.67s/it]"
     ]
    },
    {
     "name": "stdout",
     "output_type": "stream",
     "text": [
      "ACC@1: 22.79%,\n",
      "ACC@5: 46.74%,\n",
      "Macro-R: 10.2%,\n",
      "Macro-P: 5.25%,\n",
      "Macro-F1: 6.03%,\n",
      "val_loss 3.092\n"
     ]
    },
    {
     "name": "stderr",
     "output_type": "stream",
     "text": [
      "Testing/Validating: 100%|██████████| 48/48 [00:28<00:00,  1.71it/s].67s/it]\n",
      "Training, avg loss: 3.026:  13%|█▎        | 8/60 [10:30<1:08:24, 78.93s/it]"
     ]
    },
    {
     "name": "stdout",
     "output_type": "stream",
     "text": [
      "ACC@1: 22.79%,\n",
      "ACC@5: 48.7%,\n",
      "Macro-R: 9.39%,\n",
      "Macro-P: 4.39%,\n",
      "Macro-F1: 5.39%,\n",
      "val_loss 3.077\n"
     ]
    },
    {
     "name": "stderr",
     "output_type": "stream",
     "text": [
      "Testing/Validating: 100%|██████████| 48/48 [00:28<00:00,  1.70it/s].93s/it]\n",
      "Training, avg loss: 2.971:  15%|█▌        | 9/60 [11:50<1:07:20, 79.23s/it]"
     ]
    },
    {
     "name": "stdout",
     "output_type": "stream",
     "text": [
      "ACC@1: 21.48%,\n",
      "ACC@5: 48.37%,\n",
      "Macro-R: 9.13%,\n",
      "Macro-P: 5.15%,\n",
      "Macro-F1: 5.75%,\n",
      "val_loss 3.074\n"
     ]
    },
    {
     "name": "stderr",
     "output_type": "stream",
     "text": [
      "Testing/Validating: 100%|██████████| 48/48 [00:28<00:00,  1.70it/s].23s/it]\n",
      "Training, avg loss: 2.933:  17%|█▋        | 10/60 [13:10<1:06:09, 79.39s/it]"
     ]
    },
    {
     "name": "stdout",
     "output_type": "stream",
     "text": [
      "ACC@1: 19.73%,\n",
      "ACC@5: 47.66%,\n",
      "Macro-R: 7.61%,\n",
      "Macro-P: 4.32%,\n",
      "Macro-F1: 4.89%,\n",
      "val_loss 3.088\n"
     ]
    },
    {
     "name": "stderr",
     "output_type": "stream",
     "text": [
      "Testing/Validating: 100%|██████████| 48/48 [00:28<00:00,  1.69it/s]9.39s/it]\n",
      "Training, avg loss: 2.861:  18%|█▊        | 11/60 [14:30<1:04:55, 79.50s/it]"
     ]
    },
    {
     "name": "stdout",
     "output_type": "stream",
     "text": [
      "ACC@1: 24.28%,\n",
      "ACC@5: 49.87%,\n",
      "Macro-R: 11.67%,\n",
      "Macro-P: 7.47%,\n",
      "Macro-F1: 8.26%,\n",
      "val_loss 2.988\n"
     ]
    },
    {
     "name": "stderr",
     "output_type": "stream",
     "text": [
      "Testing/Validating: 100%|██████████| 48/48 [00:28<00:00,  1.70it/s]9.50s/it]\n",
      "Training, avg loss: 2.775:  20%|██        | 12/60 [15:49<1:03:41, 79.62s/it]"
     ]
    },
    {
     "name": "stdout",
     "output_type": "stream",
     "text": [
      "ACC@1: 25.2%,\n",
      "ACC@5: 49.93%,\n",
      "Macro-R: 12.74%,\n",
      "Macro-P: 9.5%,\n",
      "Macro-F1: 9.36%,\n",
      "val_loss 2.934\n"
     ]
    },
    {
     "name": "stderr",
     "output_type": "stream",
     "text": [
      "Testing/Validating: 100%|██████████| 48/48 [00:28<00:00,  1.70it/s]9.62s/it]\n",
      "Training, avg loss: 2.669:  22%|██▏       | 13/60 [17:09<1:02:25, 79.68s/it]"
     ]
    },
    {
     "name": "stdout",
     "output_type": "stream",
     "text": [
      "ACC@1: 31.05%,\n",
      "ACC@5: 56.84%,\n",
      "Macro-R: 17.19%,\n",
      "Macro-P: 12.28%,\n",
      "Macro-F1: 13.01%,\n",
      "val_loss 2.698\n"
     ]
    },
    {
     "name": "stderr",
     "output_type": "stream",
     "text": [
      "Testing/Validating: 100%|██████████| 48/48 [00:28<00:00,  1.70it/s]9.68s/it]\n",
      "Training, avg loss: 2.569:  23%|██▎       | 14/60 [18:29<1:01:07, 79.74s/it]"
     ]
    },
    {
     "name": "stdout",
     "output_type": "stream",
     "text": [
      "ACC@1: 31.58%,\n",
      "ACC@5: 57.03%,\n",
      "Macro-R: 16.63%,\n",
      "Macro-P: 13.32%,\n",
      "Macro-F1: 13.64%,\n",
      "val_loss 2.674\n"
     ]
    },
    {
     "name": "stderr",
     "output_type": "stream",
     "text": [
      "Testing/Validating: 100%|██████████| 48/48 [00:28<00:00,  1.70it/s]9.74s/it]\n",
      "Training, avg loss: 2.465:  25%|██▌       | 15/60 [19:49<59:49, 79.77s/it]  "
     ]
    },
    {
     "name": "stdout",
     "output_type": "stream",
     "text": [
      "ACC@1: 34.7%,\n",
      "ACC@5: 61.2%,\n",
      "Macro-R: 19.78%,\n",
      "Macro-P: 16.01%,\n",
      "Macro-F1: 16.22%,\n",
      "val_loss 2.553\n"
     ]
    },
    {
     "name": "stderr",
     "output_type": "stream",
     "text": [
      "Testing/Validating: 100%|██████████| 48/48 [00:28<00:00,  1.68it/s]77s/it]\n",
      "Training, avg loss: 2.390:  27%|██▋       | 16/60 [21:09<58:35, 79.89s/it]"
     ]
    },
    {
     "name": "stdout",
     "output_type": "stream",
     "text": [
      "ACC@1: 36.39%,\n",
      "ACC@5: 65.17%,\n",
      "Macro-R: 21.32%,\n",
      "Macro-P: 17.32%,\n",
      "Macro-F1: 17.77%,\n",
      "val_loss 2.411\n"
     ]
    },
    {
     "name": "stderr",
     "output_type": "stream",
     "text": [
      "Testing/Validating: 100%|██████████| 48/48 [00:28<00:00,  1.68it/s]89s/it]\n",
      "Training, avg loss: 2.298:  28%|██▊       | 17/60 [22:29<57:16, 79.92s/it]"
     ]
    },
    {
     "name": "stdout",
     "output_type": "stream",
     "text": [
      "ACC@1: 35.35%,\n",
      "ACC@5: 62.11%,\n",
      "Macro-R: 20.34%,\n",
      "Macro-P: 16.48%,\n",
      "Macro-F1: 16.74%,\n",
      "val_loss 2.468\n"
     ]
    },
    {
     "name": "stderr",
     "output_type": "stream",
     "text": [
      "Testing/Validating: 100%|██████████| 48/48 [00:28<00:00,  1.69it/s]92s/it]\n",
      "Training, avg loss: 2.226:  30%|███       | 18/60 [23:49<55:57, 79.94s/it]"
     ]
    },
    {
     "name": "stdout",
     "output_type": "stream",
     "text": [
      "ACC@1: 38.02%,\n",
      "ACC@5: 66.15%,\n",
      "Macro-R: 22.65%,\n",
      "Macro-P: 18.41%,\n",
      "Macro-F1: 18.71%,\n",
      "val_loss 2.364\n"
     ]
    },
    {
     "name": "stderr",
     "output_type": "stream",
     "text": [
      "Testing/Validating: 100%|██████████| 48/48 [00:28<00:00,  1.70it/s]94s/it]\n",
      "Training, avg loss: 2.185:  32%|███▏      | 19/60 [25:09<54:36, 79.92s/it]"
     ]
    },
    {
     "name": "stdout",
     "output_type": "stream",
     "text": [
      "ACC@1: 39.19%,\n",
      "ACC@5: 68.49%,\n",
      "Macro-R: 22.91%,\n",
      "Macro-P: 19.28%,\n",
      "Macro-F1: 19.5%,\n",
      "val_loss 2.279\n"
     ]
    },
    {
     "name": "stderr",
     "output_type": "stream",
     "text": [
      "Testing/Validating: 100%|██████████| 48/48 [00:28<00:00,  1.69it/s]92s/it]\n",
      "Training, avg loss: 2.151:  33%|███▎      | 20/60 [26:29<53:15, 79.88s/it]"
     ]
    },
    {
     "name": "stdout",
     "output_type": "stream",
     "text": [
      "ACC@1: 39.78%,\n",
      "ACC@5: 67.71%,\n",
      "Macro-R: 23.62%,\n",
      "Macro-P: 19.36%,\n",
      "Macro-F1: 19.92%,\n",
      "val_loss 2.264\n"
     ]
    },
    {
     "name": "stderr",
     "output_type": "stream",
     "text": [
      "Testing/Validating: 100%|██████████| 48/48 [00:28<00:00,  1.68it/s]88s/it]\n",
      "Training, avg loss: 2.065:  35%|███▌      | 21/60 [27:49<51:57, 79.92s/it]"
     ]
    },
    {
     "name": "stdout",
     "output_type": "stream",
     "text": [
      "ACC@1: 40.3%,\n",
      "ACC@5: 69.27%,\n",
      "Macro-R: 24.53%,\n",
      "Macro-P: 20.43%,\n",
      "Macro-F1: 20.8%,\n",
      "val_loss 2.25\n"
     ]
    },
    {
     "name": "stderr",
     "output_type": "stream",
     "text": [
      "Testing/Validating: 100%|██████████| 48/48 [00:28<00:00,  1.69it/s]92s/it]\n",
      "Training, avg loss: 2.024:  37%|███▋      | 22/60 [29:09<50:36, 79.91s/it]"
     ]
    },
    {
     "name": "stdout",
     "output_type": "stream",
     "text": [
      "ACC@1: 41.21%,\n",
      "ACC@5: 67.45%,\n",
      "Macro-R: 24.47%,\n",
      "Macro-P: 21.51%,\n",
      "Macro-F1: 21.57%,\n",
      "val_loss 2.269\n"
     ]
    },
    {
     "name": "stderr",
     "output_type": "stream",
     "text": [
      "Testing/Validating: 100%|██████████| 48/48 [00:28<00:00,  1.68it/s]91s/it]\n",
      "Training, avg loss: 1.988:  38%|███▊      | 23/60 [30:29<49:17, 79.93s/it]"
     ]
    },
    {
     "name": "stdout",
     "output_type": "stream",
     "text": [
      "ACC@1: 39.97%,\n",
      "ACC@5: 71.03%,\n",
      "Macro-R: 23.33%,\n",
      "Macro-P: 20.21%,\n",
      "Macro-F1: 20.39%,\n",
      "val_loss 2.184\n"
     ]
    },
    {
     "name": "stderr",
     "output_type": "stream",
     "text": [
      "Testing/Validating: 100%|██████████| 48/48 [00:28<00:00,  1.69it/s]93s/it]\n",
      "Training, avg loss: 1.945:  40%|████      | 24/60 [31:49<47:57, 79.93s/it]"
     ]
    },
    {
     "name": "stdout",
     "output_type": "stream",
     "text": [
      "ACC@1: 40.56%,\n",
      "ACC@5: 70.05%,\n",
      "Macro-R: 25.43%,\n",
      "Macro-P: 21.81%,\n",
      "Macro-F1: 21.77%,\n",
      "val_loss 2.213\n"
     ]
    },
    {
     "name": "stderr",
     "output_type": "stream",
     "text": [
      "Testing/Validating: 100%|██████████| 48/48 [00:28<00:00,  1.69it/s]93s/it]\n",
      "Training, avg loss: 1.919:  42%|████▏     | 25/60 [33:09<46:37, 79.94s/it]"
     ]
    },
    {
     "name": "stdout",
     "output_type": "stream",
     "text": [
      "ACC@1: 42.19%,\n",
      "ACC@5: 71.55%,\n",
      "Macro-R: 26.43%,\n",
      "Macro-P: 22.69%,\n",
      "Macro-F1: 23.03%,\n",
      "val_loss 2.129\n"
     ]
    },
    {
     "name": "stderr",
     "output_type": "stream",
     "text": [
      "Testing/Validating: 100%|██████████| 48/48 [00:28<00:00,  1.68it/s]94s/it]\n",
      "Training, avg loss: 1.902:  43%|████▎     | 26/60 [34:29<45:18, 79.95s/it]"
     ]
    },
    {
     "name": "stdout",
     "output_type": "stream",
     "text": [
      "ACC@1: 44.99%,\n",
      "ACC@5: 73.31%,\n",
      "Macro-R: 27.32%,\n",
      "Macro-P: 23.75%,\n",
      "Macro-F1: 24.13%,\n",
      "val_loss 2.088\n"
     ]
    },
    {
     "name": "stderr",
     "output_type": "stream",
     "text": [
      "Testing/Validating: 100%|██████████| 48/48 [00:28<00:00,  1.68it/s]95s/it]\n",
      "Training, avg loss: 1.854:  45%|████▌     | 27/60 [35:49<43:58, 79.95s/it]"
     ]
    },
    {
     "name": "stdout",
     "output_type": "stream",
     "text": [
      "ACC@1: 41.99%,\n",
      "ACC@5: 71.35%,\n",
      "Macro-R: 26.18%,\n",
      "Macro-P: 23.56%,\n",
      "Macro-F1: 23.42%,\n",
      "val_loss 2.197\n"
     ]
    },
    {
     "name": "stderr",
     "output_type": "stream",
     "text": [
      "Testing/Validating: 100%|██████████| 48/48 [00:28<00:00,  1.70it/s]95s/it]\n",
      "Training, avg loss: 1.811:  47%|████▋     | 28/60 [37:08<42:35, 79.86s/it]"
     ]
    },
    {
     "name": "stdout",
     "output_type": "stream",
     "text": [
      "ACC@1: 42.97%,\n",
      "ACC@5: 72.14%,\n",
      "Macro-R: 27.06%,\n",
      "Macro-P: 24.53%,\n",
      "Macro-F1: 24.23%,\n",
      "val_loss 2.103\n"
     ]
    },
    {
     "name": "stderr",
     "output_type": "stream",
     "text": [
      "Testing/Validating: 100%|██████████| 48/48 [00:28<00:00,  1.69it/s]86s/it]\n",
      "Training, avg loss: 1.759:  48%|████▊     | 29/60 [38:28<41:14, 79.83s/it]"
     ]
    },
    {
     "name": "stdout",
     "output_type": "stream",
     "text": [
      "ACC@1: 42.06%,\n",
      "ACC@5: 71.35%,\n",
      "Macro-R: 24.92%,\n",
      "Macro-P: 20.84%,\n",
      "Macro-F1: 21.46%,\n",
      "val_loss 2.178\n"
     ]
    },
    {
     "name": "stderr",
     "output_type": "stream",
     "text": [
      "Testing/Validating: 100%|██████████| 48/48 [00:28<00:00,  1.69it/s]83s/it]\n",
      "Training, avg loss: 1.757:  50%|█████     | 30/60 [39:48<39:53, 79.77s/it]"
     ]
    },
    {
     "name": "stdout",
     "output_type": "stream",
     "text": [
      "ACC@1: 47.07%,\n",
      "ACC@5: 75.13%,\n",
      "Macro-R: 30.44%,\n",
      "Macro-P: 27.14%,\n",
      "Macro-F1: 27.21%,\n",
      "val_loss 1.973\n"
     ]
    },
    {
     "name": "stderr",
     "output_type": "stream",
     "text": [
      "Testing/Validating: 100%|██████████| 48/48 [00:28<00:00,  1.70it/s]77s/it]\n",
      "Training, avg loss: 1.704:  52%|█████▏    | 31/60 [41:07<38:32, 79.73s/it]"
     ]
    },
    {
     "name": "stdout",
     "output_type": "stream",
     "text": [
      "ACC@1: 46.29%,\n",
      "ACC@5: 75.65%,\n",
      "Macro-R: 29.35%,\n",
      "Macro-P: 26.25%,\n",
      "Macro-F1: 26.25%,\n",
      "val_loss 2.005\n"
     ]
    },
    {
     "name": "stderr",
     "output_type": "stream",
     "text": [
      "Testing/Validating: 100%|██████████| 48/48 [00:28<00:00,  1.69it/s]73s/it]\n",
      "Training, avg loss: 1.673:  53%|█████▎    | 32/60 [42:27<37:12, 79.74s/it]"
     ]
    },
    {
     "name": "stdout",
     "output_type": "stream",
     "text": [
      "ACC@1: 44.79%,\n",
      "ACC@5: 74.28%,\n",
      "Macro-R: 27.43%,\n",
      "Macro-P: 25.7%,\n",
      "Macro-F1: 25.14%,\n",
      "val_loss 2.036\n"
     ]
    },
    {
     "name": "stderr",
     "output_type": "stream",
     "text": [
      "Testing/Validating: 100%|██████████| 48/48 [00:28<00:00,  1.69it/s]74s/it]\n",
      "Training, avg loss: 1.637:  55%|█████▌    | 33/60 [43:47<35:52, 79.73s/it]"
     ]
    },
    {
     "name": "stdout",
     "output_type": "stream",
     "text": [
      "ACC@1: 44.66%,\n",
      "ACC@5: 74.15%,\n",
      "Macro-R: 27.57%,\n",
      "Macro-P: 25.34%,\n",
      "Macro-F1: 25.14%,\n",
      "val_loss 2.091\n"
     ]
    },
    {
     "name": "stderr",
     "output_type": "stream",
     "text": [
      "Testing/Validating: 100%|██████████| 48/48 [00:28<00:00,  1.69it/s]73s/it]\n",
      "Training, avg loss: 1.607:  57%|█████▋    | 34/60 [45:06<34:32, 79.72s/it]"
     ]
    },
    {
     "name": "stdout",
     "output_type": "stream",
     "text": [
      "ACC@1: 45.57%,\n",
      "ACC@5: 76.17%,\n",
      "Macro-R: 28.98%,\n",
      "Macro-P: 26.31%,\n",
      "Macro-F1: 26.2%,\n",
      "val_loss 2.021\n"
     ]
    },
    {
     "name": "stderr",
     "output_type": "stream",
     "text": [
      "Testing/Validating: 100%|██████████| 48/48 [00:28<00:00,  1.70it/s]72s/it]\n",
      "Training, avg loss: 1.574:  58%|█████▊    | 35/60 [46:26<33:13, 79.74s/it]"
     ]
    },
    {
     "name": "stdout",
     "output_type": "stream",
     "text": [
      "ACC@1: 46.68%,\n",
      "ACC@5: 75.78%,\n",
      "Macro-R: 29.76%,\n",
      "Macro-P: 28.38%,\n",
      "Macro-F1: 27.66%,\n",
      "val_loss 1.984\n"
     ]
    },
    {
     "name": "stderr",
     "output_type": "stream",
     "text": [
      "Testing/Validating: 100%|██████████| 48/48 [00:28<00:00,  1.71it/s]74s/it]\n",
      "Training, avg loss: 1.550:  60%|██████    | 36/60 [47:46<31:52, 79.68s/it]"
     ]
    },
    {
     "name": "stdout",
     "output_type": "stream",
     "text": [
      "ACC@1: 48.7%,\n",
      "ACC@5: 76.5%,\n",
      "Macro-R: 31.76%,\n",
      "Macro-P: 29.48%,\n",
      "Macro-F1: 29.3%,\n",
      "val_loss 1.939\n"
     ]
    },
    {
     "name": "stderr",
     "output_type": "stream",
     "text": [
      "Testing/Validating: 100%|██████████| 48/48 [00:28<00:00,  1.70it/s]68s/it]\n",
      "Training, avg loss: 1.518:  62%|██████▏   | 37/60 [49:05<30:31, 79.63s/it]"
     ]
    },
    {
     "name": "stdout",
     "output_type": "stream",
     "text": [
      "ACC@1: 47.79%,\n",
      "ACC@5: 78.45%,\n",
      "Macro-R: 30.99%,\n",
      "Macro-P: 28.38%,\n",
      "Macro-F1: 28.07%,\n",
      "val_loss 1.922\n"
     ]
    },
    {
     "name": "stderr",
     "output_type": "stream",
     "text": [
      "Testing/Validating: 100%|██████████| 48/48 [00:28<00:00,  1.70it/s]63s/it]\n",
      "Training, avg loss: 1.472:  63%|██████▎   | 38/60 [50:25<29:13, 79.69s/it]"
     ]
    },
    {
     "name": "stdout",
     "output_type": "stream",
     "text": [
      "ACC@1: 48.63%,\n",
      "ACC@5: 77.54%,\n",
      "Macro-R: 31.62%,\n",
      "Macro-P: 30.11%,\n",
      "Macro-F1: 29.39%,\n",
      "val_loss 1.921\n"
     ]
    },
    {
     "name": "stderr",
     "output_type": "stream",
     "text": [
      "Testing/Validating: 100%|██████████| 48/48 [00:28<00:00,  1.68it/s]69s/it]\n",
      "Training, avg loss: 1.454:  65%|██████▌   | 39/60 [51:45<27:55, 79.77s/it]"
     ]
    },
    {
     "name": "stdout",
     "output_type": "stream",
     "text": [
      "ACC@1: 43.75%,\n",
      "ACC@5: 74.54%,\n",
      "Macro-R: 25.05%,\n",
      "Macro-P: 23.17%,\n",
      "Macro-F1: 22.86%,\n",
      "val_loss 2.149\n"
     ]
    },
    {
     "name": "stderr",
     "output_type": "stream",
     "text": [
      "Testing/Validating: 100%|██████████| 48/48 [00:28<00:00,  1.70it/s]77s/it]\n",
      "Training, avg loss: 1.430:  67%|██████▋   | 40/60 [53:05<26:36, 79.81s/it]"
     ]
    },
    {
     "name": "stdout",
     "output_type": "stream",
     "text": [
      "ACC@1: 50.13%,\n",
      "ACC@5: 77.73%,\n",
      "Macro-R: 32.17%,\n",
      "Macro-P: 29.62%,\n",
      "Macro-F1: 29.63%,\n",
      "val_loss 1.874\n"
     ]
    },
    {
     "name": "stderr",
     "output_type": "stream",
     "text": [
      "Testing/Validating: 100%|██████████| 48/48 [00:28<00:00,  1.70it/s]81s/it]\n",
      "Training, avg loss: 1.365:  68%|██████▊   | 41/60 [54:25<25:17, 79.86s/it]"
     ]
    },
    {
     "name": "stdout",
     "output_type": "stream",
     "text": [
      "ACC@1: 46.29%,\n",
      "ACC@5: 77.08%,\n",
      "Macro-R: 28.46%,\n",
      "Macro-P: 26.42%,\n",
      "Macro-F1: 25.99%,\n",
      "val_loss 2.03\n"
     ]
    },
    {
     "name": "stderr",
     "output_type": "stream",
     "text": [
      "Testing/Validating: 100%|██████████| 48/48 [00:28<00:00,  1.70it/s]86s/it]\n",
      "Training, avg loss: 1.361:  70%|███████   | 42/60 [55:45<23:58, 79.90s/it]"
     ]
    },
    {
     "name": "stdout",
     "output_type": "stream",
     "text": [
      "ACC@1: 51.04%,\n",
      "ACC@5: 79.69%,\n",
      "Macro-R: 32.93%,\n",
      "Macro-P: 32.16%,\n",
      "Macro-F1: 31.26%,\n",
      "val_loss 1.864\n"
     ]
    },
    {
     "name": "stderr",
     "output_type": "stream",
     "text": [
      "Testing/Validating: 100%|██████████| 48/48 [00:28<00:00,  1.69it/s]90s/it]\n",
      "Training, avg loss: 1.324:  72%|███████▏  | 43/60 [57:05<22:37, 79.86s/it]"
     ]
    },
    {
     "name": "stdout",
     "output_type": "stream",
     "text": [
      "ACC@1: 52.73%,\n",
      "ACC@5: 79.49%,\n",
      "Macro-R: 36.61%,\n",
      "Macro-P: 34.05%,\n",
      "Macro-F1: 33.88%,\n",
      "val_loss 1.822\n"
     ]
    },
    {
     "name": "stderr",
     "output_type": "stream",
     "text": [
      "Testing/Validating: 100%|██████████| 48/48 [00:28<00:00,  1.69it/s]86s/it]\n",
      "Training, avg loss: 1.299:  73%|███████▎  | 44/60 [58:25<21:18, 79.93s/it]"
     ]
    },
    {
     "name": "stdout",
     "output_type": "stream",
     "text": [
      "ACC@1: 52.02%,\n",
      "ACC@5: 79.82%,\n",
      "Macro-R: 34.74%,\n",
      "Macro-P: 32.8%,\n",
      "Macro-F1: 32.34%,\n",
      "val_loss 1.819\n"
     ]
    },
    {
     "name": "stderr",
     "output_type": "stream",
     "text": [
      "Testing/Validating: 100%|██████████| 48/48 [00:28<00:00,  1.69it/s]93s/it]\n",
      "Training, avg loss: 1.258:  75%|███████▌  | 45/60 [59:45<19:58, 79.90s/it]"
     ]
    },
    {
     "name": "stdout",
     "output_type": "stream",
     "text": [
      "ACC@1: 55.08%,\n",
      "ACC@5: 79.62%,\n",
      "Macro-R: 36.94%,\n",
      "Macro-P: 35.47%,\n",
      "Macro-F1: 34.72%,\n",
      "val_loss 1.786\n"
     ]
    },
    {
     "name": "stderr",
     "output_type": "stream",
     "text": [
      "Testing/Validating: 100%|██████████| 48/48 [00:28<00:00,  1.70it/s]9.90s/it]\n",
      "Training, avg loss: 1.235:  77%|███████▋  | 46/60 [1:01:04<18:38, 79.88s/it]"
     ]
    },
    {
     "name": "stdout",
     "output_type": "stream",
     "text": [
      "ACC@1: 51.63%,\n",
      "ACC@5: 79.49%,\n",
      "Macro-R: 33.82%,\n",
      "Macro-P: 32.48%,\n",
      "Macro-F1: 31.72%,\n",
      "val_loss 1.823\n"
     ]
    },
    {
     "name": "stderr",
     "output_type": "stream",
     "text": [
      "Testing/Validating: 100%|██████████| 48/48 [00:28<00:00,  1.69it/s]9.88s/it]\n",
      "Training, avg loss: 1.213:  78%|███████▊  | 47/60 [1:02:24<17:18, 79.89s/it]"
     ]
    },
    {
     "name": "stdout",
     "output_type": "stream",
     "text": [
      "ACC@1: 53.65%,\n",
      "ACC@5: 80.66%,\n",
      "Macro-R: 35.67%,\n",
      "Macro-P: 35.02%,\n",
      "Macro-F1: 33.96%,\n",
      "val_loss 1.82\n"
     ]
    },
    {
     "name": "stderr",
     "output_type": "stream",
     "text": [
      "Testing/Validating: 100%|██████████| 48/48 [00:28<00:00,  1.68it/s]9.89s/it]\n",
      "Training, avg loss: 1.174:  80%|████████  | 48/60 [1:03:44<15:58, 79.90s/it]"
     ]
    },
    {
     "name": "stdout",
     "output_type": "stream",
     "text": [
      "ACC@1: 54.04%,\n",
      "ACC@5: 81.25%,\n",
      "Macro-R: 37.58%,\n",
      "Macro-P: 35.43%,\n",
      "Macro-F1: 35.11%,\n",
      "val_loss 1.79\n"
     ]
    },
    {
     "name": "stderr",
     "output_type": "stream",
     "text": [
      "Testing/Validating: 100%|██████████| 48/48 [00:28<00:00,  1.70it/s]9.90s/it]\n",
      "Training, avg loss: 1.157:  82%|████████▏ | 49/60 [1:05:04<14:39, 79.92s/it]"
     ]
    },
    {
     "name": "stdout",
     "output_type": "stream",
     "text": [
      "ACC@1: 53.32%,\n",
      "ACC@5: 80.79%,\n",
      "Macro-R: 36.04%,\n",
      "Macro-P: 33.82%,\n",
      "Macro-F1: 33.55%,\n",
      "val_loss 1.856\n"
     ]
    },
    {
     "name": "stderr",
     "output_type": "stream",
     "text": [
      "Testing/Validating: 100%|██████████| 48/48 [00:28<00:00,  1.70it/s]9.92s/it]\n",
      "Training, avg loss: 1.099:  83%|████████▎ | 50/60 [1:06:24<13:18, 79.89s/it]"
     ]
    },
    {
     "name": "stdout",
     "output_type": "stream",
     "text": [
      "ACC@1: 55.86%,\n",
      "ACC@5: 80.73%,\n",
      "Macro-R: 37.74%,\n",
      "Macro-P: 36.5%,\n",
      "Macro-F1: 35.69%,\n",
      "val_loss 1.754\n"
     ]
    },
    {
     "name": "stderr",
     "output_type": "stream",
     "text": [
      "Testing/Validating: 100%|██████████| 48/48 [00:28<00:00,  1.70it/s]9.89s/it]\n",
      "Training, avg loss: 0.986:  85%|████████▌ | 51/60 [1:07:44<11:59, 79.94s/it]"
     ]
    },
    {
     "name": "stdout",
     "output_type": "stream",
     "text": [
      "ACC@1: 56.77%,\n",
      "ACC@5: 83.01%,\n",
      "Macro-R: 38.12%,\n",
      "Macro-P: 36.91%,\n",
      "Macro-F1: 36.25%,\n",
      "val_loss 1.688\n"
     ]
    },
    {
     "name": "stderr",
     "output_type": "stream",
     "text": [
      "Testing/Validating: 100%|██████████| 48/48 [00:28<00:00,  1.68it/s]9.94s/it]\n",
      "Training, avg loss: 0.957:  87%|████████▋ | 52/60 [1:09:04<10:39, 79.96s/it]"
     ]
    },
    {
     "name": "stdout",
     "output_type": "stream",
     "text": [
      "ACC@1: 56.77%,\n",
      "ACC@5: 83.14%,\n",
      "Macro-R: 39.0%,\n",
      "Macro-P: 38.54%,\n",
      "Macro-F1: 37.43%,\n",
      "val_loss 1.698\n"
     ]
    },
    {
     "name": "stderr",
     "output_type": "stream",
     "text": [
      "Testing/Validating: 100%|██████████| 48/48 [00:28<00:00,  1.69it/s]9.96s/it]\n",
      "Training, avg loss: 0.951:  88%|████████▊ | 53/60 [1:10:24<09:19, 79.97s/it]"
     ]
    },
    {
     "name": "stdout",
     "output_type": "stream",
     "text": [
      "ACC@1: 58.07%,\n",
      "ACC@5: 82.03%,\n",
      "Macro-R: 41.26%,\n",
      "Macro-P: 40.16%,\n",
      "Macro-F1: 39.27%,\n",
      "val_loss 1.705\n"
     ]
    },
    {
     "name": "stderr",
     "output_type": "stream",
     "text": [
      "Testing/Validating: 100%|██████████| 48/48 [00:28<00:00,  1.70it/s]9.97s/it]\n",
      "Training, avg loss: 0.918:  90%|█████████ | 54/60 [1:11:44<07:59, 79.95s/it]"
     ]
    },
    {
     "name": "stdout",
     "output_type": "stream",
     "text": [
      "ACC@1: 58.92%,\n",
      "ACC@5: 83.79%,\n",
      "Macro-R: 40.99%,\n",
      "Macro-P: 40.09%,\n",
      "Macro-F1: 39.28%,\n",
      "val_loss 1.658\n"
     ]
    },
    {
     "name": "stderr",
     "output_type": "stream",
     "text": [
      "Testing/Validating: 100%|██████████| 48/48 [00:28<00:00,  1.70it/s]9.95s/it]\n",
      "Training, avg loss: 0.907:  92%|█████████▏| 55/60 [1:13:04<06:39, 79.94s/it]"
     ]
    },
    {
     "name": "stdout",
     "output_type": "stream",
     "text": [
      "ACC@1: 58.59%,\n",
      "ACC@5: 83.4%,\n",
      "Macro-R: 40.86%,\n",
      "Macro-P: 40.45%,\n",
      "Macro-F1: 39.39%,\n",
      "val_loss 1.685\n"
     ]
    },
    {
     "name": "stderr",
     "output_type": "stream",
     "text": [
      "Testing/Validating: 100%|██████████| 48/48 [00:28<00:00,  1.69it/s]9.94s/it]\n",
      "Training, avg loss: 0.885:  93%|█████████▎| 56/60 [1:14:24<05:19, 79.88s/it]"
     ]
    },
    {
     "name": "stdout",
     "output_type": "stream",
     "text": [
      "ACC@1: 57.81%,\n",
      "ACC@5: 83.66%,\n",
      "Macro-R: 40.66%,\n",
      "Macro-P: 39.7%,\n",
      "Macro-F1: 38.8%,\n",
      "val_loss 1.697\n"
     ]
    },
    {
     "name": "stderr",
     "output_type": "stream",
     "text": [
      "Testing/Validating: 100%|██████████| 48/48 [00:28<00:00,  1.69it/s]9.88s/it]\n",
      "Training, avg loss: 0.876:  95%|█████████▌| 57/60 [1:15:43<03:59, 79.82s/it]"
     ]
    },
    {
     "name": "stdout",
     "output_type": "stream",
     "text": [
      "ACC@1: 58.66%,\n",
      "ACC@5: 83.53%,\n",
      "Macro-R: 41.53%,\n",
      "Macro-P: 40.46%,\n",
      "Macro-F1: 39.76%,\n",
      "val_loss 1.692\n"
     ]
    },
    {
     "name": "stderr",
     "output_type": "stream",
     "text": [
      "Testing/Validating: 100%|██████████| 48/48 [00:28<00:00,  1.69it/s]9.82s/it]\n",
      "Training, avg loss: 0.853:  97%|█████████▋| 58/60 [1:17:03<02:39, 79.80s/it]"
     ]
    },
    {
     "name": "stdout",
     "output_type": "stream",
     "text": [
      "ACC@1: 58.66%,\n",
      "ACC@5: 83.79%,\n",
      "Macro-R: 41.25%,\n",
      "Macro-P: 40.16%,\n",
      "Macro-F1: 39.61%,\n",
      "val_loss 1.69\n"
     ]
    },
    {
     "name": "stderr",
     "output_type": "stream",
     "text": [
      "Testing/Validating: 100%|██████████| 48/48 [00:28<00:00,  1.69it/s]9.80s/it]\n",
      "Training, avg loss: 0.841:  98%|█████████▊| 59/60 [1:18:23<01:19, 79.76s/it]"
     ]
    },
    {
     "name": "stdout",
     "output_type": "stream",
     "text": [
      "ACC@1: 58.4%,\n",
      "ACC@5: 83.66%,\n",
      "Macro-R: 41.67%,\n",
      "Macro-P: 39.91%,\n",
      "Macro-F1: 39.52%,\n",
      "val_loss 1.67\n"
     ]
    },
    {
     "name": "stderr",
     "output_type": "stream",
     "text": [
      "Testing/Validating: 100%|██████████| 48/48 [00:28<00:00,  1.71it/s]9.76s/it]\n",
      "Training, avg loss: 0.823: 100%|██████████| 60/60 [1:19:42<00:00, 79.71s/it]"
     ]
    },
    {
     "name": "stdout",
     "output_type": "stream",
     "text": [
      "ACC@1: 58.14%,\n",
      "ACC@5: 82.68%,\n",
      "Macro-R: 42.26%,\n",
      "Macro-P: 40.44%,\n",
      "Macro-F1: 39.95%,\n",
      "val_loss 1.707\n"
     ]
    },
    {
     "name": "stderr",
     "output_type": "stream",
     "text": [
      "\n"
     ]
    }
   ],
   "source": [
    "file_path = f\"saved_model/{SAVE_NAME}.{downstreamtask}\"\n",
    "if os.path.exists(file_path):\n",
    "    print(f\"Loading model {file_path}\")\n",
    "    trajfm.load_state_dict(torch.load(os.path.join(MODEL_CACHE_DIR, f'{SAVE_NAME}.{downstreamtask}'), map_location=device))\n",
    "else:\n",
    "    print(\"Model not found, starting new\")\n",
    "\n",
    "train_log, saved_model_state_dict = train_user_model(model=trajfm, \n",
    "                                                    train_dataloader=train_dataloader, \n",
    "                                                    val_dataloader=val_dataloader,\n",
    "                                                    device = device, \n",
    "                                                    **setting['finetune']['config'],\n",
    "                                                    data_summary = data_summary)\n",
    "\n",
    "if setting['finetune'].get('save', False):\n",
    "    # save model\n",
    "    utils.create_if_noexists(MODEL_CACHE_DIR)\n",
    "    torch.save(saved_model_state_dict, os.path.join(MODEL_CACHE_DIR, f'{SAVE_NAME}.{downstreamtask}'))\n",
    "    \n",
    "    # save log\n",
    "    log_dir = os.path.join(LOG_SAVE_DIR, SAVE_NAME)\n",
    "    utils.create_if_noexists(log_dir)\n",
    "    log_path = os.path.join(log_dir, f'{SAVE_NAME}_{downstreamtask}.csv')\n",
    "    file_exists = os.path.exists(log_path)\n",
    "    train_log.to_csv(log_path, mode='a', header=not file_exists, index=False)"
   ]
  },
  {
   "cell_type": "code",
   "execution_count": 9,
   "id": "abdedca1",
   "metadata": {},
   "outputs": [
    {
     "name": "stderr",
     "output_type": "stream",
     "text": [
      "Testing/Validating: 100%|██████████| 48/48 [00:28<00:00,  1.71it/s]"
     ]
    },
    {
     "name": "stdout",
     "output_type": "stream",
     "text": [
      "ACC@1: 58.05%,\n",
      "ACC@5: 82.58%,\n",
      "Macro-R: 42.14%,\n",
      "Macro-P: 40.75%,\n",
      "Macro-F1: 40.14%,\n"
     ]
    },
    {
     "name": "stderr",
     "output_type": "stream",
     "text": [
      "\n"
     ]
    }
   ],
   "source": [
    "metrics, _ = test_user_model(model=trajfm, dataloader=test_dataloader, device = device)\n",
    "for key, value in metrics.items():\n",
    "    print(f\"{key}: {round(value * 100, 2)}%,\")"
   ]
  },
  {
   "cell_type": "code",
   "execution_count": 10,
   "id": "f798cf97",
   "metadata": {},
   "outputs": [],
   "source": [
    "df = pd.DataFrame([{\n",
    "    \"Model\": f\"{SAVE_NAME}\",\n",
    "    **{key: round(value * 100, 2) for key, value in metrics.items()}\n",
    "}])\n",
    "\n",
    "csv_path = \"logs/test.csv\"\n",
    "if os.path.exists(csv_path):\n",
    "    df.to_csv(csv_path, mode='a', header=False, index=False)\n",
    "else:\n",
    "    df.to_csv(csv_path, index=False)"
   ]
  }
 ],
 "metadata": {
  "kernelspec": {
   "display_name": "cloudspace",
   "language": "python",
   "name": "python3"
  },
  "language_info": {
   "codemirror_mode": {
    "name": "ipython",
    "version": 3
   },
   "file_extension": ".py",
   "mimetype": "text/x-python",
   "name": "python",
   "nbconvert_exporter": "python",
   "pygments_lexer": "ipython3",
   "version": "3.10.10"
  }
 },
 "nbformat": 4,
 "nbformat_minor": 5
}
